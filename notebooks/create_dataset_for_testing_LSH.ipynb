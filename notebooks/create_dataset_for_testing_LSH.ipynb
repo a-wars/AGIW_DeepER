{
 "cells": [
  {
   "cell_type": "markdown",
   "metadata": {},
   "source": [
    "# Create LSH dataset for testing purpose\n",
    "\n",
    "### Import libraries"
   ]
  },
  {
   "cell_type": "code",
   "execution_count": 1,
   "metadata": {},
   "outputs": [],
   "source": [
    "%matplotlib inline\n",
    "\n",
    "import sys\n",
    "sys.path.append('../')"
   ]
  },
  {
   "cell_type": "code",
   "execution_count": 2,
   "metadata": {},
   "outputs": [
    {
     "name": "stderr",
     "output_type": "stream",
     "text": [
      "Using TensorFlow backend.\n"
     ]
    }
   ],
   "source": [
    "import time\n",
    "import pprint\n",
    "import os\n",
    "import numpy as np\n",
    "import pandas as pd\n",
    "from sklearn.metrics import confusion_matrix\n",
    "from sklearn.metrics import f1_score\n",
    "from keras.callbacks import EarlyStopping\n",
    "from IPython.display import SVG\n",
    "from keras.utils.vis_utils import model_to_dot\n",
    "import matplotlib.pyplot as plt\n",
    "import seaborn as sns\n",
    "from deeper_model import build_model\n",
    "from deeper_utils import preprocess_data"
   ]
  },
  {
   "cell_type": "markdown",
   "metadata": {},
   "source": [
    "### Read the dataset"
   ]
  },
  {
   "cell_type": "code",
   "execution_count": 3,
   "metadata": {},
   "outputs": [],
   "source": [
    "DATASET_NAME = 'DBLP-Scholar'"
   ]
  },
  {
   "cell_type": "code",
   "execution_count": 4,
   "metadata": {},
   "outputs": [
    {
     "name": "stderr",
     "output_type": "stream",
     "text": [
      "\n"
     ]
    }
   ],
   "source": [
    "trainData, testData, valData, embeddingMatrix, wordsWithNoEmbeddings = preprocess_data(\n",
    "    DATASET_NAME, baseDir = '..', embeddingDir='fasttext-model', datasetDir='datasets', maxSequenceLength=100)"
   ]
  },
  {
   "cell_type": "code",
   "execution_count": 5,
   "metadata": {},
   "outputs": [],
   "source": [
    "leftTableTrainData, rightTableTrainData, trainLabels = trainData\n",
    "leftTableTestData, rightTableTestData, testLabels = testData\n",
    "leftTableValData, rightTableValData, valLabels = valData"
   ]
  },
  {
   "cell_type": "markdown",
   "metadata": {},
   "source": [
    "### Build the DeepER model "
   ]
  },
  {
   "cell_type": "code",
   "execution_count": 6,
   "metadata": {},
   "outputs": [
    {
     "name": "stdout",
     "output_type": "stream",
     "text": [
      "WARNING:tensorflow:From /Users/jgmathew/miniconda3/envs/agiw-env/lib/python3.7/site-packages/tensorflow/python/framework/op_def_library.py:263: colocate_with (from tensorflow.python.framework.ops) is deprecated and will be removed in a future version.\n",
      "Instructions for updating:\n",
      "Colocations handled automatically by placer.\n",
      "WARNING:tensorflow:From /Users/jgmathew/miniconda3/envs/agiw-env/lib/python3.7/site-packages/keras/backend/tensorflow_backend.py:3445: calling dropout (from tensorflow.python.ops.nn_ops) with keep_prob is deprecated and will be removed in a future version.\n",
      "Instructions for updating:\n",
      "Please use `rate` instead of `keep_prob`. Rate should be set to `rate = 1 - keep_prob`.\n",
      "WARNING:tensorflow:From /Users/jgmathew/miniconda3/envs/agiw-env/lib/python3.7/site-packages/tensorflow/python/ops/math_ops.py:3066: to_int32 (from tensorflow.python.ops.math_ops) is deprecated and will be removed in a future version.\n",
      "Instructions for updating:\n",
      "Use tf.cast instead.\n",
      "__________________________________________________________________________________________________\n",
      "Layer (type)                    Output Shape         Param #     Connected to                     \n",
      "==================================================================================================\n",
      "input_1 (InputLayer)            (None, 100)          0                                            \n",
      "__________________________________________________________________________________________________\n",
      "input_2 (InputLayer)            (None, 100)          0                                            \n",
      "__________________________________________________________________________________________________\n",
      "embedding_1 (Embedding)         (None, 100, 300)     4626900     input_1[0][0]                    \n",
      "                                                                 input_2[0][0]                    \n",
      "__________________________________________________________________________________________________\n",
      "bidirectional_1 (Bidirectional) (None, 150)          225600      embedding_1[0][0]                \n",
      "                                                                 embedding_1[1][0]                \n",
      "__________________________________________________________________________________________________\n",
      "subtract_1 (Subtract)           (None, 150)          0           bidirectional_1[0][0]            \n",
      "                                                                 bidirectional_1[1][0]            \n",
      "__________________________________________________________________________________________________\n",
      "dense_1 (Dense)                 (None, 16)           2416        subtract_1[0][0]                 \n",
      "__________________________________________________________________________________________________\n",
      "dense_2 (Dense)                 (None, 8)            136         dense_1[0][0]                    \n",
      "__________________________________________________________________________________________________\n",
      "dense_3 (Dense)                 (None, 2)            18          dense_2[0][0]                    \n",
      "==================================================================================================\n",
      "Total params: 4,855,070\n",
      "Trainable params: 4,855,070\n",
      "Non-trainable params: 0\n",
      "__________________________________________________________________________________________________\n"
     ]
    }
   ],
   "source": [
    "from keras.models import load_model\n",
    "\n",
    "model = load_model('../models/' + DATASET_NAME + '.h5')\n",
    "model.summary()"
   ]
  },
  {
   "cell_type": "markdown",
   "metadata": {},
   "source": [
    "### Plot DeepER architecture"
   ]
  },
  {
   "cell_type": "code",
   "execution_count": 7,
   "metadata": {},
   "outputs": [
    {
     "data": {
      "image/svg+xml": [
       "<svg height=\"553pt\" viewBox=\"0.00 0.00 564.00 553.00\" width=\"564pt\" xmlns=\"http://www.w3.org/2000/svg\" xmlns:xlink=\"http://www.w3.org/1999/xlink\">\n",
       "<g class=\"graph\" id=\"graph0\" transform=\"scale(1 1) rotate(0) translate(4 549)\">\n",
       "<title>G</title>\n",
       "<polygon fill=\"#ffffff\" points=\"-4,4 -4,-549 560,-549 560,4 -4,4\" stroke=\"transparent\"/>\n",
       "<!-- 112334853288 -->\n",
       "<g class=\"node\" id=\"node1\">\n",
       "<title>112334853288</title>\n",
       "<polygon fill=\"none\" points=\"0,-498.5 0,-544.5 269,-544.5 269,-498.5 0,-498.5\" stroke=\"#000000\"/>\n",
       "<text fill=\"#000000\" font-family=\"Times,serif\" font-size=\"14.00\" text-anchor=\"middle\" x=\"64.5\" y=\"-517.8\">input_1: InputLayer</text>\n",
       "<polyline fill=\"none\" points=\"129,-498.5 129,-544.5 \" stroke=\"#000000\"/>\n",
       "<text fill=\"#000000\" font-family=\"Times,serif\" font-size=\"14.00\" text-anchor=\"middle\" x=\"157\" y=\"-529.3\">input:</text>\n",
       "<polyline fill=\"none\" points=\"129,-521.5 185,-521.5 \" stroke=\"#000000\"/>\n",
       "<text fill=\"#000000\" font-family=\"Times,serif\" font-size=\"14.00\" text-anchor=\"middle\" x=\"157\" y=\"-506.3\">output:</text>\n",
       "<polyline fill=\"none\" points=\"185,-498.5 185,-544.5 \" stroke=\"#000000\"/>\n",
       "<text fill=\"#000000\" font-family=\"Times,serif\" font-size=\"14.00\" text-anchor=\"middle\" x=\"227\" y=\"-529.3\">(None, 100)</text>\n",
       "<polyline fill=\"none\" points=\"185,-521.5 269,-521.5 \" stroke=\"#000000\"/>\n",
       "<text fill=\"#000000\" font-family=\"Times,serif\" font-size=\"14.00\" text-anchor=\"middle\" x=\"227\" y=\"-506.3\">(None, 100)</text>\n",
       "</g>\n",
       "<!-- 112333813464 -->\n",
       "<g class=\"node\" id=\"node3\">\n",
       "<title>112333813464</title>\n",
       "<polygon fill=\"none\" points=\"111,-415.5 111,-461.5 444,-461.5 444,-415.5 111,-415.5\" stroke=\"#000000\"/>\n",
       "<text fill=\"#000000\" font-family=\"Times,serif\" font-size=\"14.00\" text-anchor=\"middle\" x=\"193.5\" y=\"-434.8\">embedding_1: Embedding</text>\n",
       "<polyline fill=\"none\" points=\"276,-415.5 276,-461.5 \" stroke=\"#000000\"/>\n",
       "<text fill=\"#000000\" font-family=\"Times,serif\" font-size=\"14.00\" text-anchor=\"middle\" x=\"304\" y=\"-446.3\">input:</text>\n",
       "<polyline fill=\"none\" points=\"276,-438.5 332,-438.5 \" stroke=\"#000000\"/>\n",
       "<text fill=\"#000000\" font-family=\"Times,serif\" font-size=\"14.00\" text-anchor=\"middle\" x=\"304\" y=\"-423.3\">output:</text>\n",
       "<polyline fill=\"none\" points=\"332,-415.5 332,-461.5 \" stroke=\"#000000\"/>\n",
       "<text fill=\"#000000\" font-family=\"Times,serif\" font-size=\"14.00\" text-anchor=\"middle\" x=\"388\" y=\"-446.3\">(None, 100)</text>\n",
       "<polyline fill=\"none\" points=\"332,-438.5 444,-438.5 \" stroke=\"#000000\"/>\n",
       "<text fill=\"#000000\" font-family=\"Times,serif\" font-size=\"14.00\" text-anchor=\"middle\" x=\"388\" y=\"-423.3\">(None, 100, 300)</text>\n",
       "</g>\n",
       "<!-- 112334853288&#45;&gt;112333813464 -->\n",
       "<g class=\"edge\" id=\"edge1\">\n",
       "<title>112334853288-&gt;112333813464</title>\n",
       "<path d=\"M174.3335,-498.3799C191.0826,-488.6583 210.7371,-477.2505 228.3723,-467.0147\" fill=\"none\" stroke=\"#000000\"/>\n",
       "<polygon fill=\"#000000\" points=\"230.4924,-469.831 237.3842,-461.784 226.9785,-463.7769 230.4924,-469.831\" stroke=\"#000000\"/>\n",
       "</g>\n",
       "<!-- 112333815144 -->\n",
       "<g class=\"node\" id=\"node2\">\n",
       "<title>112333815144</title>\n",
       "<polygon fill=\"none\" points=\"287,-498.5 287,-544.5 556,-544.5 556,-498.5 287,-498.5\" stroke=\"#000000\"/>\n",
       "<text fill=\"#000000\" font-family=\"Times,serif\" font-size=\"14.00\" text-anchor=\"middle\" x=\"351.5\" y=\"-517.8\">input_2: InputLayer</text>\n",
       "<polyline fill=\"none\" points=\"416,-498.5 416,-544.5 \" stroke=\"#000000\"/>\n",
       "<text fill=\"#000000\" font-family=\"Times,serif\" font-size=\"14.00\" text-anchor=\"middle\" x=\"444\" y=\"-529.3\">input:</text>\n",
       "<polyline fill=\"none\" points=\"416,-521.5 472,-521.5 \" stroke=\"#000000\"/>\n",
       "<text fill=\"#000000\" font-family=\"Times,serif\" font-size=\"14.00\" text-anchor=\"middle\" x=\"444\" y=\"-506.3\">output:</text>\n",
       "<polyline fill=\"none\" points=\"472,-498.5 472,-544.5 \" stroke=\"#000000\"/>\n",
       "<text fill=\"#000000\" font-family=\"Times,serif\" font-size=\"14.00\" text-anchor=\"middle\" x=\"514\" y=\"-529.3\">(None, 100)</text>\n",
       "<polyline fill=\"none\" points=\"472,-521.5 556,-521.5 \" stroke=\"#000000\"/>\n",
       "<text fill=\"#000000\" font-family=\"Times,serif\" font-size=\"14.00\" text-anchor=\"middle\" x=\"514\" y=\"-506.3\">(None, 100)</text>\n",
       "</g>\n",
       "<!-- 112333815144&#45;&gt;112333813464 -->\n",
       "<g class=\"edge\" id=\"edge2\">\n",
       "<title>112333815144-&gt;112333813464</title>\n",
       "<path d=\"M381.388,-498.3799C364.4508,-488.6175 344.5634,-477.1546 326.7476,-466.8857\" fill=\"none\" stroke=\"#000000\"/>\n",
       "<polygon fill=\"#000000\" points=\"328.0581,-463.6014 317.6464,-461.6399 324.5625,-469.6661 328.0581,-463.6014\" stroke=\"#000000\"/>\n",
       "</g>\n",
       "<!-- 112334854576 -->\n",
       "<g class=\"node\" id=\"node4\">\n",
       "<title>112334854576</title>\n",
       "<polygon fill=\"none\" points=\"55.5,-332.5 55.5,-378.5 499.5,-378.5 499.5,-332.5 55.5,-332.5\" stroke=\"#000000\"/>\n",
       "<text fill=\"#000000\" font-family=\"Times,serif\" font-size=\"14.00\" text-anchor=\"middle\" x=\"193.5\" y=\"-351.8\">bidirectional_1(lstm_1): Bidirectional(LSTM)</text>\n",
       "<polyline fill=\"none\" points=\"331.5,-332.5 331.5,-378.5 \" stroke=\"#000000\"/>\n",
       "<text fill=\"#000000\" font-family=\"Times,serif\" font-size=\"14.00\" text-anchor=\"middle\" x=\"359.5\" y=\"-363.3\">input:</text>\n",
       "<polyline fill=\"none\" points=\"331.5,-355.5 387.5,-355.5 \" stroke=\"#000000\"/>\n",
       "<text fill=\"#000000\" font-family=\"Times,serif\" font-size=\"14.00\" text-anchor=\"middle\" x=\"359.5\" y=\"-340.3\">output:</text>\n",
       "<polyline fill=\"none\" points=\"387.5,-332.5 387.5,-378.5 \" stroke=\"#000000\"/>\n",
       "<text fill=\"#000000\" font-family=\"Times,serif\" font-size=\"14.00\" text-anchor=\"middle\" x=\"443.5\" y=\"-363.3\">(None, 100, 300)</text>\n",
       "<polyline fill=\"none\" points=\"387.5,-355.5 499.5,-355.5 \" stroke=\"#000000\"/>\n",
       "<text fill=\"#000000\" font-family=\"Times,serif\" font-size=\"14.00\" text-anchor=\"middle\" x=\"443.5\" y=\"-340.3\">(None, 150)</text>\n",
       "</g>\n",
       "<!-- 112333813464&#45;&gt;112334854576 -->\n",
       "<g class=\"edge\" id=\"edge3\">\n",
       "<title>112333813464-&gt;112334854576</title>\n",
       "<path d=\"M277.5,-415.3799C277.5,-407.1745 277.5,-397.7679 277.5,-388.8786\" fill=\"none\" stroke=\"#000000\"/>\n",
       "<polygon fill=\"#000000\" points=\"281.0001,-388.784 277.5,-378.784 274.0001,-388.784 281.0001,-388.784\" stroke=\"#000000\"/>\n",
       "</g>\n",
       "<!-- 4608108752 -->\n",
       "<g class=\"node\" id=\"node5\">\n",
       "<title>4608108752</title>\n",
       "<polygon fill=\"none\" points=\"101,-249.5 101,-295.5 454,-295.5 454,-249.5 101,-249.5\" stroke=\"#000000\"/>\n",
       "<text fill=\"#000000\" font-family=\"Times,serif\" font-size=\"14.00\" text-anchor=\"middle\" x=\"165.5\" y=\"-268.8\">subtract_1: Subtract</text>\n",
       "<polyline fill=\"none\" points=\"230,-249.5 230,-295.5 \" stroke=\"#000000\"/>\n",
       "<text fill=\"#000000\" font-family=\"Times,serif\" font-size=\"14.00\" text-anchor=\"middle\" x=\"258\" y=\"-280.3\">input:</text>\n",
       "<polyline fill=\"none\" points=\"230,-272.5 286,-272.5 \" stroke=\"#000000\"/>\n",
       "<text fill=\"#000000\" font-family=\"Times,serif\" font-size=\"14.00\" text-anchor=\"middle\" x=\"258\" y=\"-257.3\">output:</text>\n",
       "<polyline fill=\"none\" points=\"286,-249.5 286,-295.5 \" stroke=\"#000000\"/>\n",
       "<text fill=\"#000000\" font-family=\"Times,serif\" font-size=\"14.00\" text-anchor=\"middle\" x=\"370\" y=\"-280.3\">[(None, 150), (None, 150)]</text>\n",
       "<polyline fill=\"none\" points=\"286,-272.5 454,-272.5 \" stroke=\"#000000\"/>\n",
       "<text fill=\"#000000\" font-family=\"Times,serif\" font-size=\"14.00\" text-anchor=\"middle\" x=\"370\" y=\"-257.3\">(None, 150)</text>\n",
       "</g>\n",
       "<!-- 112334854576&#45;&gt;4608108752 -->\n",
       "<g class=\"edge\" id=\"edge5\">\n",
       "<title>112334854576-&gt;4608108752</title>\n",
       "<path d=\"M277.5,-332.3799C277.5,-324.1745 277.5,-314.7679 277.5,-305.8786\" fill=\"none\" stroke=\"#000000\"/>\n",
       "<polygon fill=\"#000000\" points=\"281.0001,-305.784 277.5,-295.784 274.0001,-305.784 281.0001,-305.784\" stroke=\"#000000\"/>\n",
       "</g>\n",
       "<!-- 4608108696 -->\n",
       "<g class=\"node\" id=\"node6\">\n",
       "<title>4608108696</title>\n",
       "<polygon fill=\"none\" points=\"155,-166.5 155,-212.5 400,-212.5 400,-166.5 155,-166.5\" stroke=\"#000000\"/>\n",
       "<text fill=\"#000000\" font-family=\"Times,serif\" font-size=\"14.00\" text-anchor=\"middle\" x=\"207.5\" y=\"-185.8\">dense_1: Dense</text>\n",
       "<polyline fill=\"none\" points=\"260,-166.5 260,-212.5 \" stroke=\"#000000\"/>\n",
       "<text fill=\"#000000\" font-family=\"Times,serif\" font-size=\"14.00\" text-anchor=\"middle\" x=\"288\" y=\"-197.3\">input:</text>\n",
       "<polyline fill=\"none\" points=\"260,-189.5 316,-189.5 \" stroke=\"#000000\"/>\n",
       "<text fill=\"#000000\" font-family=\"Times,serif\" font-size=\"14.00\" text-anchor=\"middle\" x=\"288\" y=\"-174.3\">output:</text>\n",
       "<polyline fill=\"none\" points=\"316,-166.5 316,-212.5 \" stroke=\"#000000\"/>\n",
       "<text fill=\"#000000\" font-family=\"Times,serif\" font-size=\"14.00\" text-anchor=\"middle\" x=\"358\" y=\"-197.3\">(None, 150)</text>\n",
       "<polyline fill=\"none\" points=\"316,-189.5 400,-189.5 \" stroke=\"#000000\"/>\n",
       "<text fill=\"#000000\" font-family=\"Times,serif\" font-size=\"14.00\" text-anchor=\"middle\" x=\"358\" y=\"-174.3\">(None, 16)</text>\n",
       "</g>\n",
       "<!-- 4608108752&#45;&gt;4608108696 -->\n",
       "<g class=\"edge\" id=\"edge7\">\n",
       "<title>4608108752-&gt;4608108696</title>\n",
       "<path d=\"M277.5,-249.3799C277.5,-241.1745 277.5,-231.7679 277.5,-222.8786\" fill=\"none\" stroke=\"#000000\"/>\n",
       "<polygon fill=\"#000000\" points=\"281.0001,-222.784 277.5,-212.784 274.0001,-222.784 281.0001,-222.784\" stroke=\"#000000\"/>\n",
       "</g>\n",
       "<!-- 119862898928 -->\n",
       "<g class=\"node\" id=\"node7\">\n",
       "<title>119862898928</title>\n",
       "<polygon fill=\"none\" points=\"158.5,-83.5 158.5,-129.5 396.5,-129.5 396.5,-83.5 158.5,-83.5\" stroke=\"#000000\"/>\n",
       "<text fill=\"#000000\" font-family=\"Times,serif\" font-size=\"14.00\" text-anchor=\"middle\" x=\"211\" y=\"-102.8\">dense_2: Dense</text>\n",
       "<polyline fill=\"none\" points=\"263.5,-83.5 263.5,-129.5 \" stroke=\"#000000\"/>\n",
       "<text fill=\"#000000\" font-family=\"Times,serif\" font-size=\"14.00\" text-anchor=\"middle\" x=\"291.5\" y=\"-114.3\">input:</text>\n",
       "<polyline fill=\"none\" points=\"263.5,-106.5 319.5,-106.5 \" stroke=\"#000000\"/>\n",
       "<text fill=\"#000000\" font-family=\"Times,serif\" font-size=\"14.00\" text-anchor=\"middle\" x=\"291.5\" y=\"-91.3\">output:</text>\n",
       "<polyline fill=\"none\" points=\"319.5,-83.5 319.5,-129.5 \" stroke=\"#000000\"/>\n",
       "<text fill=\"#000000\" font-family=\"Times,serif\" font-size=\"14.00\" text-anchor=\"middle\" x=\"358\" y=\"-114.3\">(None, 16)</text>\n",
       "<polyline fill=\"none\" points=\"319.5,-106.5 396.5,-106.5 \" stroke=\"#000000\"/>\n",
       "<text fill=\"#000000\" font-family=\"Times,serif\" font-size=\"14.00\" text-anchor=\"middle\" x=\"358\" y=\"-91.3\">(None, 8)</text>\n",
       "</g>\n",
       "<!-- 4608108696&#45;&gt;119862898928 -->\n",
       "<g class=\"edge\" id=\"edge8\">\n",
       "<title>4608108696-&gt;119862898928</title>\n",
       "<path d=\"M277.5,-166.3799C277.5,-158.1745 277.5,-148.7679 277.5,-139.8786\" fill=\"none\" stroke=\"#000000\"/>\n",
       "<polygon fill=\"#000000\" points=\"281.0001,-139.784 277.5,-129.784 274.0001,-139.784 281.0001,-139.784\" stroke=\"#000000\"/>\n",
       "</g>\n",
       "<!-- 119862899264 -->\n",
       "<g class=\"node\" id=\"node8\">\n",
       "<title>119862899264</title>\n",
       "<polygon fill=\"none\" points=\"162,-.5 162,-46.5 393,-46.5 393,-.5 162,-.5\" stroke=\"#000000\"/>\n",
       "<text fill=\"#000000\" font-family=\"Times,serif\" font-size=\"14.00\" text-anchor=\"middle\" x=\"214.5\" y=\"-19.8\">dense_3: Dense</text>\n",
       "<polyline fill=\"none\" points=\"267,-.5 267,-46.5 \" stroke=\"#000000\"/>\n",
       "<text fill=\"#000000\" font-family=\"Times,serif\" font-size=\"14.00\" text-anchor=\"middle\" x=\"295\" y=\"-31.3\">input:</text>\n",
       "<polyline fill=\"none\" points=\"267,-23.5 323,-23.5 \" stroke=\"#000000\"/>\n",
       "<text fill=\"#000000\" font-family=\"Times,serif\" font-size=\"14.00\" text-anchor=\"middle\" x=\"295\" y=\"-8.3\">output:</text>\n",
       "<polyline fill=\"none\" points=\"323,-.5 323,-46.5 \" stroke=\"#000000\"/>\n",
       "<text fill=\"#000000\" font-family=\"Times,serif\" font-size=\"14.00\" text-anchor=\"middle\" x=\"358\" y=\"-31.3\">(None, 8)</text>\n",
       "<polyline fill=\"none\" points=\"323,-23.5 393,-23.5 \" stroke=\"#000000\"/>\n",
       "<text fill=\"#000000\" font-family=\"Times,serif\" font-size=\"14.00\" text-anchor=\"middle\" x=\"358\" y=\"-8.3\">(None, 2)</text>\n",
       "</g>\n",
       "<!-- 119862898928&#45;&gt;119862899264 -->\n",
       "<g class=\"edge\" id=\"edge9\">\n",
       "<title>119862898928-&gt;119862899264</title>\n",
       "<path d=\"M277.5,-83.3799C277.5,-75.1745 277.5,-65.7679 277.5,-56.8786\" fill=\"none\" stroke=\"#000000\"/>\n",
       "<polygon fill=\"#000000\" points=\"281.0001,-56.784 277.5,-46.784 274.0001,-56.784 281.0001,-56.784\" stroke=\"#000000\"/>\n",
       "</g>\n",
       "</g>\n",
       "</svg>"
      ],
      "text/plain": [
       "<IPython.core.display.SVG object>"
      ]
     },
     "execution_count": 7,
     "metadata": {},
     "output_type": "execute_result"
    }
   ],
   "source": [
    "SVG(model_to_dot(model, show_shapes=True).create(prog='dot', format='svg'))"
   ]
  },
  {
   "cell_type": "markdown",
   "metadata": {},
   "source": [
    "### Testing LSH\n",
    "Build a new NN that given two inputs (a record from the left table and another one from the right table) outputs their corresponding embeddings."
   ]
  },
  {
   "cell_type": "code",
   "execution_count": 8,
   "metadata": {},
   "outputs": [
    {
     "name": "stdout",
     "output_type": "stream",
     "text": [
      "{0: <keras.engine.input_layer.InputLayer object at 0x1a27add4a8>,\n",
      " 1: <keras.engine.input_layer.InputLayer object at 0x1a279dfd68>,\n",
      " 2: <keras.layers.embeddings.Embedding object at 0x1a279df6d8>,\n",
      " 3: <keras.layers.wrappers.Bidirectional object at 0x1a27add9b0>,\n",
      " 4: <keras.layers.merge.Subtract object at 0x112aa28d0>,\n",
      " 5: <keras.layers.core.Dense object at 0x112aa2898>,\n",
      " 6: <keras.layers.core.Dense object at 0x1be862b0f0>,\n",
      " 7: <keras.layers.core.Dense object at 0x1be862b240>}\n"
     ]
    }
   ],
   "source": [
    "import pprint\n",
    "\n",
    "indexToLayerMap = {i: v for i, v in enumerate(model.layers)}\n",
    "\n",
    "pprint.pprint(indexToLayerMap)"
   ]
  },
  {
   "cell_type": "code",
   "execution_count": 9,
   "metadata": {},
   "outputs": [
    {
     "name": "stdout",
     "output_type": "stream",
     "text": [
      "__________________________________________________________________________________________________\n",
      "Layer (type)                    Output Shape         Param #     Connected to                     \n",
      "==================================================================================================\n",
      "input_1 (InputLayer)            (None, 100)          0                                            \n",
      "__________________________________________________________________________________________________\n",
      "input_2 (InputLayer)            (None, 100)          0                                            \n",
      "__________________________________________________________________________________________________\n",
      "embedding_1 (Embedding)         (None, 100, 300)     4626900     input_1[0][0]                    \n",
      "                                                                 input_2[0][0]                    \n",
      "__________________________________________________________________________________________________\n",
      "bidirectional_1 (Bidirectional) (None, 150)          225600      embedding_1[0][0]                \n",
      "                                                                 embedding_1[1][0]                \n",
      "==================================================================================================\n",
      "Total params: 4,852,500\n",
      "Trainable params: 4,852,500\n",
      "Non-trainable params: 0\n",
      "__________________________________________________________________________________________________\n"
     ]
    }
   ],
   "source": [
    "from keras.models import Model\n",
    "\n",
    "recordToEmbeddingNN = Model(inputs=model.input, \n",
    "                          outputs= [model.get_layer(index=3).get_output_at(0), model.get_layer(index=3).get_output_at(1)])\n",
    "\n",
    "recordToEmbeddingNN.summary()"
   ]
  },
  {
   "cell_type": "code",
   "execution_count": 10,
   "metadata": {},
   "outputs": [
    {
     "data": {
      "image/svg+xml": [
       "<svg height=\"221pt\" viewBox=\"0.00 0.00 564.00 221.00\" width=\"564pt\" xmlns=\"http://www.w3.org/2000/svg\" xmlns:xlink=\"http://www.w3.org/1999/xlink\">\n",
       "<g class=\"graph\" id=\"graph0\" transform=\"scale(1 1) rotate(0) translate(4 217)\">\n",
       "<title>G</title>\n",
       "<polygon fill=\"#ffffff\" points=\"-4,4 -4,-217 560,-217 560,4 -4,4\" stroke=\"transparent\"/>\n",
       "<!-- 112334853288 -->\n",
       "<g class=\"node\" id=\"node1\">\n",
       "<title>112334853288</title>\n",
       "<polygon fill=\"none\" points=\"0,-166.5 0,-212.5 269,-212.5 269,-166.5 0,-166.5\" stroke=\"#000000\"/>\n",
       "<text fill=\"#000000\" font-family=\"Times,serif\" font-size=\"14.00\" text-anchor=\"middle\" x=\"64.5\" y=\"-185.8\">input_1: InputLayer</text>\n",
       "<polyline fill=\"none\" points=\"129,-166.5 129,-212.5 \" stroke=\"#000000\"/>\n",
       "<text fill=\"#000000\" font-family=\"Times,serif\" font-size=\"14.00\" text-anchor=\"middle\" x=\"157\" y=\"-197.3\">input:</text>\n",
       "<polyline fill=\"none\" points=\"129,-189.5 185,-189.5 \" stroke=\"#000000\"/>\n",
       "<text fill=\"#000000\" font-family=\"Times,serif\" font-size=\"14.00\" text-anchor=\"middle\" x=\"157\" y=\"-174.3\">output:</text>\n",
       "<polyline fill=\"none\" points=\"185,-166.5 185,-212.5 \" stroke=\"#000000\"/>\n",
       "<text fill=\"#000000\" font-family=\"Times,serif\" font-size=\"14.00\" text-anchor=\"middle\" x=\"227\" y=\"-197.3\">(None, 100)</text>\n",
       "<polyline fill=\"none\" points=\"185,-189.5 269,-189.5 \" stroke=\"#000000\"/>\n",
       "<text fill=\"#000000\" font-family=\"Times,serif\" font-size=\"14.00\" text-anchor=\"middle\" x=\"227\" y=\"-174.3\">(None, 100)</text>\n",
       "</g>\n",
       "<!-- 112333813464 -->\n",
       "<g class=\"node\" id=\"node3\">\n",
       "<title>112333813464</title>\n",
       "<polygon fill=\"none\" points=\"111,-83.5 111,-129.5 444,-129.5 444,-83.5 111,-83.5\" stroke=\"#000000\"/>\n",
       "<text fill=\"#000000\" font-family=\"Times,serif\" font-size=\"14.00\" text-anchor=\"middle\" x=\"193.5\" y=\"-102.8\">embedding_1: Embedding</text>\n",
       "<polyline fill=\"none\" points=\"276,-83.5 276,-129.5 \" stroke=\"#000000\"/>\n",
       "<text fill=\"#000000\" font-family=\"Times,serif\" font-size=\"14.00\" text-anchor=\"middle\" x=\"304\" y=\"-114.3\">input:</text>\n",
       "<polyline fill=\"none\" points=\"276,-106.5 332,-106.5 \" stroke=\"#000000\"/>\n",
       "<text fill=\"#000000\" font-family=\"Times,serif\" font-size=\"14.00\" text-anchor=\"middle\" x=\"304\" y=\"-91.3\">output:</text>\n",
       "<polyline fill=\"none\" points=\"332,-83.5 332,-129.5 \" stroke=\"#000000\"/>\n",
       "<text fill=\"#000000\" font-family=\"Times,serif\" font-size=\"14.00\" text-anchor=\"middle\" x=\"388\" y=\"-114.3\">(None, 100)</text>\n",
       "<polyline fill=\"none\" points=\"332,-106.5 444,-106.5 \" stroke=\"#000000\"/>\n",
       "<text fill=\"#000000\" font-family=\"Times,serif\" font-size=\"14.00\" text-anchor=\"middle\" x=\"388\" y=\"-91.3\">(None, 100, 300)</text>\n",
       "</g>\n",
       "<!-- 112334853288&#45;&gt;112333813464 -->\n",
       "<g class=\"edge\" id=\"edge1\">\n",
       "<title>112334853288-&gt;112333813464</title>\n",
       "<path d=\"M174.3335,-166.3799C191.0826,-156.6583 210.7371,-145.2505 228.3723,-135.0147\" fill=\"none\" stroke=\"#000000\"/>\n",
       "<polygon fill=\"#000000\" points=\"230.4924,-137.831 237.3842,-129.784 226.9785,-131.7769 230.4924,-137.831\" stroke=\"#000000\"/>\n",
       "</g>\n",
       "<!-- 112333815144 -->\n",
       "<g class=\"node\" id=\"node2\">\n",
       "<title>112333815144</title>\n",
       "<polygon fill=\"none\" points=\"287,-166.5 287,-212.5 556,-212.5 556,-166.5 287,-166.5\" stroke=\"#000000\"/>\n",
       "<text fill=\"#000000\" font-family=\"Times,serif\" font-size=\"14.00\" text-anchor=\"middle\" x=\"351.5\" y=\"-185.8\">input_2: InputLayer</text>\n",
       "<polyline fill=\"none\" points=\"416,-166.5 416,-212.5 \" stroke=\"#000000\"/>\n",
       "<text fill=\"#000000\" font-family=\"Times,serif\" font-size=\"14.00\" text-anchor=\"middle\" x=\"444\" y=\"-197.3\">input:</text>\n",
       "<polyline fill=\"none\" points=\"416,-189.5 472,-189.5 \" stroke=\"#000000\"/>\n",
       "<text fill=\"#000000\" font-family=\"Times,serif\" font-size=\"14.00\" text-anchor=\"middle\" x=\"444\" y=\"-174.3\">output:</text>\n",
       "<polyline fill=\"none\" points=\"472,-166.5 472,-212.5 \" stroke=\"#000000\"/>\n",
       "<text fill=\"#000000\" font-family=\"Times,serif\" font-size=\"14.00\" text-anchor=\"middle\" x=\"514\" y=\"-197.3\">(None, 100)</text>\n",
       "<polyline fill=\"none\" points=\"472,-189.5 556,-189.5 \" stroke=\"#000000\"/>\n",
       "<text fill=\"#000000\" font-family=\"Times,serif\" font-size=\"14.00\" text-anchor=\"middle\" x=\"514\" y=\"-174.3\">(None, 100)</text>\n",
       "</g>\n",
       "<!-- 112333815144&#45;&gt;112333813464 -->\n",
       "<g class=\"edge\" id=\"edge2\">\n",
       "<title>112333815144-&gt;112333813464</title>\n",
       "<path d=\"M381.388,-166.3799C364.4508,-156.6175 344.5634,-145.1546 326.7476,-134.8857\" fill=\"none\" stroke=\"#000000\"/>\n",
       "<polygon fill=\"#000000\" points=\"328.0581,-131.6014 317.6464,-129.6399 324.5625,-137.6661 328.0581,-131.6014\" stroke=\"#000000\"/>\n",
       "</g>\n",
       "<!-- 112334854576 -->\n",
       "<g class=\"node\" id=\"node4\">\n",
       "<title>112334854576</title>\n",
       "<polygon fill=\"none\" points=\"55.5,-.5 55.5,-46.5 499.5,-46.5 499.5,-.5 55.5,-.5\" stroke=\"#000000\"/>\n",
       "<text fill=\"#000000\" font-family=\"Times,serif\" font-size=\"14.00\" text-anchor=\"middle\" x=\"193.5\" y=\"-19.8\">bidirectional_1(lstm_1): Bidirectional(LSTM)</text>\n",
       "<polyline fill=\"none\" points=\"331.5,-.5 331.5,-46.5 \" stroke=\"#000000\"/>\n",
       "<text fill=\"#000000\" font-family=\"Times,serif\" font-size=\"14.00\" text-anchor=\"middle\" x=\"359.5\" y=\"-31.3\">input:</text>\n",
       "<polyline fill=\"none\" points=\"331.5,-23.5 387.5,-23.5 \" stroke=\"#000000\"/>\n",
       "<text fill=\"#000000\" font-family=\"Times,serif\" font-size=\"14.00\" text-anchor=\"middle\" x=\"359.5\" y=\"-8.3\">output:</text>\n",
       "<polyline fill=\"none\" points=\"387.5,-.5 387.5,-46.5 \" stroke=\"#000000\"/>\n",
       "<text fill=\"#000000\" font-family=\"Times,serif\" font-size=\"14.00\" text-anchor=\"middle\" x=\"443.5\" y=\"-31.3\">(None, 100, 300)</text>\n",
       "<polyline fill=\"none\" points=\"387.5,-23.5 499.5,-23.5 \" stroke=\"#000000\"/>\n",
       "<text fill=\"#000000\" font-family=\"Times,serif\" font-size=\"14.00\" text-anchor=\"middle\" x=\"443.5\" y=\"-8.3\">(None, 150)</text>\n",
       "</g>\n",
       "<!-- 112333813464&#45;&gt;112334854576 -->\n",
       "<g class=\"edge\" id=\"edge3\">\n",
       "<title>112333813464-&gt;112334854576</title>\n",
       "<path d=\"M277.5,-83.3799C277.5,-75.1745 277.5,-65.7679 277.5,-56.8786\" fill=\"none\" stroke=\"#000000\"/>\n",
       "<polygon fill=\"#000000\" points=\"281.0001,-56.784 277.5,-46.784 274.0001,-56.784 281.0001,-56.784\" stroke=\"#000000\"/>\n",
       "</g>\n",
       "</g>\n",
       "</svg>"
      ],
      "text/plain": [
       "<IPython.core.display.SVG object>"
      ]
     },
     "execution_count": 10,
     "metadata": {},
     "output_type": "execute_result"
    }
   ],
   "source": [
    "SVG(model_to_dot(recordToEmbeddingNN, show_shapes=True).create(prog='dot', format='svg'))"
   ]
  },
  {
   "cell_type": "code",
   "execution_count": 11,
   "metadata": {},
   "outputs": [],
   "source": [
    "predictedEmbeddings = recordToEmbeddingNN.predict(x=[leftTableTestData, rightTableTestData])\n",
    "\n",
    "leftTableEmbeddings = predictedEmbeddings[0]\n",
    "rightTableEmbeddings = predictedEmbeddings[1]\n",
    "\n",
    "leftTableEmbeddings = leftTableEmbeddings.tolist()\n",
    "rightTableEmbeddings = rightTableEmbeddings.tolist()\n",
    "\n",
    "labels = np.argmax(testLabels, axis=1)"
   ]
  },
  {
   "cell_type": "code",
   "execution_count": 12,
   "metadata": {},
   "outputs": [
    {
     "data": {
      "text/plain": [
       "5742"
      ]
     },
     "execution_count": 12,
     "metadata": {},
     "output_type": "execute_result"
    }
   ],
   "source": [
    "len(labels)"
   ]
  },
  {
   "cell_type": "code",
   "execution_count": 13,
   "metadata": {},
   "outputs": [
    {
     "data": {
      "text/html": [
       "<div>\n",
       "<style scoped>\n",
       "    .dataframe tbody tr th:only-of-type {\n",
       "        vertical-align: middle;\n",
       "    }\n",
       "\n",
       "    .dataframe tbody tr th {\n",
       "        vertical-align: top;\n",
       "    }\n",
       "\n",
       "    .dataframe thead th {\n",
       "        text-align: right;\n",
       "    }\n",
       "</style>\n",
       "<table border=\"1\" class=\"dataframe\">\n",
       "  <thead>\n",
       "    <tr style=\"text-align: right;\">\n",
       "      <th></th>\n",
       "      <th>left_table</th>\n",
       "      <th>right_table</th>\n",
       "      <th>label</th>\n",
       "    </tr>\n",
       "  </thead>\n",
       "  <tbody>\n",
       "    <tr>\n",
       "      <th>0</th>\n",
       "      <td>[0.0, 0.0, 0.9993600249290466, -0.918881118297...</td>\n",
       "      <td>[-0.0, -0.0, 0.21460436284542084, -0.984001100...</td>\n",
       "      <td>0</td>\n",
       "    </tr>\n",
       "    <tr>\n",
       "      <th>1</th>\n",
       "      <td>[0.0, 0.0, 0.9993600249290466, -0.918881118297...</td>\n",
       "      <td>[-0.0, 0.0, 0.7097654938697815, 0.450796663761...</td>\n",
       "      <td>0</td>\n",
       "    </tr>\n",
       "    <tr>\n",
       "      <th>2</th>\n",
       "      <td>[0.0, 0.0, 0.9993600249290466, -0.918881118297...</td>\n",
       "      <td>[-0.0, 0.0, 0.47325998544692993, -0.9972549080...</td>\n",
       "      <td>0</td>\n",
       "    </tr>\n",
       "    <tr>\n",
       "      <th>3</th>\n",
       "      <td>[0.0, 0.0, 0.9993600249290466, -0.918881118297...</td>\n",
       "      <td>[-0.0, 0.0, 0.03747762367129326, -0.5199741125...</td>\n",
       "      <td>0</td>\n",
       "    </tr>\n",
       "    <tr>\n",
       "      <th>4</th>\n",
       "      <td>[0.0, -0.0, -0.74958735704422, -0.999116063117...</td>\n",
       "      <td>[-0.0, 0.0, 0.03747762367129326, -0.5199741125...</td>\n",
       "      <td>0</td>\n",
       "    </tr>\n",
       "  </tbody>\n",
       "</table>\n",
       "</div>"
      ],
      "text/plain": [
       "                                          left_table  \\\n",
       "0  [0.0, 0.0, 0.9993600249290466, -0.918881118297...   \n",
       "1  [0.0, 0.0, 0.9993600249290466, -0.918881118297...   \n",
       "2  [0.0, 0.0, 0.9993600249290466, -0.918881118297...   \n",
       "3  [0.0, 0.0, 0.9993600249290466, -0.918881118297...   \n",
       "4  [0.0, -0.0, -0.74958735704422, -0.999116063117...   \n",
       "\n",
       "                                         right_table  label  \n",
       "0  [-0.0, -0.0, 0.21460436284542084, -0.984001100...      0  \n",
       "1  [-0.0, 0.0, 0.7097654938697815, 0.450796663761...      0  \n",
       "2  [-0.0, 0.0, 0.47325998544692993, -0.9972549080...      0  \n",
       "3  [-0.0, 0.0, 0.03747762367129326, -0.5199741125...      0  \n",
       "4  [-0.0, 0.0, 0.03747762367129326, -0.5199741125...      0  "
      ]
     },
     "execution_count": 13,
     "metadata": {},
     "output_type": "execute_result"
    }
   ],
   "source": [
    "lshDfDict = {\"left_table\": leftTableEmbeddings, \"right_table\": rightTableEmbeddings, \"label\": labels}\n",
    "lshDf = pd.DataFrame(lshDfDict)\n",
    "lshDf.head()"
   ]
  },
  {
   "cell_type": "code",
   "execution_count": 14,
   "metadata": {},
   "outputs": [
    {
     "data": {
      "text/plain": [
       "(5742, 3)"
      ]
     },
     "execution_count": 14,
     "metadata": {},
     "output_type": "execute_result"
    }
   ],
   "source": [
    "lshDf.shape"
   ]
  },
  {
   "cell_type": "code",
   "execution_count": 15,
   "metadata": {},
   "outputs": [
    {
     "data": {
      "text/plain": [
       "list"
      ]
     },
     "execution_count": 15,
     "metadata": {},
     "output_type": "execute_result"
    }
   ],
   "source": [
    "type(lshDf['left_table'][0])"
   ]
  },
  {
   "cell_type": "code",
   "execution_count": 16,
   "metadata": {},
   "outputs": [
    {
     "data": {
      "text/plain": [
       "150"
      ]
     },
     "execution_count": 16,
     "metadata": {},
     "output_type": "execute_result"
    }
   ],
   "source": [
    "len(lshDf['left_table'][0])"
   ]
  },
  {
   "cell_type": "code",
   "execution_count": 17,
   "metadata": {},
   "outputs": [],
   "source": [
    "lshDf.to_csv('../lsh-testing-data/' + DATASET_NAME + '-embeddings.csv', encoding='utf-8', index=False)"
   ]
  }
 ],
 "metadata": {
  "kernelspec": {
   "display_name": "Python 3",
   "language": "python",
   "name": "python3"
  },
  "language_info": {
   "codemirror_mode": {
    "name": "ipython",
    "version": 3
   },
   "file_extension": ".py",
   "mimetype": "text/x-python",
   "name": "python",
   "nbconvert_exporter": "python",
   "pygments_lexer": "ipython3",
   "version": "3.7.3"
  }
 },
 "nbformat": 4,
 "nbformat_minor": 2
}
