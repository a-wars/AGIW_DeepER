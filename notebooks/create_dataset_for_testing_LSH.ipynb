{
 "cells": [
  {
   "cell_type": "markdown",
   "metadata": {},
   "source": [
    "# Create LSH dataset for testing purpose\n",
    "\n",
    "### Import libraries"
   ]
  },
  {
   "cell_type": "code",
   "execution_count": 1,
   "metadata": {},
   "outputs": [
    {
     "name": "stderr",
     "output_type": "stream",
     "text": [
      "Using TensorFlow backend.\n"
     ]
    }
   ],
   "source": [
    "%matplotlib inline\n",
    "\n",
    "import time\n",
    "import os\n",
    "from sklearn.metrics import confusion_matrix\n",
    "from sklearn.metrics import f1_score\n",
    "from keras.callbacks import EarlyStopping\n",
    "from IPython.display import SVG\n",
    "from keras.utils.vis_utils import model_to_dot\n",
    "import matplotlib.pyplot as plt\n",
    "import seaborn as sns\n",
    "from deeper_model import build_model\n",
    "from deeper_utils import preprocess_data"
   ]
  },
  {
   "cell_type": "markdown",
   "metadata": {},
   "source": [
    "### Read the dataset"
   ]
  },
  {
   "cell_type": "code",
   "execution_count": 2,
   "metadata": {},
   "outputs": [],
   "source": [
    "trainData, testData, valData, embeddingMatrix, wordsWithNoEmbeddings = preprocess_data(\n",
    "    'Fodors_Zagats', baseDir = '.')"
   ]
  },
  {
   "cell_type": "markdown",
   "metadata": {},
   "source": [
    "Printing out words with no embeddings in GloVe"
   ]
  },
  {
   "cell_type": "code",
   "execution_count": 3,
   "metadata": {},
   "outputs": [
    {
     "name": "stdout",
     "output_type": "stream",
     "text": [
      "petrossian\n",
      "lespinasse\n",
      "felidia\n",
      "eril\n",
      "bizou\n",
      "bertolini\n",
      "lutece\n",
      "wollensky\n",
      "hedgerose\n",
      "matsuhisa\n",
      "postrio\n",
      "meatty\n",
      "buzio\n",
      "plumpjack\n",
      "bistango\n",
      "rondelli\n",
      "seryna\n",
      "yolie\n",
      "manora\n",
      "hillhurst\n",
      "nozawa\n",
      "ciboulette\n",
      "fringale\n",
      "menchanko\n",
      "sanppo\n",
      "tadich\n",
      "vivande\n",
      "oritalia\n",
      "steuart\n",
      "kintetsu\n",
      "yujean\n",
      "cachette\n",
      "jiraffe\n",
      "doidge\n",
      "frijoleros\n",
      "sushisay\n",
      "maykadeh\n",
      "mavalli\n",
      "otabe\n",
      "parioli\n",
      "romanissimo\n",
      "barbetta\n",
      "lattanzi\n",
      "sfuzzi\n",
      "debevic\n",
      "fornaio\n",
      "follonico\n",
      "zarela\n",
      "\n",
      "There are 48 words with no embeddings in GloVe\n"
     ]
    }
   ],
   "source": [
    "for word in wordsWithNoEmbeddings:\n",
    "    print(word)\n",
    "print()\n",
    "print(\"There are {} words with no embeddings in GloVe\".format(len(wordsWithNoEmbeddings)))"
   ]
  },
  {
   "cell_type": "markdown",
   "metadata": {},
   "source": [
    "Print embedding matrix shape"
   ]
  },
  {
   "cell_type": "code",
   "execution_count": 4,
   "metadata": {},
   "outputs": [
    {
     "data": {
      "text/plain": [
       "(2075, 300)"
      ]
     },
     "execution_count": 4,
     "metadata": {},
     "output_type": "execute_result"
    }
   ],
   "source": [
    "embeddingMatrix.shape"
   ]
  },
  {
   "cell_type": "code",
   "execution_count": 5,
   "metadata": {},
   "outputs": [],
   "source": [
    "leftTableTrainData, rightTableTrainData, trainLabels = trainData\n",
    "leftTableTestData, rightTableTestData, testLabels = testData\n",
    "leftTableValData, rightTableValData, valLabels = valData"
   ]
  },
  {
   "cell_type": "markdown",
   "metadata": {},
   "source": [
    "Print training set size"
   ]
  },
  {
   "cell_type": "code",
   "execution_count": 6,
   "metadata": {},
   "outputs": [
    {
     "name": "stdout",
     "output_type": "stream",
     "text": [
      "(567, 1000)\n",
      "(567, 1000)\n"
     ]
    }
   ],
   "source": [
    "print(leftTableTrainData.shape)\n",
    "print(rightTableTrainData.shape)"
   ]
  },
  {
   "cell_type": "markdown",
   "metadata": {},
   "source": [
    "Print test set size"
   ]
  },
  {
   "cell_type": "code",
   "execution_count": 7,
   "metadata": {},
   "outputs": [
    {
     "name": "stdout",
     "output_type": "stream",
     "text": [
      "(189, 1000)\n",
      "(189, 1000)\n"
     ]
    }
   ],
   "source": [
    "print(leftTableTestData.shape)\n",
    "print(rightTableTestData.shape)"
   ]
  },
  {
   "cell_type": "markdown",
   "metadata": {},
   "source": [
    "Print validation set size"
   ]
  },
  {
   "cell_type": "code",
   "execution_count": 8,
   "metadata": {},
   "outputs": [
    {
     "name": "stdout",
     "output_type": "stream",
     "text": [
      "(190, 1000)\n",
      "(190, 1000)\n"
     ]
    }
   ],
   "source": [
    "print(leftTableValData.shape)\n",
    "print(rightTableValData.shape)"
   ]
  },
  {
   "cell_type": "markdown",
   "metadata": {},
   "source": [
    "### Build the DeepER model "
   ]
  },
  {
   "cell_type": "code",
   "execution_count": 9,
   "metadata": {},
   "outputs": [
    {
     "name": "stdout",
     "output_type": "stream",
     "text": [
      "WARNING:tensorflow:From /Users/jgmathew/miniconda3/envs/agiw-env/lib/python3.7/site-packages/tensorflow/python/framework/op_def_library.py:263: colocate_with (from tensorflow.python.framework.ops) is deprecated and will be removed in a future version.\n",
      "Instructions for updating:\n",
      "Colocations handled automatically by placer.\n",
      "WARNING:tensorflow:From /Users/jgmathew/miniconda3/envs/agiw-env/lib/python3.7/site-packages/keras/backend/tensorflow_backend.py:3445: calling dropout (from tensorflow.python.ops.nn_ops) with keep_prob is deprecated and will be removed in a future version.\n",
      "Instructions for updating:\n",
      "Please use `rate` instead of `keep_prob`. Rate should be set to `rate = 1 - keep_prob`.\n",
      "__________________________________________________________________________________________________\n",
      "Layer (type)                    Output Shape         Param #     Connected to                     \n",
      "==================================================================================================\n",
      "input_1 (InputLayer)            (None, 1000)         0                                            \n",
      "__________________________________________________________________________________________________\n",
      "input_2 (InputLayer)            (None, 1000)         0                                            \n",
      "__________________________________________________________________________________________________\n",
      "embedding_1 (Embedding)         (None, 1000, 300)    622500      input_1[0][0]                    \n",
      "__________________________________________________________________________________________________\n",
      "embedding_2 (Embedding)         (None, 1000, 300)    622500      input_2[0][0]                    \n",
      "__________________________________________________________________________________________________\n",
      "lstm_1 (LSTM)                   (None, 150)          270600      embedding_1[0][0]                \n",
      "                                                                 embedding_2[0][0]                \n",
      "__________________________________________________________________________________________________\n",
      "left_tuple_embedding (Dense)    (None, 50)           7550        lstm_1[0][0]                     \n",
      "__________________________________________________________________________________________________\n",
      "right_tuple_embedding (Dense)   (None, 50)           7550        lstm_1[1][0]                     \n",
      "__________________________________________________________________________________________________\n",
      "subtract_1 (Subtract)           (None, 50)           0           left_tuple_embedding[0][0]       \n",
      "                                                                 right_tuple_embedding[0][0]      \n",
      "__________________________________________________________________________________________________\n",
      "dense_1 (Dense)                 (None, 64)           3264        subtract_1[0][0]                 \n",
      "__________________________________________________________________________________________________\n",
      "dense_2 (Dense)                 (None, 2)            130         dense_1[0][0]                    \n",
      "==================================================================================================\n",
      "Total params: 1,534,094\n",
      "Trainable params: 1,534,094\n",
      "Non-trainable params: 0\n",
      "__________________________________________________________________________________________________\n"
     ]
    }
   ],
   "source": [
    "model = build_model(embeddingMatrix, denseUnits=64)\n",
    "model.summary()"
   ]
  },
  {
   "cell_type": "markdown",
   "metadata": {},
   "source": [
    "### Plot DeepER architecture"
   ]
  },
  {
   "cell_type": "code",
   "execution_count": 10,
   "metadata": {},
   "outputs": [
    {
     "data": {
      "image/svg+xml": [
       "<svg height=\"553pt\" viewBox=\"0.00 0.00 706.00 553.00\" width=\"706pt\" xmlns=\"http://www.w3.org/2000/svg\" xmlns:xlink=\"http://www.w3.org/1999/xlink\">\n",
       "<g class=\"graph\" id=\"graph0\" transform=\"scale(1 1) rotate(0) translate(4 549)\">\n",
       "<title>G</title>\n",
       "<polygon fill=\"#ffffff\" points=\"-4,4 -4,-549 702,-549 702,4 -4,4\" stroke=\"transparent\"/>\n",
       "<!-- 112829431592 -->\n",
       "<g class=\"node\" id=\"node1\">\n",
       "<title>112829431592</title>\n",
       "<polygon fill=\"none\" points=\"32,-498.5 32,-544.5 308,-544.5 308,-498.5 32,-498.5\" stroke=\"#000000\"/>\n",
       "<text fill=\"#000000\" font-family=\"Times,serif\" font-size=\"14.00\" text-anchor=\"middle\" x=\"96.5\" y=\"-517.8\">input_1: InputLayer</text>\n",
       "<polyline fill=\"none\" points=\"161,-498.5 161,-544.5 \" stroke=\"#000000\"/>\n",
       "<text fill=\"#000000\" font-family=\"Times,serif\" font-size=\"14.00\" text-anchor=\"middle\" x=\"189\" y=\"-529.3\">input:</text>\n",
       "<polyline fill=\"none\" points=\"161,-521.5 217,-521.5 \" stroke=\"#000000\"/>\n",
       "<text fill=\"#000000\" font-family=\"Times,serif\" font-size=\"14.00\" text-anchor=\"middle\" x=\"189\" y=\"-506.3\">output:</text>\n",
       "<polyline fill=\"none\" points=\"217,-498.5 217,-544.5 \" stroke=\"#000000\"/>\n",
       "<text fill=\"#000000\" font-family=\"Times,serif\" font-size=\"14.00\" text-anchor=\"middle\" x=\"262.5\" y=\"-529.3\">(None, 1000)</text>\n",
       "<polyline fill=\"none\" points=\"217,-521.5 308,-521.5 \" stroke=\"#000000\"/>\n",
       "<text fill=\"#000000\" font-family=\"Times,serif\" font-size=\"14.00\" text-anchor=\"middle\" x=\"262.5\" y=\"-506.3\">(None, 1000)</text>\n",
       "</g>\n",
       "<!-- 112829428624 -->\n",
       "<g class=\"node\" id=\"node3\">\n",
       "<title>112829428624</title>\n",
       "<polygon fill=\"none\" points=\"0,-415.5 0,-461.5 340,-461.5 340,-415.5 0,-415.5\" stroke=\"#000000\"/>\n",
       "<text fill=\"#000000\" font-family=\"Times,serif\" font-size=\"14.00\" text-anchor=\"middle\" x=\"82.5\" y=\"-434.8\">embedding_1: Embedding</text>\n",
       "<polyline fill=\"none\" points=\"165,-415.5 165,-461.5 \" stroke=\"#000000\"/>\n",
       "<text fill=\"#000000\" font-family=\"Times,serif\" font-size=\"14.00\" text-anchor=\"middle\" x=\"193\" y=\"-446.3\">input:</text>\n",
       "<polyline fill=\"none\" points=\"165,-438.5 221,-438.5 \" stroke=\"#000000\"/>\n",
       "<text fill=\"#000000\" font-family=\"Times,serif\" font-size=\"14.00\" text-anchor=\"middle\" x=\"193\" y=\"-423.3\">output:</text>\n",
       "<polyline fill=\"none\" points=\"221,-415.5 221,-461.5 \" stroke=\"#000000\"/>\n",
       "<text fill=\"#000000\" font-family=\"Times,serif\" font-size=\"14.00\" text-anchor=\"middle\" x=\"280.5\" y=\"-446.3\">(None, 1000)</text>\n",
       "<polyline fill=\"none\" points=\"221,-438.5 340,-438.5 \" stroke=\"#000000\"/>\n",
       "<text fill=\"#000000\" font-family=\"Times,serif\" font-size=\"14.00\" text-anchor=\"middle\" x=\"280.5\" y=\"-423.3\">(None, 1000, 300)</text>\n",
       "</g>\n",
       "<!-- 112829431592&#45;&gt;112829428624 -->\n",
       "<g class=\"edge\" id=\"edge1\">\n",
       "<title>112829431592-&gt;112829428624</title>\n",
       "<path d=\"M170,-498.3799C170,-490.1745 170,-480.7679 170,-471.8786\" fill=\"none\" stroke=\"#000000\"/>\n",
       "<polygon fill=\"#000000\" points=\"173.5001,-471.784 170,-461.784 166.5001,-471.784 173.5001,-471.784\" stroke=\"#000000\"/>\n",
       "</g>\n",
       "<!-- 112829431032 -->\n",
       "<g class=\"node\" id=\"node2\">\n",
       "<title>112829431032</title>\n",
       "<polygon fill=\"none\" points=\"390,-498.5 390,-544.5 666,-544.5 666,-498.5 390,-498.5\" stroke=\"#000000\"/>\n",
       "<text fill=\"#000000\" font-family=\"Times,serif\" font-size=\"14.00\" text-anchor=\"middle\" x=\"454.5\" y=\"-517.8\">input_2: InputLayer</text>\n",
       "<polyline fill=\"none\" points=\"519,-498.5 519,-544.5 \" stroke=\"#000000\"/>\n",
       "<text fill=\"#000000\" font-family=\"Times,serif\" font-size=\"14.00\" text-anchor=\"middle\" x=\"547\" y=\"-529.3\">input:</text>\n",
       "<polyline fill=\"none\" points=\"519,-521.5 575,-521.5 \" stroke=\"#000000\"/>\n",
       "<text fill=\"#000000\" font-family=\"Times,serif\" font-size=\"14.00\" text-anchor=\"middle\" x=\"547\" y=\"-506.3\">output:</text>\n",
       "<polyline fill=\"none\" points=\"575,-498.5 575,-544.5 \" stroke=\"#000000\"/>\n",
       "<text fill=\"#000000\" font-family=\"Times,serif\" font-size=\"14.00\" text-anchor=\"middle\" x=\"620.5\" y=\"-529.3\">(None, 1000)</text>\n",
       "<polyline fill=\"none\" points=\"575,-521.5 666,-521.5 \" stroke=\"#000000\"/>\n",
       "<text fill=\"#000000\" font-family=\"Times,serif\" font-size=\"14.00\" text-anchor=\"middle\" x=\"620.5\" y=\"-506.3\">(None, 1000)</text>\n",
       "</g>\n",
       "<!-- 112829429688 -->\n",
       "<g class=\"node\" id=\"node4\">\n",
       "<title>112829429688</title>\n",
       "<polygon fill=\"none\" points=\"358,-415.5 358,-461.5 698,-461.5 698,-415.5 358,-415.5\" stroke=\"#000000\"/>\n",
       "<text fill=\"#000000\" font-family=\"Times,serif\" font-size=\"14.00\" text-anchor=\"middle\" x=\"440.5\" y=\"-434.8\">embedding_2: Embedding</text>\n",
       "<polyline fill=\"none\" points=\"523,-415.5 523,-461.5 \" stroke=\"#000000\"/>\n",
       "<text fill=\"#000000\" font-family=\"Times,serif\" font-size=\"14.00\" text-anchor=\"middle\" x=\"551\" y=\"-446.3\">input:</text>\n",
       "<polyline fill=\"none\" points=\"523,-438.5 579,-438.5 \" stroke=\"#000000\"/>\n",
       "<text fill=\"#000000\" font-family=\"Times,serif\" font-size=\"14.00\" text-anchor=\"middle\" x=\"551\" y=\"-423.3\">output:</text>\n",
       "<polyline fill=\"none\" points=\"579,-415.5 579,-461.5 \" stroke=\"#000000\"/>\n",
       "<text fill=\"#000000\" font-family=\"Times,serif\" font-size=\"14.00\" text-anchor=\"middle\" x=\"638.5\" y=\"-446.3\">(None, 1000)</text>\n",
       "<polyline fill=\"none\" points=\"579,-438.5 698,-438.5 \" stroke=\"#000000\"/>\n",
       "<text fill=\"#000000\" font-family=\"Times,serif\" font-size=\"14.00\" text-anchor=\"middle\" x=\"638.5\" y=\"-423.3\">(None, 1000, 300)</text>\n",
       "</g>\n",
       "<!-- 112829431032&#45;&gt;112829429688 -->\n",
       "<g class=\"edge\" id=\"edge2\">\n",
       "<title>112829431032-&gt;112829429688</title>\n",
       "<path d=\"M528,-498.3799C528,-490.1745 528,-480.7679 528,-471.8786\" fill=\"none\" stroke=\"#000000\"/>\n",
       "<polygon fill=\"#000000\" points=\"531.5001,-471.784 528,-461.784 524.5001,-471.784 531.5001,-471.784\" stroke=\"#000000\"/>\n",
       "</g>\n",
       "<!-- 112829437936 -->\n",
       "<g class=\"node\" id=\"node5\">\n",
       "<title>112829437936</title>\n",
       "<polygon fill=\"none\" points=\"212,-332.5 212,-378.5 486,-378.5 486,-332.5 212,-332.5\" stroke=\"#000000\"/>\n",
       "<text fill=\"#000000\" font-family=\"Times,serif\" font-size=\"14.00\" text-anchor=\"middle\" x=\"261.5\" y=\"-351.8\">lstm_1: LSTM</text>\n",
       "<polyline fill=\"none\" points=\"311,-332.5 311,-378.5 \" stroke=\"#000000\"/>\n",
       "<text fill=\"#000000\" font-family=\"Times,serif\" font-size=\"14.00\" text-anchor=\"middle\" x=\"339\" y=\"-363.3\">input:</text>\n",
       "<polyline fill=\"none\" points=\"311,-355.5 367,-355.5 \" stroke=\"#000000\"/>\n",
       "<text fill=\"#000000\" font-family=\"Times,serif\" font-size=\"14.00\" text-anchor=\"middle\" x=\"339\" y=\"-340.3\">output:</text>\n",
       "<polyline fill=\"none\" points=\"367,-332.5 367,-378.5 \" stroke=\"#000000\"/>\n",
       "<text fill=\"#000000\" font-family=\"Times,serif\" font-size=\"14.00\" text-anchor=\"middle\" x=\"426.5\" y=\"-363.3\">(None, 1000, 300)</text>\n",
       "<polyline fill=\"none\" points=\"367,-355.5 486,-355.5 \" stroke=\"#000000\"/>\n",
       "<text fill=\"#000000\" font-family=\"Times,serif\" font-size=\"14.00\" text-anchor=\"middle\" x=\"426.5\" y=\"-340.3\">(None, 150)</text>\n",
       "</g>\n",
       "<!-- 112829428624&#45;&gt;112829437936 -->\n",
       "<g class=\"edge\" id=\"edge3\">\n",
       "<title>112829428624-&gt;112829437936</title>\n",
       "<path d=\"M219.8615,-415.3799C241.5913,-405.304 267.2278,-393.4167 289.9077,-382.9003\" fill=\"none\" stroke=\"#000000\"/>\n",
       "<polygon fill=\"#000000\" points=\"291.4959,-386.0219 299.0958,-378.6399 288.5513,-379.6714 291.4959,-386.0219\" stroke=\"#000000\"/>\n",
       "</g>\n",
       "<!-- 112829429688&#45;&gt;112829437936 -->\n",
       "<g class=\"edge\" id=\"edge4\">\n",
       "<title>112829429688-&gt;112829437936</title>\n",
       "<path d=\"M478.1385,-415.3799C456.4087,-405.304 430.7722,-393.4167 408.0923,-382.9003\" fill=\"none\" stroke=\"#000000\"/>\n",
       "<polygon fill=\"#000000\" points=\"409.4487,-379.6714 398.9042,-378.6399 406.5041,-386.0219 409.4487,-379.6714\" stroke=\"#000000\"/>\n",
       "</g>\n",
       "<!-- 112829338624 -->\n",
       "<g class=\"node\" id=\"node6\">\n",
       "<title>112829338624</title>\n",
       "<polygon fill=\"none\" points=\"16,-249.5 16,-295.5 338,-295.5 338,-249.5 16,-249.5\" stroke=\"#000000\"/>\n",
       "<text fill=\"#000000\" font-family=\"Times,serif\" font-size=\"14.00\" text-anchor=\"middle\" x=\"107\" y=\"-268.8\">left_tuple_embedding: Dense</text>\n",
       "<polyline fill=\"none\" points=\"198,-249.5 198,-295.5 \" stroke=\"#000000\"/>\n",
       "<text fill=\"#000000\" font-family=\"Times,serif\" font-size=\"14.00\" text-anchor=\"middle\" x=\"226\" y=\"-280.3\">input:</text>\n",
       "<polyline fill=\"none\" points=\"198,-272.5 254,-272.5 \" stroke=\"#000000\"/>\n",
       "<text fill=\"#000000\" font-family=\"Times,serif\" font-size=\"14.00\" text-anchor=\"middle\" x=\"226\" y=\"-257.3\">output:</text>\n",
       "<polyline fill=\"none\" points=\"254,-249.5 254,-295.5 \" stroke=\"#000000\"/>\n",
       "<text fill=\"#000000\" font-family=\"Times,serif\" font-size=\"14.00\" text-anchor=\"middle\" x=\"296\" y=\"-280.3\">(None, 150)</text>\n",
       "<polyline fill=\"none\" points=\"254,-272.5 338,-272.5 \" stroke=\"#000000\"/>\n",
       "<text fill=\"#000000\" font-family=\"Times,serif\" font-size=\"14.00\" text-anchor=\"middle\" x=\"296\" y=\"-257.3\">(None, 50)</text>\n",
       "</g>\n",
       "<!-- 112829437936&#45;&gt;112829338624 -->\n",
       "<g class=\"edge\" id=\"edge5\">\n",
       "<title>112829437936-&gt;112829338624</title>\n",
       "<path d=\"M301.0884,-332.3799C280.3011,-322.3488 255.7933,-310.5224 234.0721,-300.0406\" fill=\"none\" stroke=\"#000000\"/>\n",
       "<polygon fill=\"#000000\" points=\"235.48,-296.8338 224.9527,-295.6399 232.4378,-303.1382 235.48,-296.8338\" stroke=\"#000000\"/>\n",
       "</g>\n",
       "<!-- 112383227104 -->\n",
       "<g class=\"node\" id=\"node7\">\n",
       "<title>112383227104</title>\n",
       "<polygon fill=\"none\" points=\"356,-249.5 356,-295.5 686,-295.5 686,-249.5 356,-249.5\" stroke=\"#000000\"/>\n",
       "<text fill=\"#000000\" font-family=\"Times,serif\" font-size=\"14.00\" text-anchor=\"middle\" x=\"451\" y=\"-268.8\">right_tuple_embedding: Dense</text>\n",
       "<polyline fill=\"none\" points=\"546,-249.5 546,-295.5 \" stroke=\"#000000\"/>\n",
       "<text fill=\"#000000\" font-family=\"Times,serif\" font-size=\"14.00\" text-anchor=\"middle\" x=\"574\" y=\"-280.3\">input:</text>\n",
       "<polyline fill=\"none\" points=\"546,-272.5 602,-272.5 \" stroke=\"#000000\"/>\n",
       "<text fill=\"#000000\" font-family=\"Times,serif\" font-size=\"14.00\" text-anchor=\"middle\" x=\"574\" y=\"-257.3\">output:</text>\n",
       "<polyline fill=\"none\" points=\"602,-249.5 602,-295.5 \" stroke=\"#000000\"/>\n",
       "<text fill=\"#000000\" font-family=\"Times,serif\" font-size=\"14.00\" text-anchor=\"middle\" x=\"644\" y=\"-280.3\">(None, 150)</text>\n",
       "<polyline fill=\"none\" points=\"602,-272.5 686,-272.5 \" stroke=\"#000000\"/>\n",
       "<text fill=\"#000000\" font-family=\"Times,serif\" font-size=\"14.00\" text-anchor=\"middle\" x=\"644\" y=\"-257.3\">(None, 50)</text>\n",
       "</g>\n",
       "<!-- 112829437936&#45;&gt;112383227104 -->\n",
       "<g class=\"edge\" id=\"edge6\">\n",
       "<title>112829437936-&gt;112383227104</title>\n",
       "<path d=\"M396.9116,-332.3799C417.6989,-322.3488 442.2067,-310.5224 463.9279,-300.0406\" fill=\"none\" stroke=\"#000000\"/>\n",
       "<polygon fill=\"#000000\" points=\"465.5622,-303.1382 473.0473,-295.6399 462.52,-296.8338 465.5622,-303.1382\" stroke=\"#000000\"/>\n",
       "</g>\n",
       "<!-- 112385009816 -->\n",
       "<g class=\"node\" id=\"node8\">\n",
       "<title>112385009816</title>\n",
       "<polygon fill=\"none\" points=\"179.5,-166.5 179.5,-212.5 518.5,-212.5 518.5,-166.5 179.5,-166.5\" stroke=\"#000000\"/>\n",
       "<text fill=\"#000000\" font-family=\"Times,serif\" font-size=\"14.00\" text-anchor=\"middle\" x=\"244\" y=\"-185.8\">subtract_1: Subtract</text>\n",
       "<polyline fill=\"none\" points=\"308.5,-166.5 308.5,-212.5 \" stroke=\"#000000\"/>\n",
       "<text fill=\"#000000\" font-family=\"Times,serif\" font-size=\"14.00\" text-anchor=\"middle\" x=\"336.5\" y=\"-197.3\">input:</text>\n",
       "<polyline fill=\"none\" points=\"308.5,-189.5 364.5,-189.5 \" stroke=\"#000000\"/>\n",
       "<text fill=\"#000000\" font-family=\"Times,serif\" font-size=\"14.00\" text-anchor=\"middle\" x=\"336.5\" y=\"-174.3\">output:</text>\n",
       "<polyline fill=\"none\" points=\"364.5,-166.5 364.5,-212.5 \" stroke=\"#000000\"/>\n",
       "<text fill=\"#000000\" font-family=\"Times,serif\" font-size=\"14.00\" text-anchor=\"middle\" x=\"441.5\" y=\"-197.3\">[(None, 50), (None, 50)]</text>\n",
       "<polyline fill=\"none\" points=\"364.5,-189.5 518.5,-189.5 \" stroke=\"#000000\"/>\n",
       "<text fill=\"#000000\" font-family=\"Times,serif\" font-size=\"14.00\" text-anchor=\"middle\" x=\"441.5\" y=\"-174.3\">(None, 50)</text>\n",
       "</g>\n",
       "<!-- 112829338624&#45;&gt;112385009816 -->\n",
       "<g class=\"edge\" id=\"edge7\">\n",
       "<title>112829338624-&gt;112385009816</title>\n",
       "<path d=\"M224.9116,-249.3799C245.6989,-239.3488 270.2067,-227.5224 291.9279,-217.0406\" fill=\"none\" stroke=\"#000000\"/>\n",
       "<polygon fill=\"#000000\" points=\"293.5622,-220.1382 301.0473,-212.6399 290.52,-213.8338 293.5622,-220.1382\" stroke=\"#000000\"/>\n",
       "</g>\n",
       "<!-- 112383227104&#45;&gt;112385009816 -->\n",
       "<g class=\"edge\" id=\"edge8\">\n",
       "<title>112383227104-&gt;112385009816</title>\n",
       "<path d=\"M473.0884,-249.3799C452.3011,-239.3488 427.7933,-227.5224 406.0721,-217.0406\" fill=\"none\" stroke=\"#000000\"/>\n",
       "<polygon fill=\"#000000\" points=\"407.48,-213.8338 396.9527,-212.6399 404.4378,-220.1382 407.48,-213.8338\" stroke=\"#000000\"/>\n",
       "</g>\n",
       "<!-- 112385008920 -->\n",
       "<g class=\"node\" id=\"node9\">\n",
       "<title>112385008920</title>\n",
       "<polygon fill=\"none\" points=\"230,-83.5 230,-129.5 468,-129.5 468,-83.5 230,-83.5\" stroke=\"#000000\"/>\n",
       "<text fill=\"#000000\" font-family=\"Times,serif\" font-size=\"14.00\" text-anchor=\"middle\" x=\"282.5\" y=\"-102.8\">dense_1: Dense</text>\n",
       "<polyline fill=\"none\" points=\"335,-83.5 335,-129.5 \" stroke=\"#000000\"/>\n",
       "<text fill=\"#000000\" font-family=\"Times,serif\" font-size=\"14.00\" text-anchor=\"middle\" x=\"363\" y=\"-114.3\">input:</text>\n",
       "<polyline fill=\"none\" points=\"335,-106.5 391,-106.5 \" stroke=\"#000000\"/>\n",
       "<text fill=\"#000000\" font-family=\"Times,serif\" font-size=\"14.00\" text-anchor=\"middle\" x=\"363\" y=\"-91.3\">output:</text>\n",
       "<polyline fill=\"none\" points=\"391,-83.5 391,-129.5 \" stroke=\"#000000\"/>\n",
       "<text fill=\"#000000\" font-family=\"Times,serif\" font-size=\"14.00\" text-anchor=\"middle\" x=\"429.5\" y=\"-114.3\">(None, 50)</text>\n",
       "<polyline fill=\"none\" points=\"391,-106.5 468,-106.5 \" stroke=\"#000000\"/>\n",
       "<text fill=\"#000000\" font-family=\"Times,serif\" font-size=\"14.00\" text-anchor=\"middle\" x=\"429.5\" y=\"-91.3\">(None, 64)</text>\n",
       "</g>\n",
       "<!-- 112385009816&#45;&gt;112385008920 -->\n",
       "<g class=\"edge\" id=\"edge9\">\n",
       "<title>112385009816-&gt;112385008920</title>\n",
       "<path d=\"M349,-166.3799C349,-158.1745 349,-148.7679 349,-139.8786\" fill=\"none\" stroke=\"#000000\"/>\n",
       "<polygon fill=\"#000000\" points=\"352.5001,-139.784 349,-129.784 345.5001,-139.784 352.5001,-139.784\" stroke=\"#000000\"/>\n",
       "</g>\n",
       "<!-- 112385287784 -->\n",
       "<g class=\"node\" id=\"node10\">\n",
       "<title>112385287784</title>\n",
       "<polygon fill=\"none\" points=\"230,-.5 230,-46.5 468,-46.5 468,-.5 230,-.5\" stroke=\"#000000\"/>\n",
       "<text fill=\"#000000\" font-family=\"Times,serif\" font-size=\"14.00\" text-anchor=\"middle\" x=\"282.5\" y=\"-19.8\">dense_2: Dense</text>\n",
       "<polyline fill=\"none\" points=\"335,-.5 335,-46.5 \" stroke=\"#000000\"/>\n",
       "<text fill=\"#000000\" font-family=\"Times,serif\" font-size=\"14.00\" text-anchor=\"middle\" x=\"363\" y=\"-31.3\">input:</text>\n",
       "<polyline fill=\"none\" points=\"335,-23.5 391,-23.5 \" stroke=\"#000000\"/>\n",
       "<text fill=\"#000000\" font-family=\"Times,serif\" font-size=\"14.00\" text-anchor=\"middle\" x=\"363\" y=\"-8.3\">output:</text>\n",
       "<polyline fill=\"none\" points=\"391,-.5 391,-46.5 \" stroke=\"#000000\"/>\n",
       "<text fill=\"#000000\" font-family=\"Times,serif\" font-size=\"14.00\" text-anchor=\"middle\" x=\"429.5\" y=\"-31.3\">(None, 64)</text>\n",
       "<polyline fill=\"none\" points=\"391,-23.5 468,-23.5 \" stroke=\"#000000\"/>\n",
       "<text fill=\"#000000\" font-family=\"Times,serif\" font-size=\"14.00\" text-anchor=\"middle\" x=\"429.5\" y=\"-8.3\">(None, 2)</text>\n",
       "</g>\n",
       "<!-- 112385008920&#45;&gt;112385287784 -->\n",
       "<g class=\"edge\" id=\"edge10\">\n",
       "<title>112385008920-&gt;112385287784</title>\n",
       "<path d=\"M349,-83.3799C349,-75.1745 349,-65.7679 349,-56.8786\" fill=\"none\" stroke=\"#000000\"/>\n",
       "<polygon fill=\"#000000\" points=\"352.5001,-56.784 349,-46.784 345.5001,-56.784 352.5001,-56.784\" stroke=\"#000000\"/>\n",
       "</g>\n",
       "</g>\n",
       "</svg>"
      ],
      "text/plain": [
       "<IPython.core.display.SVG object>"
      ]
     },
     "execution_count": 10,
     "metadata": {},
     "output_type": "execute_result"
    }
   ],
   "source": [
    "SVG(model_to_dot(model, show_shapes=True).create(prog='dot', format='svg'))"
   ]
  },
  {
   "cell_type": "markdown",
   "metadata": {},
   "source": [
    "### Testing LSH\n",
    "Build a new NN that given two inputs (a record from the left table and another one from the right table) outputs their corresponding embeddings."
   ]
  },
  {
   "cell_type": "code",
   "execution_count": 11,
   "metadata": {},
   "outputs": [],
   "source": [
    "from keras.models import Model\n",
    "\n",
    "recordEmbeddingNN = Model(inputs=model.input, \n",
    "                          outputs= [model.get_layer(\"left_tuple_embedding\").output, model.get_layer(\"right_tuple_embedding\").output])"
   ]
  },
  {
   "cell_type": "code",
   "execution_count": 12,
   "metadata": {},
   "outputs": [
    {
     "name": "stdout",
     "output_type": "stream",
     "text": [
      "__________________________________________________________________________________________________\n",
      "Layer (type)                    Output Shape         Param #     Connected to                     \n",
      "==================================================================================================\n",
      "input_1 (InputLayer)            (None, 1000)         0                                            \n",
      "__________________________________________________________________________________________________\n",
      "input_2 (InputLayer)            (None, 1000)         0                                            \n",
      "__________________________________________________________________________________________________\n",
      "embedding_1 (Embedding)         (None, 1000, 300)    622500      input_1[0][0]                    \n",
      "__________________________________________________________________________________________________\n",
      "embedding_2 (Embedding)         (None, 1000, 300)    622500      input_2[0][0]                    \n",
      "__________________________________________________________________________________________________\n",
      "lstm_1 (LSTM)                   (None, 150)          270600      embedding_1[0][0]                \n",
      "                                                                 embedding_2[0][0]                \n",
      "__________________________________________________________________________________________________\n",
      "left_tuple_embedding (Dense)    (None, 50)           7550        lstm_1[0][0]                     \n",
      "__________________________________________________________________________________________________\n",
      "right_tuple_embedding (Dense)   (None, 50)           7550        lstm_1[1][0]                     \n",
      "==================================================================================================\n",
      "Total params: 1,530,700\n",
      "Trainable params: 1,530,700\n",
      "Non-trainable params: 0\n",
      "__________________________________________________________________________________________________\n"
     ]
    }
   ],
   "source": [
    "recordEmbeddingNN.summary()"
   ]
  },
  {
   "cell_type": "code",
   "execution_count": 13,
   "metadata": {},
   "outputs": [
    {
     "data": {
      "image/svg+xml": [
       "<svg height=\"304pt\" viewBox=\"0.00 0.00 706.00 304.00\" width=\"706pt\" xmlns=\"http://www.w3.org/2000/svg\" xmlns:xlink=\"http://www.w3.org/1999/xlink\">\n",
       "<g class=\"graph\" id=\"graph0\" transform=\"scale(1 1) rotate(0) translate(4 300)\">\n",
       "<title>G</title>\n",
       "<polygon fill=\"#ffffff\" points=\"-4,4 -4,-300 702,-300 702,4 -4,4\" stroke=\"transparent\"/>\n",
       "<!-- 112829431592 -->\n",
       "<g class=\"node\" id=\"node1\">\n",
       "<title>112829431592</title>\n",
       "<polygon fill=\"none\" points=\"32,-249.5 32,-295.5 308,-295.5 308,-249.5 32,-249.5\" stroke=\"#000000\"/>\n",
       "<text fill=\"#000000\" font-family=\"Times,serif\" font-size=\"14.00\" text-anchor=\"middle\" x=\"96.5\" y=\"-268.8\">input_1: InputLayer</text>\n",
       "<polyline fill=\"none\" points=\"161,-249.5 161,-295.5 \" stroke=\"#000000\"/>\n",
       "<text fill=\"#000000\" font-family=\"Times,serif\" font-size=\"14.00\" text-anchor=\"middle\" x=\"189\" y=\"-280.3\">input:</text>\n",
       "<polyline fill=\"none\" points=\"161,-272.5 217,-272.5 \" stroke=\"#000000\"/>\n",
       "<text fill=\"#000000\" font-family=\"Times,serif\" font-size=\"14.00\" text-anchor=\"middle\" x=\"189\" y=\"-257.3\">output:</text>\n",
       "<polyline fill=\"none\" points=\"217,-249.5 217,-295.5 \" stroke=\"#000000\"/>\n",
       "<text fill=\"#000000\" font-family=\"Times,serif\" font-size=\"14.00\" text-anchor=\"middle\" x=\"262.5\" y=\"-280.3\">(None, 1000)</text>\n",
       "<polyline fill=\"none\" points=\"217,-272.5 308,-272.5 \" stroke=\"#000000\"/>\n",
       "<text fill=\"#000000\" font-family=\"Times,serif\" font-size=\"14.00\" text-anchor=\"middle\" x=\"262.5\" y=\"-257.3\">(None, 1000)</text>\n",
       "</g>\n",
       "<!-- 112829428624 -->\n",
       "<g class=\"node\" id=\"node3\">\n",
       "<title>112829428624</title>\n",
       "<polygon fill=\"none\" points=\"0,-166.5 0,-212.5 340,-212.5 340,-166.5 0,-166.5\" stroke=\"#000000\"/>\n",
       "<text fill=\"#000000\" font-family=\"Times,serif\" font-size=\"14.00\" text-anchor=\"middle\" x=\"82.5\" y=\"-185.8\">embedding_1: Embedding</text>\n",
       "<polyline fill=\"none\" points=\"165,-166.5 165,-212.5 \" stroke=\"#000000\"/>\n",
       "<text fill=\"#000000\" font-family=\"Times,serif\" font-size=\"14.00\" text-anchor=\"middle\" x=\"193\" y=\"-197.3\">input:</text>\n",
       "<polyline fill=\"none\" points=\"165,-189.5 221,-189.5 \" stroke=\"#000000\"/>\n",
       "<text fill=\"#000000\" font-family=\"Times,serif\" font-size=\"14.00\" text-anchor=\"middle\" x=\"193\" y=\"-174.3\">output:</text>\n",
       "<polyline fill=\"none\" points=\"221,-166.5 221,-212.5 \" stroke=\"#000000\"/>\n",
       "<text fill=\"#000000\" font-family=\"Times,serif\" font-size=\"14.00\" text-anchor=\"middle\" x=\"280.5\" y=\"-197.3\">(None, 1000)</text>\n",
       "<polyline fill=\"none\" points=\"221,-189.5 340,-189.5 \" stroke=\"#000000\"/>\n",
       "<text fill=\"#000000\" font-family=\"Times,serif\" font-size=\"14.00\" text-anchor=\"middle\" x=\"280.5\" y=\"-174.3\">(None, 1000, 300)</text>\n",
       "</g>\n",
       "<!-- 112829431592&#45;&gt;112829428624 -->\n",
       "<g class=\"edge\" id=\"edge1\">\n",
       "<title>112829431592-&gt;112829428624</title>\n",
       "<path d=\"M170,-249.3799C170,-241.1745 170,-231.7679 170,-222.8786\" fill=\"none\" stroke=\"#000000\"/>\n",
       "<polygon fill=\"#000000\" points=\"173.5001,-222.784 170,-212.784 166.5001,-222.784 173.5001,-222.784\" stroke=\"#000000\"/>\n",
       "</g>\n",
       "<!-- 112829431032 -->\n",
       "<g class=\"node\" id=\"node2\">\n",
       "<title>112829431032</title>\n",
       "<polygon fill=\"none\" points=\"390,-249.5 390,-295.5 666,-295.5 666,-249.5 390,-249.5\" stroke=\"#000000\"/>\n",
       "<text fill=\"#000000\" font-family=\"Times,serif\" font-size=\"14.00\" text-anchor=\"middle\" x=\"454.5\" y=\"-268.8\">input_2: InputLayer</text>\n",
       "<polyline fill=\"none\" points=\"519,-249.5 519,-295.5 \" stroke=\"#000000\"/>\n",
       "<text fill=\"#000000\" font-family=\"Times,serif\" font-size=\"14.00\" text-anchor=\"middle\" x=\"547\" y=\"-280.3\">input:</text>\n",
       "<polyline fill=\"none\" points=\"519,-272.5 575,-272.5 \" stroke=\"#000000\"/>\n",
       "<text fill=\"#000000\" font-family=\"Times,serif\" font-size=\"14.00\" text-anchor=\"middle\" x=\"547\" y=\"-257.3\">output:</text>\n",
       "<polyline fill=\"none\" points=\"575,-249.5 575,-295.5 \" stroke=\"#000000\"/>\n",
       "<text fill=\"#000000\" font-family=\"Times,serif\" font-size=\"14.00\" text-anchor=\"middle\" x=\"620.5\" y=\"-280.3\">(None, 1000)</text>\n",
       "<polyline fill=\"none\" points=\"575,-272.5 666,-272.5 \" stroke=\"#000000\"/>\n",
       "<text fill=\"#000000\" font-family=\"Times,serif\" font-size=\"14.00\" text-anchor=\"middle\" x=\"620.5\" y=\"-257.3\">(None, 1000)</text>\n",
       "</g>\n",
       "<!-- 112829429688 -->\n",
       "<g class=\"node\" id=\"node4\">\n",
       "<title>112829429688</title>\n",
       "<polygon fill=\"none\" points=\"358,-166.5 358,-212.5 698,-212.5 698,-166.5 358,-166.5\" stroke=\"#000000\"/>\n",
       "<text fill=\"#000000\" font-family=\"Times,serif\" font-size=\"14.00\" text-anchor=\"middle\" x=\"440.5\" y=\"-185.8\">embedding_2: Embedding</text>\n",
       "<polyline fill=\"none\" points=\"523,-166.5 523,-212.5 \" stroke=\"#000000\"/>\n",
       "<text fill=\"#000000\" font-family=\"Times,serif\" font-size=\"14.00\" text-anchor=\"middle\" x=\"551\" y=\"-197.3\">input:</text>\n",
       "<polyline fill=\"none\" points=\"523,-189.5 579,-189.5 \" stroke=\"#000000\"/>\n",
       "<text fill=\"#000000\" font-family=\"Times,serif\" font-size=\"14.00\" text-anchor=\"middle\" x=\"551\" y=\"-174.3\">output:</text>\n",
       "<polyline fill=\"none\" points=\"579,-166.5 579,-212.5 \" stroke=\"#000000\"/>\n",
       "<text fill=\"#000000\" font-family=\"Times,serif\" font-size=\"14.00\" text-anchor=\"middle\" x=\"638.5\" y=\"-197.3\">(None, 1000)</text>\n",
       "<polyline fill=\"none\" points=\"579,-189.5 698,-189.5 \" stroke=\"#000000\"/>\n",
       "<text fill=\"#000000\" font-family=\"Times,serif\" font-size=\"14.00\" text-anchor=\"middle\" x=\"638.5\" y=\"-174.3\">(None, 1000, 300)</text>\n",
       "</g>\n",
       "<!-- 112829431032&#45;&gt;112829429688 -->\n",
       "<g class=\"edge\" id=\"edge2\">\n",
       "<title>112829431032-&gt;112829429688</title>\n",
       "<path d=\"M528,-249.3799C528,-241.1745 528,-231.7679 528,-222.8786\" fill=\"none\" stroke=\"#000000\"/>\n",
       "<polygon fill=\"#000000\" points=\"531.5001,-222.784 528,-212.784 524.5001,-222.784 531.5001,-222.784\" stroke=\"#000000\"/>\n",
       "</g>\n",
       "<!-- 112829437936 -->\n",
       "<g class=\"node\" id=\"node5\">\n",
       "<title>112829437936</title>\n",
       "<polygon fill=\"none\" points=\"212,-83.5 212,-129.5 486,-129.5 486,-83.5 212,-83.5\" stroke=\"#000000\"/>\n",
       "<text fill=\"#000000\" font-family=\"Times,serif\" font-size=\"14.00\" text-anchor=\"middle\" x=\"261.5\" y=\"-102.8\">lstm_1: LSTM</text>\n",
       "<polyline fill=\"none\" points=\"311,-83.5 311,-129.5 \" stroke=\"#000000\"/>\n",
       "<text fill=\"#000000\" font-family=\"Times,serif\" font-size=\"14.00\" text-anchor=\"middle\" x=\"339\" y=\"-114.3\">input:</text>\n",
       "<polyline fill=\"none\" points=\"311,-106.5 367,-106.5 \" stroke=\"#000000\"/>\n",
       "<text fill=\"#000000\" font-family=\"Times,serif\" font-size=\"14.00\" text-anchor=\"middle\" x=\"339\" y=\"-91.3\">output:</text>\n",
       "<polyline fill=\"none\" points=\"367,-83.5 367,-129.5 \" stroke=\"#000000\"/>\n",
       "<text fill=\"#000000\" font-family=\"Times,serif\" font-size=\"14.00\" text-anchor=\"middle\" x=\"426.5\" y=\"-114.3\">(None, 1000, 300)</text>\n",
       "<polyline fill=\"none\" points=\"367,-106.5 486,-106.5 \" stroke=\"#000000\"/>\n",
       "<text fill=\"#000000\" font-family=\"Times,serif\" font-size=\"14.00\" text-anchor=\"middle\" x=\"426.5\" y=\"-91.3\">(None, 150)</text>\n",
       "</g>\n",
       "<!-- 112829428624&#45;&gt;112829437936 -->\n",
       "<g class=\"edge\" id=\"edge3\">\n",
       "<title>112829428624-&gt;112829437936</title>\n",
       "<path d=\"M219.8615,-166.3799C241.5913,-156.304 267.2278,-144.4167 289.9077,-133.9003\" fill=\"none\" stroke=\"#000000\"/>\n",
       "<polygon fill=\"#000000\" points=\"291.4959,-137.0219 299.0958,-129.6399 288.5513,-130.6714 291.4959,-137.0219\" stroke=\"#000000\"/>\n",
       "</g>\n",
       "<!-- 112829429688&#45;&gt;112829437936 -->\n",
       "<g class=\"edge\" id=\"edge4\">\n",
       "<title>112829429688-&gt;112829437936</title>\n",
       "<path d=\"M478.1385,-166.3799C456.4087,-156.304 430.7722,-144.4167 408.0923,-133.9003\" fill=\"none\" stroke=\"#000000\"/>\n",
       "<polygon fill=\"#000000\" points=\"409.4487,-130.6714 398.9042,-129.6399 406.5041,-137.0219 409.4487,-130.6714\" stroke=\"#000000\"/>\n",
       "</g>\n",
       "<!-- 112829338624 -->\n",
       "<g class=\"node\" id=\"node6\">\n",
       "<title>112829338624</title>\n",
       "<polygon fill=\"none\" points=\"16,-.5 16,-46.5 338,-46.5 338,-.5 16,-.5\" stroke=\"#000000\"/>\n",
       "<text fill=\"#000000\" font-family=\"Times,serif\" font-size=\"14.00\" text-anchor=\"middle\" x=\"107\" y=\"-19.8\">left_tuple_embedding: Dense</text>\n",
       "<polyline fill=\"none\" points=\"198,-.5 198,-46.5 \" stroke=\"#000000\"/>\n",
       "<text fill=\"#000000\" font-family=\"Times,serif\" font-size=\"14.00\" text-anchor=\"middle\" x=\"226\" y=\"-31.3\">input:</text>\n",
       "<polyline fill=\"none\" points=\"198,-23.5 254,-23.5 \" stroke=\"#000000\"/>\n",
       "<text fill=\"#000000\" font-family=\"Times,serif\" font-size=\"14.00\" text-anchor=\"middle\" x=\"226\" y=\"-8.3\">output:</text>\n",
       "<polyline fill=\"none\" points=\"254,-.5 254,-46.5 \" stroke=\"#000000\"/>\n",
       "<text fill=\"#000000\" font-family=\"Times,serif\" font-size=\"14.00\" text-anchor=\"middle\" x=\"296\" y=\"-31.3\">(None, 150)</text>\n",
       "<polyline fill=\"none\" points=\"254,-23.5 338,-23.5 \" stroke=\"#000000\"/>\n",
       "<text fill=\"#000000\" font-family=\"Times,serif\" font-size=\"14.00\" text-anchor=\"middle\" x=\"296\" y=\"-8.3\">(None, 50)</text>\n",
       "</g>\n",
       "<!-- 112829437936&#45;&gt;112829338624 -->\n",
       "<g class=\"edge\" id=\"edge5\">\n",
       "<title>112829437936-&gt;112829338624</title>\n",
       "<path d=\"M301.0884,-83.3799C280.3011,-73.3488 255.7933,-61.5224 234.0721,-51.0406\" fill=\"none\" stroke=\"#000000\"/>\n",
       "<polygon fill=\"#000000\" points=\"235.48,-47.8338 224.9527,-46.6399 232.4378,-54.1382 235.48,-47.8338\" stroke=\"#000000\"/>\n",
       "</g>\n",
       "<!-- 112383227104 -->\n",
       "<g class=\"node\" id=\"node7\">\n",
       "<title>112383227104</title>\n",
       "<polygon fill=\"none\" points=\"356,-.5 356,-46.5 686,-46.5 686,-.5 356,-.5\" stroke=\"#000000\"/>\n",
       "<text fill=\"#000000\" font-family=\"Times,serif\" font-size=\"14.00\" text-anchor=\"middle\" x=\"451\" y=\"-19.8\">right_tuple_embedding: Dense</text>\n",
       "<polyline fill=\"none\" points=\"546,-.5 546,-46.5 \" stroke=\"#000000\"/>\n",
       "<text fill=\"#000000\" font-family=\"Times,serif\" font-size=\"14.00\" text-anchor=\"middle\" x=\"574\" y=\"-31.3\">input:</text>\n",
       "<polyline fill=\"none\" points=\"546,-23.5 602,-23.5 \" stroke=\"#000000\"/>\n",
       "<text fill=\"#000000\" font-family=\"Times,serif\" font-size=\"14.00\" text-anchor=\"middle\" x=\"574\" y=\"-8.3\">output:</text>\n",
       "<polyline fill=\"none\" points=\"602,-.5 602,-46.5 \" stroke=\"#000000\"/>\n",
       "<text fill=\"#000000\" font-family=\"Times,serif\" font-size=\"14.00\" text-anchor=\"middle\" x=\"644\" y=\"-31.3\">(None, 150)</text>\n",
       "<polyline fill=\"none\" points=\"602,-23.5 686,-23.5 \" stroke=\"#000000\"/>\n",
       "<text fill=\"#000000\" font-family=\"Times,serif\" font-size=\"14.00\" text-anchor=\"middle\" x=\"644\" y=\"-8.3\">(None, 50)</text>\n",
       "</g>\n",
       "<!-- 112829437936&#45;&gt;112383227104 -->\n",
       "<g class=\"edge\" id=\"edge6\">\n",
       "<title>112829437936-&gt;112383227104</title>\n",
       "<path d=\"M396.9116,-83.3799C417.6989,-73.3488 442.2067,-61.5224 463.9279,-51.0406\" fill=\"none\" stroke=\"#000000\"/>\n",
       "<polygon fill=\"#000000\" points=\"465.5622,-54.1382 473.0473,-46.6399 462.52,-47.8338 465.5622,-54.1382\" stroke=\"#000000\"/>\n",
       "</g>\n",
       "</g>\n",
       "</svg>"
      ],
      "text/plain": [
       "<IPython.core.display.SVG object>"
      ]
     },
     "execution_count": 13,
     "metadata": {},
     "output_type": "execute_result"
    }
   ],
   "source": [
    "SVG(model_to_dot(recordEmbeddingNN, show_shapes=True).create(prog='dot', format='svg'))"
   ]
  },
  {
   "cell_type": "code",
   "execution_count": 54,
   "metadata": {},
   "outputs": [],
   "source": [
    "predictedEmbeddings = recordEmbeddingNN.predict(x=[leftTableTrainData, rightTableTrainData])"
   ]
  },
  {
   "cell_type": "code",
   "execution_count": 55,
   "metadata": {},
   "outputs": [],
   "source": [
    "leftTableEmbeddings = predictedEmbeddings[0]\n",
    "rightTableEmbeddings = predictedEmbeddings[1]"
   ]
  },
  {
   "cell_type": "code",
   "execution_count": 58,
   "metadata": {},
   "outputs": [],
   "source": [
    "leftTableEmbeddings = leftTableEmbeddings.tolist()"
   ]
  },
  {
   "cell_type": "code",
   "execution_count": 60,
   "metadata": {},
   "outputs": [],
   "source": [
    "rightTableEmbeddings = rightTableEmbeddings.tolist()"
   ]
  },
  {
   "cell_type": "code",
   "execution_count": 62,
   "metadata": {},
   "outputs": [
    {
     "data": {
      "text/plain": [
       "array([[1., 0.],\n",
       "       [1., 0.],\n",
       "       [1., 0.],\n",
       "       ...,\n",
       "       [0., 1.],\n",
       "       [0., 1.],\n",
       "       [1., 0.]], dtype=float32)"
      ]
     },
     "execution_count": 62,
     "metadata": {},
     "output_type": "execute_result"
    }
   ],
   "source": [
    "trainLabels"
   ]
  },
  {
   "cell_type": "code",
   "execution_count": 63,
   "metadata": {},
   "outputs": [
    {
     "data": {
      "text/plain": [
       "array([0, 0, 0, 0, 0, 0, 0, 0, 0, 0, 0, 0, 0, 0, 0, 0, 0, 0, 0, 1, 0, 1,\n",
       "       0, 0, 0, 0, 0, 0, 0, 0, 1, 0, 0, 0, 0, 0, 0, 0, 0, 0, 0, 0, 0, 0,\n",
       "       0, 0, 0, 0, 0, 0, 0, 0, 0, 1, 0, 0, 0, 0, 0, 0, 0, 0, 0, 0, 0, 0,\n",
       "       0, 0, 1, 0, 0, 1, 0, 0, 0, 0, 1, 0, 0, 0, 1, 0, 0, 0, 0, 1, 0, 0,\n",
       "       0, 0, 0, 0, 0, 1, 0, 0, 0, 0, 1, 0, 0, 0, 0, 0, 0, 0, 0, 1, 0, 0,\n",
       "       1, 0, 0, 0, 0, 0, 0, 0, 0, 0, 0, 0, 0, 0, 0, 0, 0, 0, 0, 0, 0, 0,\n",
       "       0, 0, 0, 0, 0, 0, 0, 0, 0, 0, 1, 0, 0, 0, 0, 0, 0, 0, 0, 0, 0, 0,\n",
       "       0, 0, 0, 0, 0, 0, 0, 0, 0, 0, 0, 0, 0, 0, 1, 0, 0, 0, 0, 0, 0, 1,\n",
       "       0, 0, 0, 1, 1, 0, 0, 0, 1, 0, 0, 0, 0, 0, 0, 0, 0, 0, 0, 0, 0, 0,\n",
       "       0, 0, 0, 0, 0, 0, 0, 0, 0, 0, 0, 0, 0, 0, 0, 0, 0, 0, 0, 0, 0, 0,\n",
       "       0, 0, 0, 0, 0, 0, 0, 0, 0, 0, 0, 0, 0, 0, 0, 0, 0, 0, 0, 1, 0, 0,\n",
       "       0, 0, 0, 0, 0, 0, 0, 0, 1, 0, 0, 0, 0, 0, 0, 0, 0, 0, 0, 0, 0, 0,\n",
       "       0, 0, 1, 0, 0, 0, 0, 0, 0, 0, 1, 0, 0, 0, 0, 0, 0, 0, 0, 0, 0, 0,\n",
       "       0, 0, 0, 0, 0, 0, 0, 0, 0, 0, 0, 0, 0, 0, 0, 0, 0, 0, 0, 0, 0, 0,\n",
       "       0, 0, 0, 0, 0, 0, 0, 0, 0, 1, 0, 0, 0, 0, 0, 0, 0, 0, 0, 0, 0, 0,\n",
       "       1, 0, 0, 0, 0, 0, 1, 0, 0, 0, 0, 0, 0, 0, 0, 0, 0, 0, 0, 1, 0, 1,\n",
       "       1, 0, 0, 0, 0, 0, 0, 0, 0, 1, 0, 0, 0, 0, 0, 0, 1, 0, 0, 1, 0, 0,\n",
       "       0, 0, 0, 0, 0, 0, 0, 0, 0, 0, 0, 0, 0, 0, 0, 0, 0, 0, 0, 0, 0, 0,\n",
       "       0, 1, 0, 0, 0, 0, 0, 1, 0, 0, 0, 1, 1, 0, 0, 0, 0, 0, 0, 0, 0, 0,\n",
       "       0, 0, 0, 0, 1, 1, 0, 1, 0, 0, 0, 0, 1, 0, 0, 0, 0, 0, 1, 0, 1, 0,\n",
       "       0, 0, 0, 0, 0, 0, 0, 0, 0, 0, 0, 0, 0, 0, 1, 0, 0, 0, 0, 0, 1, 1,\n",
       "       0, 0, 0, 0, 0, 0, 0, 0, 0, 0, 1, 0, 0, 0, 0, 0, 0, 0, 0, 0, 0, 0,\n",
       "       1, 0, 0, 0, 0, 0, 0, 0, 0, 0, 0, 1, 1, 0, 0, 0, 0, 0, 0, 0, 0, 0,\n",
       "       0, 1, 0, 1, 0, 0, 0, 1, 0, 0, 0, 1, 0, 0, 0, 0, 1, 0, 0, 0, 0, 0,\n",
       "       1, 0, 0, 0, 0, 0, 0, 0, 0, 0, 0, 0, 1, 0, 0, 0, 0, 1, 1, 0, 0, 0,\n",
       "       0, 1, 0, 1, 0, 1, 0, 1, 0, 1, 0, 1, 0, 0, 1, 1, 0])"
      ]
     },
     "execution_count": 63,
     "metadata": {},
     "output_type": "execute_result"
    }
   ],
   "source": [
    "import numpy as np\n",
    "\n",
    "labels = np.argmax(trainLabels, axis=1)\n",
    "labels"
   ]
  },
  {
   "cell_type": "code",
   "execution_count": 64,
   "metadata": {},
   "outputs": [
    {
     "data": {
      "text/html": [
       "<div>\n",
       "<style scoped>\n",
       "    .dataframe tbody tr th:only-of-type {\n",
       "        vertical-align: middle;\n",
       "    }\n",
       "\n",
       "    .dataframe tbody tr th {\n",
       "        vertical-align: top;\n",
       "    }\n",
       "\n",
       "    .dataframe thead th {\n",
       "        text-align: right;\n",
       "    }\n",
       "</style>\n",
       "<table border=\"1\" class=\"dataframe\">\n",
       "  <thead>\n",
       "    <tr style=\"text-align: right;\">\n",
       "      <th></th>\n",
       "      <th>left_table</th>\n",
       "      <th>right_table</th>\n",
       "      <th>label</th>\n",
       "    </tr>\n",
       "  </thead>\n",
       "  <tbody>\n",
       "    <tr>\n",
       "      <th>0</th>\n",
       "      <td>[-0.0810229480266571, -0.12278076261281967, -0...</td>\n",
       "      <td>[-0.00602366030216217, -0.20371730625629425, 0...</td>\n",
       "      <td>0</td>\n",
       "    </tr>\n",
       "    <tr>\n",
       "      <th>1</th>\n",
       "      <td>[-0.18333931267261505, -0.07972639799118042, -...</td>\n",
       "      <td>[-0.00602366030216217, -0.20371730625629425, 0...</td>\n",
       "      <td>0</td>\n",
       "    </tr>\n",
       "    <tr>\n",
       "      <th>2</th>\n",
       "      <td>[-0.0675782859325409, -0.09488783776760101, -0...</td>\n",
       "      <td>[-0.00602366030216217, -0.20371730625629425, 0...</td>\n",
       "      <td>0</td>\n",
       "    </tr>\n",
       "    <tr>\n",
       "      <th>3</th>\n",
       "      <td>[-0.12036563456058502, -0.1133483275771141, -0...</td>\n",
       "      <td>[-0.00602366030216217, -0.20371730625629425, 0...</td>\n",
       "      <td>0</td>\n",
       "    </tr>\n",
       "    <tr>\n",
       "      <th>4</th>\n",
       "      <td>[-0.12906302511692047, -0.015792658552527428, ...</td>\n",
       "      <td>[-0.00602366030216217, -0.20371730625629425, 0...</td>\n",
       "      <td>0</td>\n",
       "    </tr>\n",
       "  </tbody>\n",
       "</table>\n",
       "</div>"
      ],
      "text/plain": [
       "                                          left_table  \\\n",
       "0  [-0.0810229480266571, -0.12278076261281967, -0...   \n",
       "1  [-0.18333931267261505, -0.07972639799118042, -...   \n",
       "2  [-0.0675782859325409, -0.09488783776760101, -0...   \n",
       "3  [-0.12036563456058502, -0.1133483275771141, -0...   \n",
       "4  [-0.12906302511692047, -0.015792658552527428, ...   \n",
       "\n",
       "                                         right_table  label  \n",
       "0  [-0.00602366030216217, -0.20371730625629425, 0...      0  \n",
       "1  [-0.00602366030216217, -0.20371730625629425, 0...      0  \n",
       "2  [-0.00602366030216217, -0.20371730625629425, 0...      0  \n",
       "3  [-0.00602366030216217, -0.20371730625629425, 0...      0  \n",
       "4  [-0.00602366030216217, -0.20371730625629425, 0...      0  "
      ]
     },
     "execution_count": 64,
     "metadata": {},
     "output_type": "execute_result"
    }
   ],
   "source": [
    "import pandas as pd\n",
    "\n",
    "lshTestDfDict = {\"left_table\": leftTableEmbeddings, \"right_table\": rightTableEmbeddings, \"label\": labels}\n",
    "lshTestDf = pd.DataFrame(lshTestDfDict)\n",
    "lshTestDf.head()"
   ]
  },
  {
   "cell_type": "code",
   "execution_count": 65,
   "metadata": {},
   "outputs": [
    {
     "data": {
      "text/plain": [
       "[-0.0810229480266571,\n",
       " -0.12278076261281967,\n",
       " -0.04631327465176582,\n",
       " 0.14149144291877747,\n",
       " 0.1376771628856659,\n",
       " -0.12936006486415863,\n",
       " 0.019687797874212265,\n",
       " -0.03879299759864807,\n",
       " 0.03425702452659607,\n",
       " 0.06663914769887924,\n",
       " -0.12393877655267715,\n",
       " -0.13407260179519653,\n",
       " 0.23746663331985474,\n",
       " -0.05746365711092949,\n",
       " 0.041468530893325806,\n",
       " -0.2748706638813019,\n",
       " 0.22312133014202118,\n",
       " -0.1718798279762268,\n",
       " 0.2672881484031677,\n",
       " -0.09473967552185059,\n",
       " -0.17046697437763214,\n",
       " -0.20003783702850342,\n",
       " 0.15214014053344727,\n",
       " 0.3586123585700989,\n",
       " 0.07321169972419739,\n",
       " 0.09987713396549225,\n",
       " -0.027605323120951653,\n",
       " 0.10218587517738342,\n",
       " -0.07473094761371613,\n",
       " -0.004547871649265289,\n",
       " -0.19176526367664337,\n",
       " -0.19011208415031433,\n",
       " -0.07230355590581894,\n",
       " 0.06395694613456726,\n",
       " -0.15295733511447906,\n",
       " 0.12692078948020935,\n",
       " 0.37273406982421875,\n",
       " -0.17576730251312256,\n",
       " 0.11116403341293335,\n",
       " -0.3294048607349396,\n",
       " -0.10766813158988953,\n",
       " 0.13709688186645508,\n",
       " 0.17586295306682587,\n",
       " -0.04702712222933769,\n",
       " 0.1323777735233307,\n",
       " -0.1993449628353119,\n",
       " -0.011935926973819733,\n",
       " 0.0036133453249931335,\n",
       " 0.03528159111738205,\n",
       " -0.015402793884277344]"
      ]
     },
     "execution_count": 65,
     "metadata": {},
     "output_type": "execute_result"
    }
   ],
   "source": [
    "lshTestDf['left_table'][0]"
   ]
  },
  {
   "cell_type": "code",
   "execution_count": 66,
   "metadata": {},
   "outputs": [
    {
     "data": {
      "text/plain": [
       "list"
      ]
     },
     "execution_count": 66,
     "metadata": {},
     "output_type": "execute_result"
    }
   ],
   "source": [
    "type(lshTestDf['left_table'][0])"
   ]
  },
  {
   "cell_type": "code",
   "execution_count": 68,
   "metadata": {},
   "outputs": [
    {
     "data": {
      "text/plain": [
       "50"
      ]
     },
     "execution_count": 68,
     "metadata": {},
     "output_type": "execute_result"
    }
   ],
   "source": [
    "len(lshTestDf['left_table'][0])"
   ]
  }
 ],
 "metadata": {
  "kernelspec": {
   "display_name": "Python 3",
   "language": "python",
   "name": "python3"
  },
  "language_info": {
   "codemirror_mode": {
    "name": "ipython",
    "version": 3
   },
   "file_extension": ".py",
   "mimetype": "text/x-python",
   "name": "python",
   "nbconvert_exporter": "python",
   "pygments_lexer": "ipython3",
   "version": "3.7.3"
  }
 },
 "nbformat": 4,
 "nbformat_minor": 2
}
