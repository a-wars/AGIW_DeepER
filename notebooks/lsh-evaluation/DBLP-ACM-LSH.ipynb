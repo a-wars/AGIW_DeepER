{
 "cells": [
  {
   "cell_type": "code",
   "execution_count": 1,
   "metadata": {
    "colab": {},
    "colab_type": "code",
    "id": "7T0l0CtAUHWQ"
   },
   "outputs": [],
   "source": [
    "## Imports\n",
    "import numpy as np\n",
    "import pandas as pd\n",
    "from sklearn.preprocessing import normalize\n",
    "from ast import literal_eval"
   ]
  },
  {
   "cell_type": "code",
   "execution_count": 2,
   "metadata": {},
   "outputs": [],
   "source": [
    "DATASET_NAME = 'DBLP-ACM'"
   ]
  },
  {
   "cell_type": "code",
   "execution_count": 3,
   "metadata": {
    "colab": {},
    "colab_type": "code",
    "id": "yaVNMZkjUJR0"
   },
   "outputs": [],
   "source": [
    "class LSH :\n",
    "  \n",
    "    # Random limits, const\n",
    "    __max_rand =  1000\n",
    "    __min_rand = -1000\n",
    "    \n",
    "    # Constructor\n",
    "    def __init__(self, k, L, embedding_size = 150):\n",
    "        \n",
    "        # Number of hash function\n",
    "        self.k = k\n",
    "        \n",
    "        # Number of attempts\n",
    "        self.L = L\n",
    "        \n",
    "        # Embedding length \n",
    "        self.embedding_size = embedding_size\n",
    "        \n",
    "        # Random matrices\n",
    "        self.normalized_random_matrices = []\n",
    "        \n",
    "        for i in range(self.L):\n",
    "            random_matrix = np.random.randint(self.__min_rand, self.__max_rand,(self.k, self.embedding_size));\n",
    "            \n",
    "            # Append normalized random matrices\n",
    "            self.normalized_random_matrices.append(normalize(random_matrix, axis=1, norm='l1'))\n",
    "        \n",
    "    \n",
    "    # Locality Sensitive hash function\n",
    "    def locality_sensitive_hash(self, embedding, matrix_index):\n",
    "        out = 0\n",
    "      \n",
    "        for h in self.normalized_random_matrices[matrix_index]:\n",
    "            if (np.dot(h, embedding) >= 0):\n",
    "                out = (out << 1) | 1\n",
    "            else:\n",
    "                out = (out << 1) | 0\n",
    "\n",
    "        return out\n",
    "      \n",
    "    # Divide in buckets using L-th matrix\n",
    "    def divide_in_buckets(self, embeddings, matrix_index):\n",
    "        out = {}\n",
    "        for embedding in embeddings:\n",
    "            hash = self.locality_sensitive_hash(embedding, matrix_index)\n",
    "            if (hash in out):\n",
    "                out[hash].append(embedding)\n",
    "            else:\n",
    "                out[hash] = [embedding]\n",
    "            \n",
    "        return out  \n"
   ]
  },
  {
   "cell_type": "code",
   "execution_count": 4,
   "metadata": {
    "colab": {},
    "colab_type": "code",
    "id": "mA_rrzuWVTeB"
   },
   "outputs": [
    {
     "name": "stdout",
     "output_type": "stream",
     "text": [
      "[array([[-0.08164518, -0.14257213,  0.00138122, -0.15239411, -0.15116636,\n",
      "        -0.12062615, -0.08609576,  0.10328422,  0.01135666, -0.14947821],\n",
      "       [-0.13081761,  0.08238994,  0.01865828, -0.07190776, -0.02767296,\n",
      "        -0.0442348 ,  0.16813417,  0.19266247, -0.14633124,  0.11719078],\n",
      "       [-0.13977055,  0.08413002,  0.16711281, -0.03499044,  0.14971319,\n",
      "         0.01510516,  0.13116635, -0.01300191,  0.15946463, -0.10554493],\n",
      "       [ 0.10737111, -0.06369834,  0.10715807, -0.17234768,  0.12611845,\n",
      "        -0.0556029 ,  0.13101832,  0.06327226, -0.08713251,  0.08628036],\n",
      "       [ 0.13265514, -0.08972533, -0.10050865, -0.17843337, -0.13062055,\n",
      "         0.10193286,  0.0197355 , -0.14974568,  0.00467955, -0.09196338]]), array([[ 0.0770881 ,  0.14130435, -0.12771739,  0.08052059,  0.13200801,\n",
      "        -0.09825515,  0.11999428, -0.06521739, -0.12628719,  0.03160755],\n",
      "       [-0.09193112,  0.10416963,  0.139889  , -0.05663868, -0.11000427,\n",
      "        -0.07898107, -0.13078127,  0.06873488,  0.10829657,  0.1105735 ],\n",
      "       [-0.14277023, -0.0440073 ,  0.19732306,  0.08071385,  0.04603529,\n",
      "        -0.13384709,  0.16913405, -0.04258771,  0.1032245 , -0.04035693],\n",
      "       [-0.02394917,  0.1214565 ,  0.13611926, -0.16715543, -0.12927664,\n",
      "         0.03250244, -0.01075269, -0.14076246, -0.11999022,  0.11803519],\n",
      "       [ 0.15352078, -0.14307042,  0.00149291, -0.06693207,  0.22194576,\n",
      "        -0.12565315,  0.06991789,  0.10425479,  0.0714108 , -0.04180144]])]\n",
      "13\n"
     ]
    }
   ],
   "source": [
    "test = LSH(k=5, L=2, embedding_size=10)\n",
    "print(test.normalized_random_matrices)\n",
    "\n",
    "print(test.locality_sensitive_hash([1,2,3,4,5,6,7,8,9,10], 1))"
   ]
  },
  {
   "cell_type": "code",
   "execution_count": 5,
   "metadata": {
    "colab": {},
    "colab_type": "code",
    "id": "YYp-rvQFWE9n"
   },
   "outputs": [
    {
     "name": "stdout",
     "output_type": "stream",
     "text": [
      "2\n",
      "32\n"
     ]
    }
   ],
   "source": [
    "## almost equals\n",
    "embeddings = [[1.2345,2,3,4,5,6,10.4,8,9,10],[1,2,3,4,5,6,7,8,9,10],[1,2,3,5,5,6,7,8,9,10]]\n",
    "print(len(test.divide_in_buckets(embeddings, 1)))\n",
    "\n",
    "## not equals\n",
    "embeddings = np.random.randint(-10000, 10000,(10000, 10))\n",
    "print(len(test.divide_in_buckets(embeddings, 1)))\n"
   ]
  },
  {
   "cell_type": "code",
   "execution_count": 6,
   "metadata": {
    "colab": {},
    "colab_type": "code",
    "id": "hG5IMt9GbtC4"
   },
   "outputs": [],
   "source": [
    "## TEST BLOCKING PERFORMANCE\n",
    "#    Basta che per ogni tupla vado a prendere la sua corrispondente, ne calcolo\n",
    "#     i vari L hash e controllo che almeno uno sia uguale e incremento un\n",
    "#     contatore. La precisione è contatore/numero di tuple controllate, giusto?\n",
    "def performance_test(filtered_dataset, k, L, embedding_size):\n",
    "    \n",
    "    match_found = 0\n",
    "    \n",
    "    lsh = LSH(k, L, embedding_size)\n",
    "    \n",
    "    # for each elemt in dataset\n",
    "    for index, row in filtered_dataset.iterrows():\n",
    "        x_embedding = np.array(literal_eval(row['left_table']))\n",
    "        y_embedding = np.array(literal_eval(row['right_table']))\n",
    "          \n",
    "        x_hashs = set()\n",
    "        y_hashs = set()\n",
    "        for i in range(L):\n",
    "            x_hashs.add(lsh.locality_sensitive_hash(x_embedding, i))\n",
    "            y_hashs.add(lsh.locality_sensitive_hash(y_embedding, i))\n",
    "        \n",
    "        if (len(set.intersection(x_hashs, y_hashs)) > 0):\n",
    "            match_found += 1\n",
    "  \n",
    "    \n",
    "    return match_found / len(filtered_dataset.index)"
   ]
  },
  {
   "cell_type": "code",
   "execution_count": 7,
   "metadata": {
    "colab": {
     "base_uri": "https://localhost:8080/",
     "height": 1000
    },
    "colab_type": "code",
    "id": "ul6R9eM_Gr-v",
    "outputId": "eabac908-852d-49d0-b9ed-bf5b4770a684"
   },
   "outputs": [
    {
     "name": "stdout",
     "output_type": "stream",
     "text": [
      "K: 1, L: 1, Precision:0.9594594594594594\n",
      "K: 1, L: 2, Precision:0.9954954954954955\n",
      "K: 1, L: 3, Precision:1.0\n",
      "K: 1, L: 4, Precision:1.0\n",
      "K: 1, L: 5, Precision:1.0\n",
      "K: 1, L: 6, Precision:1.0\n",
      "K: 1, L: 7, Precision:1.0\n",
      "K: 1, L: 8, Precision:1.0\n",
      "K: 1, L: 9, Precision:1.0\n",
      "K: 1, L: 10, Precision:1.0\n",
      "K: 2, L: 1, Precision:0.9256756756756757\n",
      "K: 2, L: 2, Precision:0.9932432432432432\n",
      "K: 2, L: 3, Precision:1.0\n",
      "K: 2, L: 4, Precision:1.0\n",
      "K: 2, L: 5, Precision:1.0\n",
      "K: 2, L: 6, Precision:1.0\n",
      "K: 2, L: 7, Precision:1.0\n",
      "K: 2, L: 8, Precision:1.0\n",
      "K: 2, L: 9, Precision:1.0\n",
      "K: 2, L: 10, Precision:1.0\n",
      "K: 3, L: 1, Precision:0.9054054054054054\n",
      "K: 3, L: 2, Precision:0.9774774774774775\n",
      "K: 3, L: 3, Precision:1.0\n",
      "K: 3, L: 4, Precision:0.9977477477477478\n",
      "K: 3, L: 5, Precision:1.0\n",
      "K: 3, L: 6, Precision:1.0\n",
      "K: 3, L: 7, Precision:1.0\n",
      "K: 3, L: 8, Precision:1.0\n",
      "K: 3, L: 9, Precision:1.0\n",
      "K: 3, L: 10, Precision:1.0\n",
      "K: 4, L: 1, Precision:0.8400900900900901\n",
      "K: 4, L: 2, Precision:0.972972972972973\n",
      "K: 4, L: 3, Precision:0.9842342342342343\n",
      "K: 4, L: 4, Precision:1.0\n",
      "K: 4, L: 5, Precision:1.0\n",
      "K: 4, L: 6, Precision:1.0\n",
      "K: 4, L: 7, Precision:1.0\n",
      "K: 4, L: 8, Precision:1.0\n",
      "K: 4, L: 9, Precision:1.0\n",
      "K: 4, L: 10, Precision:1.0\n",
      "K: 5, L: 1, Precision:0.8085585585585585\n",
      "K: 5, L: 2, Precision:0.9594594594594594\n",
      "K: 5, L: 3, Precision:0.9864864864864865\n",
      "K: 5, L: 4, Precision:0.9954954954954955\n",
      "K: 5, L: 5, Precision:1.0\n",
      "K: 5, L: 6, Precision:1.0\n",
      "K: 5, L: 7, Precision:1.0\n",
      "K: 5, L: 8, Precision:1.0\n",
      "K: 5, L: 9, Precision:1.0\n",
      "K: 5, L: 10, Precision:1.0\n",
      "K: 6, L: 1, Precision:0.7364864864864865\n",
      "K: 6, L: 2, Precision:0.9301801801801802\n",
      "K: 6, L: 3, Precision:0.9842342342342343\n",
      "K: 6, L: 4, Precision:0.9887387387387387\n",
      "K: 6, L: 5, Precision:0.9932432432432432\n",
      "K: 6, L: 6, Precision:0.9954954954954955\n",
      "K: 6, L: 7, Precision:0.9977477477477478\n",
      "K: 6, L: 8, Precision:0.9954954954954955\n",
      "K: 6, L: 9, Precision:1.0\n",
      "K: 6, L: 10, Precision:1.0\n",
      "K: 7, L: 1, Precision:0.7882882882882883\n",
      "K: 7, L: 2, Precision:0.9211711711711712\n",
      "K: 7, L: 3, Precision:0.9572072072072072\n",
      "K: 7, L: 4, Precision:0.9842342342342343\n",
      "K: 7, L: 5, Precision:0.990990990990991\n",
      "K: 7, L: 6, Precision:0.9977477477477478\n",
      "K: 7, L: 7, Precision:0.9977477477477478\n",
      "K: 7, L: 8, Precision:0.9932432432432432\n",
      "K: 7, L: 9, Precision:1.0\n",
      "K: 7, L: 10, Precision:1.0\n",
      "K: 8, L: 1, Precision:0.7274774774774775\n",
      "K: 8, L: 2, Precision:0.9144144144144144\n",
      "K: 8, L: 3, Precision:0.9414414414414415\n",
      "K: 8, L: 4, Precision:0.9774774774774775\n",
      "K: 8, L: 5, Precision:0.9819819819819819\n",
      "K: 8, L: 6, Precision:0.9842342342342343\n",
      "K: 8, L: 7, Precision:0.9932432432432432\n",
      "K: 8, L: 8, Precision:0.9977477477477478\n",
      "K: 8, L: 9, Precision:0.9954954954954955\n",
      "K: 8, L: 10, Precision:0.9954954954954955\n",
      "K: 9, L: 1, Precision:0.7207207207207207\n",
      "K: 9, L: 2, Precision:0.8738738738738738\n",
      "K: 9, L: 3, Precision:0.963963963963964\n",
      "K: 9, L: 4, Precision:0.972972972972973\n",
      "K: 9, L: 5, Precision:0.9774774774774775\n",
      "K: 9, L: 6, Precision:0.9842342342342343\n",
      "K: 9, L: 7, Precision:0.9977477477477478\n",
      "K: 9, L: 8, Precision:0.9954954954954955\n",
      "K: 9, L: 9, Precision:0.9954954954954955\n",
      "K: 9, L: 10, Precision:0.9954954954954955\n",
      "K: 10, L: 1, Precision:0.5990990990990991\n",
      "K: 10, L: 2, Precision:0.8716216216216216\n",
      "K: 10, L: 3, Precision:0.9234234234234234\n",
      "K: 10, L: 4, Precision:0.9707207207207207\n",
      "K: 10, L: 5, Precision:0.9774774774774775\n",
      "K: 10, L: 6, Precision:0.963963963963964\n",
      "K: 10, L: 7, Precision:0.9842342342342343\n",
      "K: 10, L: 8, Precision:0.9864864864864865\n",
      "K: 10, L: 9, Precision:0.9887387387387387\n",
      "K: 10, L: 10, Precision:0.9887387387387387\n",
      "Max precision: 1.0, k: 7, L: 10\n"
     ]
    }
   ],
   "source": [
    "## Open dataset \n",
    "df = pd.read_csv('../../lsh-test-data/' + DATASET_NAME + '-embeddings.csv')\n",
    "\n",
    "## Remove 0 labled\n",
    "df = df[df.label == 1]\n",
    "\n",
    "precision_max = 0\n",
    "k_max = 0\n",
    "L_max = 0\n",
    "for k in range(10):\n",
    "    for L in range(10):\n",
    "        precision = performance_test(df, k + 1, L + 1, 150)\n",
    "        print(\"K: {0}, L: {1}, Precision:{2}\".format(k + 1, L + 1, precision))\n",
    "        if (precision >= precision_max):\n",
    "            precision_max = precision\n",
    "            k_max = k + 1\n",
    "            L_max = L + 1\n",
    "\n",
    "print(\"Max precision: {0}, k: {1}, L: {2}\".format(precision_max, k_max, L_max))"
   ]
  }
 ],
 "metadata": {
  "colab": {
   "collapsed_sections": [],
   "name": "LSH.ipynb",
   "provenance": [],
   "version": "0.3.2"
  },
  "kernelspec": {
   "display_name": "Python 3",
   "language": "python",
   "name": "python3"
  },
  "language_info": {
   "codemirror_mode": {
    "name": "ipython",
    "version": 3
   },
   "file_extension": ".py",
   "mimetype": "text/x-python",
   "name": "python",
   "nbconvert_exporter": "python",
   "pygments_lexer": "ipython3",
   "version": "3.7.3"
  }
 },
 "nbformat": 4,
 "nbformat_minor": 1
}
