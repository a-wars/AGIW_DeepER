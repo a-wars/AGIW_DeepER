{
 "cells": [
  {
   "cell_type": "code",
   "execution_count": 1,
   "metadata": {
    "colab": {},
    "colab_type": "code",
    "id": "7T0l0CtAUHWQ"
   },
   "outputs": [],
   "source": [
    "## Imports\n",
    "import numpy as np\n",
    "import pandas as pd\n",
    "from sklearn.preprocessing import normalize\n",
    "from ast import literal_eval"
   ]
  },
  {
   "cell_type": "code",
   "execution_count": 2,
   "metadata": {},
   "outputs": [],
   "source": [
    "DATASET_NAME = 'Fodors-Zagats'"
   ]
  },
  {
   "cell_type": "code",
   "execution_count": 3,
   "metadata": {
    "colab": {},
    "colab_type": "code",
    "id": "yaVNMZkjUJR0"
   },
   "outputs": [],
   "source": [
    "class LSH :\n",
    "  \n",
    "    # Random limits, const\n",
    "    __max_rand =  1000\n",
    "    __min_rand = -1000\n",
    "    \n",
    "    # Constructor\n",
    "    def __init__(self, k, L, embedding_size = 150):\n",
    "        \n",
    "        # Number of hash function\n",
    "        self.k = k\n",
    "        \n",
    "        # Number of attempts\n",
    "        self.L = L\n",
    "        \n",
    "        # Embedding length \n",
    "        self.embedding_size = embedding_size\n",
    "        \n",
    "        # Random matrices\n",
    "        self.normalized_random_matrices = []\n",
    "        \n",
    "        for i in range(self.L):\n",
    "            random_matrix = np.random.randint(self.__min_rand, self.__max_rand,(self.k, self.embedding_size));\n",
    "            \n",
    "            # Append normalized random matrices\n",
    "            self.normalized_random_matrices.append(normalize(random_matrix, axis=1, norm='l1'))\n",
    "        \n",
    "    \n",
    "    # Locality Sensitive hash function\n",
    "    def locality_sensitive_hash(self, embedding, matrix_index):\n",
    "        out = 0\n",
    "      \n",
    "        for h in self.normalized_random_matrices[matrix_index]:\n",
    "            if (np.dot(h, embedding) >= 0):\n",
    "                out = (out << 1) | 1\n",
    "            else:\n",
    "                out = (out << 1) | 0\n",
    "\n",
    "        return out\n",
    "      \n",
    "    # Divide in buckets using L-th matrix\n",
    "    def divide_in_buckets(self, embeddings, matrix_index):\n",
    "        out = {}\n",
    "        for embedding in embeddings:\n",
    "            hash = self.locality_sensitive_hash(embedding, matrix_index)\n",
    "            if (hash in out):\n",
    "                out[hash].append(embedding)\n",
    "            else:\n",
    "                out[hash] = [embedding]\n",
    "            \n",
    "        return out  \n"
   ]
  },
  {
   "cell_type": "code",
   "execution_count": 4,
   "metadata": {
    "colab": {},
    "colab_type": "code",
    "id": "mA_rrzuWVTeB"
   },
   "outputs": [
    {
     "name": "stdout",
     "output_type": "stream",
     "text": [
      "[array([[-0.00626424, -0.08940774,  0.15489749,  0.08504176, -0.12471526,\n",
      "        -0.15299924, -0.15584662, -0.0111997 ,  0.18716781, -0.03246014],\n",
      "       [ 0.0585537 ,  0.13437669,  0.24959525, -0.07474366, -0.17701025,\n",
      "        -0.0561252 ,  0.03804641, -0.08607663,  0.06341069, -0.06206152],\n",
      "       [-0.06370705,  0.0082769 , -0.13694507, -0.10684725, -0.12214698,\n",
      "        -0.02407825, -0.0910459 ,  0.07725107,  0.15525458, -0.21444695],\n",
      "       [ 0.05470154, -0.17728089, -0.10161709,  0.09143542, -0.11678978,\n",
      "        -0.13695348, -0.12357756, -0.00039928, -0.04352166,  0.1537233 ],\n",
      "       [ 0.12409276,  0.02743848,  0.12426978,  0.16215259, -0.09895557,\n",
      "        -0.11046203,  0.06992388,  0.12338467, -0.04266242, -0.11665782]]), array([[ 0.01327861,  0.02655722,  0.17962337, -0.06711733,  0.09922743,\n",
      "         0.00676002,  0.02824722,  0.17020763,  0.18227909, -0.22670208],\n",
      "       [ 0.14599775,  0.02282976,  0.04594138, -0.09498309,  0.02282976,\n",
      "         0.06482525,  0.16149944,  0.05806088,  0.24746336,  0.13556933],\n",
      "       [ 0.00169147, -0.11705007,  0.10859269,  0.16897835,  0.11315968,\n",
      "         0.08254398,  0.11806495, -0.00828823, -0.13802436, -0.14360622],\n",
      "       [-0.0296158 ,  0.04215582, -0.24839915,  0.17502668, -0.02107791,\n",
      "         0.11926361,  0.16622199,  0.01467449,  0.14674493, -0.03681964],\n",
      "       [-0.18807339, -0.17794343, -0.01968654,  0.06001529,  0.11659021,\n",
      "        -0.16418196, -0.02178899, -0.0558104 ,  0.03383028,  0.16207951]])]\n",
      "27\n"
     ]
    }
   ],
   "source": [
    "test = LSH(k=5, L=2, embedding_size=10)\n",
    "print(test.normalized_random_matrices)\n",
    "\n",
    "print(test.locality_sensitive_hash([1,2,3,4,5,6,7,8,9,10], 1))"
   ]
  },
  {
   "cell_type": "code",
   "execution_count": 5,
   "metadata": {
    "colab": {},
    "colab_type": "code",
    "id": "YYp-rvQFWE9n"
   },
   "outputs": [
    {
     "name": "stdout",
     "output_type": "stream",
     "text": [
      "2\n",
      "32\n"
     ]
    }
   ],
   "source": [
    "## almost equals\n",
    "embeddings = [[1.2345,2,3,4,5,6,10.4,8,9,10],[1,2,3,4,5,6,7,8,9,10],[1,2,3,5,5,6,7,8,9,10]]\n",
    "print(len(test.divide_in_buckets(embeddings, 1)))\n",
    "\n",
    "## not equals\n",
    "embeddings = np.random.randint(-10000, 10000,(10000, 10))\n",
    "print(len(test.divide_in_buckets(embeddings, 1)))\n"
   ]
  },
  {
   "cell_type": "code",
   "execution_count": 6,
   "metadata": {
    "colab": {},
    "colab_type": "code",
    "id": "hG5IMt9GbtC4"
   },
   "outputs": [],
   "source": [
    "## TEST BLOCKING PERFORMANCE\n",
    "#    Basta che per ogni tupla vado a prendere la sua corrispondente, ne calcolo\n",
    "#     i vari L hash e controllo che almeno uno sia uguale e incremento un\n",
    "#     contatore. La precisione è contatore/numero di tuple controllate, giusto?\n",
    "def performance_test(filtered_dataset, k, L, embedding_size):\n",
    "    \n",
    "    match_found = 0\n",
    "    \n",
    "    lsh = LSH(k, L, embedding_size)\n",
    "    \n",
    "    # for each elemt in dataset\n",
    "    for index, row in filtered_dataset.iterrows():\n",
    "        x_embedding = np.array(literal_eval(row['left_table']))\n",
    "        y_embedding = np.array(literal_eval(row['right_table']))\n",
    "          \n",
    "        x_hashs = set()\n",
    "        y_hashs = set()\n",
    "        for i in range(L):\n",
    "            x_hashs.add(lsh.locality_sensitive_hash(x_embedding, i))\n",
    "            y_hashs.add(lsh.locality_sensitive_hash(y_embedding, i))\n",
    "        \n",
    "        if (len(set.intersection(x_hashs, y_hashs)) > 0):\n",
    "            match_found += 1\n",
    "  \n",
    "    \n",
    "    return match_found / len(filtered_dataset.index)"
   ]
  },
  {
   "cell_type": "code",
   "execution_count": 7,
   "metadata": {
    "colab": {
     "base_uri": "https://localhost:8080/",
     "height": 1000
    },
    "colab_type": "code",
    "id": "ul6R9eM_Gr-v",
    "outputId": "eabac908-852d-49d0-b9ed-bf5b4770a684"
   },
   "outputs": [
    {
     "name": "stdout",
     "output_type": "stream",
     "text": [
      "K: 1, L: 1, Precision:0.9090909090909091\n",
      "K: 1, L: 2, Precision:1.0\n",
      "K: 1, L: 3, Precision:1.0\n",
      "K: 1, L: 4, Precision:1.0\n",
      "K: 1, L: 5, Precision:1.0\n",
      "K: 1, L: 6, Precision:1.0\n",
      "K: 1, L: 7, Precision:1.0\n",
      "K: 1, L: 8, Precision:1.0\n",
      "K: 1, L: 9, Precision:1.0\n",
      "K: 1, L: 10, Precision:1.0\n",
      "K: 2, L: 1, Precision:0.9090909090909091\n",
      "K: 2, L: 2, Precision:0.9545454545454546\n",
      "K: 2, L: 3, Precision:1.0\n",
      "K: 2, L: 4, Precision:1.0\n",
      "K: 2, L: 5, Precision:1.0\n",
      "K: 2, L: 6, Precision:1.0\n",
      "K: 2, L: 7, Precision:1.0\n",
      "K: 2, L: 8, Precision:1.0\n",
      "K: 2, L: 9, Precision:1.0\n",
      "K: 2, L: 10, Precision:1.0\n",
      "K: 3, L: 1, Precision:0.8181818181818182\n",
      "K: 3, L: 2, Precision:1.0\n",
      "K: 3, L: 3, Precision:1.0\n",
      "K: 3, L: 4, Precision:1.0\n",
      "K: 3, L: 5, Precision:1.0\n",
      "K: 3, L: 6, Precision:1.0\n",
      "K: 3, L: 7, Precision:1.0\n",
      "K: 3, L: 8, Precision:1.0\n",
      "K: 3, L: 9, Precision:1.0\n",
      "K: 3, L: 10, Precision:1.0\n",
      "K: 4, L: 1, Precision:0.6818181818181818\n",
      "K: 4, L: 2, Precision:0.7727272727272727\n",
      "K: 4, L: 3, Precision:1.0\n",
      "K: 4, L: 4, Precision:1.0\n",
      "K: 4, L: 5, Precision:1.0\n",
      "K: 4, L: 6, Precision:1.0\n",
      "K: 4, L: 7, Precision:1.0\n",
      "K: 4, L: 8, Precision:1.0\n",
      "K: 4, L: 9, Precision:1.0\n",
      "K: 4, L: 10, Precision:1.0\n",
      "K: 5, L: 1, Precision:0.7727272727272727\n",
      "K: 5, L: 2, Precision:0.7272727272727273\n",
      "K: 5, L: 3, Precision:1.0\n",
      "K: 5, L: 4, Precision:0.9545454545454546\n",
      "K: 5, L: 5, Precision:1.0\n",
      "K: 5, L: 6, Precision:1.0\n",
      "K: 5, L: 7, Precision:1.0\n",
      "K: 5, L: 8, Precision:1.0\n",
      "K: 5, L: 9, Precision:1.0\n",
      "K: 5, L: 10, Precision:1.0\n",
      "K: 6, L: 1, Precision:0.45454545454545453\n",
      "K: 6, L: 2, Precision:0.8181818181818182\n",
      "K: 6, L: 3, Precision:0.9090909090909091\n",
      "K: 6, L: 4, Precision:0.9090909090909091\n",
      "K: 6, L: 5, Precision:0.9545454545454546\n",
      "K: 6, L: 6, Precision:1.0\n",
      "K: 6, L: 7, Precision:1.0\n",
      "K: 6, L: 8, Precision:1.0\n",
      "K: 6, L: 9, Precision:1.0\n",
      "K: 6, L: 10, Precision:1.0\n",
      "K: 7, L: 1, Precision:0.45454545454545453\n",
      "K: 7, L: 2, Precision:0.8181818181818182\n",
      "K: 7, L: 3, Precision:0.8636363636363636\n",
      "K: 7, L: 4, Precision:0.9545454545454546\n",
      "K: 7, L: 5, Precision:0.9545454545454546\n",
      "K: 7, L: 6, Precision:1.0\n",
      "K: 7, L: 7, Precision:0.9545454545454546\n",
      "K: 7, L: 8, Precision:1.0\n",
      "K: 7, L: 9, Precision:1.0\n",
      "K: 7, L: 10, Precision:1.0\n",
      "K: 8, L: 1, Precision:0.5\n",
      "K: 8, L: 2, Precision:0.5909090909090909\n",
      "K: 8, L: 3, Precision:0.9090909090909091\n",
      "K: 8, L: 4, Precision:0.7727272727272727\n",
      "K: 8, L: 5, Precision:1.0\n",
      "K: 8, L: 6, Precision:1.0\n",
      "K: 8, L: 7, Precision:1.0\n",
      "K: 8, L: 8, Precision:1.0\n",
      "K: 8, L: 9, Precision:0.9545454545454546\n",
      "K: 8, L: 10, Precision:1.0\n",
      "K: 9, L: 1, Precision:0.4090909090909091\n",
      "K: 9, L: 2, Precision:0.7727272727272727\n",
      "K: 9, L: 3, Precision:0.8636363636363636\n",
      "K: 9, L: 4, Precision:1.0\n",
      "K: 9, L: 5, Precision:0.9545454545454546\n",
      "K: 9, L: 6, Precision:0.9090909090909091\n",
      "K: 9, L: 7, Precision:1.0\n",
      "K: 9, L: 8, Precision:1.0\n",
      "K: 9, L: 9, Precision:1.0\n",
      "K: 9, L: 10, Precision:1.0\n",
      "K: 10, L: 1, Precision:0.45454545454545453\n",
      "K: 10, L: 2, Precision:0.6363636363636364\n",
      "K: 10, L: 3, Precision:0.9090909090909091\n",
      "K: 10, L: 4, Precision:0.8636363636363636\n",
      "K: 10, L: 5, Precision:0.9090909090909091\n",
      "K: 10, L: 6, Precision:1.0\n",
      "K: 10, L: 7, Precision:0.9545454545454546\n",
      "K: 10, L: 8, Precision:1.0\n",
      "K: 10, L: 9, Precision:1.0\n",
      "K: 10, L: 10, Precision:0.9545454545454546\n",
      "Max precision: 1.0, k: 10, L: 9\n"
     ]
    }
   ],
   "source": [
    "## Open dataset \n",
    "df = pd.read_csv('../../lsh-test-data/' + DATASET_NAME + '-embeddings.csv')\n",
    "\n",
    "## Remove 0 labled\n",
    "df = df[df.label == 1]\n",
    "\n",
    "precision_max = 0\n",
    "k_max = 0\n",
    "L_max = 0\n",
    "for k in range(10):\n",
    "    for L in range(10):\n",
    "        precision = performance_test(df, k + 1, L + 1, 150)\n",
    "        print(\"K: {0}, L: {1}, Precision:{2}\".format(k + 1, L + 1, precision))\n",
    "        if (precision >= precision_max):\n",
    "            precision_max = precision\n",
    "            k_max = k + 1\n",
    "            L_max = L + 1\n",
    "\n",
    "print(\"Max precision: {0}, k: {1}, L: {2}\".format(precision_max, k_max, L_max))"
   ]
  }
 ],
 "metadata": {
  "colab": {
   "collapsed_sections": [],
   "name": "LSH.ipynb",
   "provenance": [],
   "version": "0.3.2"
  },
  "kernelspec": {
   "display_name": "Python 3",
   "language": "python",
   "name": "python3"
  },
  "language_info": {
   "codemirror_mode": {
    "name": "ipython",
    "version": 3
   },
   "file_extension": ".py",
   "mimetype": "text/x-python",
   "name": "python",
   "nbconvert_exporter": "python",
   "pygments_lexer": "ipython3",
   "version": "3.7.3"
  }
 },
 "nbformat": 4,
 "nbformat_minor": 1
}
