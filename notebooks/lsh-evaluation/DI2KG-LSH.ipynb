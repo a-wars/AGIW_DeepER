{
 "cells": [
  {
   "cell_type": "code",
   "execution_count": 1,
   "metadata": {
    "colab": {},
    "colab_type": "code",
    "id": "7T0l0CtAUHWQ"
   },
   "outputs": [],
   "source": [
    "## Imports\n",
    "import numpy as np\n",
    "import pandas as pd\n",
    "from sklearn.preprocessing import normalize\n",
    "from ast import literal_eval"
   ]
  },
  {
   "cell_type": "code",
   "execution_count": 2,
   "metadata": {},
   "outputs": [],
   "source": [
    "DATASET_NAME = 'DI2KG'"
   ]
  },
  {
   "cell_type": "code",
   "execution_count": 3,
   "metadata": {
    "colab": {},
    "colab_type": "code",
    "id": "yaVNMZkjUJR0"
   },
   "outputs": [],
   "source": [
    "class LSH :\n",
    "  \n",
    "    # Random limits, const\n",
    "    __max_rand =  1000\n",
    "    __min_rand = -1000\n",
    "    \n",
    "    # Constructor\n",
    "    def __init__(self, k, L, embedding_size = 150):\n",
    "        \n",
    "        # Number of hash function\n",
    "        self.k = k\n",
    "        \n",
    "        # Number of attempts\n",
    "        self.L = L\n",
    "        \n",
    "        # Embedding length \n",
    "        self.embedding_size = embedding_size\n",
    "        \n",
    "        # Random matrices\n",
    "        self.normalized_random_matrices = []\n",
    "        \n",
    "        for i in range(self.L):\n",
    "            random_matrix = np.random.randint(self.__min_rand, self.__max_rand,(self.k, self.embedding_size));\n",
    "            \n",
    "            # Append normalized random matrices\n",
    "            self.normalized_random_matrices.append(normalize(random_matrix, axis=1, norm='l1'))\n",
    "        \n",
    "    \n",
    "    # Locality Sensitive hash function\n",
    "    def locality_sensitive_hash(self, embedding, matrix_index):\n",
    "        out = 0\n",
    "      \n",
    "        for h in self.normalized_random_matrices[matrix_index]:\n",
    "            if (np.dot(h, embedding) >= 0):\n",
    "                out = (out << 1) | 1\n",
    "            else:\n",
    "                out = (out << 1) | 0\n",
    "\n",
    "        return out\n",
    "      \n",
    "    # Divide in buckets using L-th matrix\n",
    "    def divide_in_buckets(self, embeddings, matrix_index):\n",
    "        out = {}\n",
    "        for embedding in embeddings:\n",
    "            hash = self.locality_sensitive_hash(embedding, matrix_index)\n",
    "            if (hash in out):\n",
    "                out[hash].append(embedding)\n",
    "            else:\n",
    "                out[hash] = [embedding]\n",
    "            \n",
    "        return out  \n"
   ]
  },
  {
   "cell_type": "code",
   "execution_count": 4,
   "metadata": {
    "colab": {},
    "colab_type": "code",
    "id": "mA_rrzuWVTeB"
   },
   "outputs": [
    {
     "name": "stdout",
     "output_type": "stream",
     "text": [
      "[array([[-0.13306217,  0.03312028,  0.11427465,  0.09451869, -0.036994  ,\n",
      "        -0.17160566,  0.09490606, -0.08018594,  0.05539415, -0.18593841],\n",
      "       [-0.07880111,  0.04704248,  0.14331084,  0.08793172, -0.04902739,\n",
      "         0.09547439,  0.16415244, -0.02481143, -0.19710202, -0.11234617],\n",
      "       [-0.01154734,  0.19091609,  0.17603285,  0.01590967, -0.03746472,\n",
      "        -0.12702079,  0.07287657, -0.00949448,  0.20605594,  0.15268155],\n",
      "       [-0.09708002, -0.18467956,  0.08513462,  0.04095563, -0.06010618,\n",
      "        -0.04209329,  0.08703072,  0.1835419 ,  0.13860447, -0.08077361],\n",
      "       [ 0.02822474, -0.07412292, -0.04457927,  0.17515168, -0.22975468,\n",
      "        -0.22579794, -0.01318913,  0.17436033, -0.02242152, -0.01239778]]), array([[-0.02437923, -0.05327314, -0.10722348,  0.13837472,  0.06930023,\n",
      "        -0.11602709,  0.17878104,  0.00474041, -0.10180587, -0.20609481],\n",
      "       [-0.11084906,  0.10919811, -0.05849057,  0.10306604,  0.03207547,\n",
      "         0.17735849, -0.23584906, -0.05966981, -0.01627358,  0.09716981],\n",
      "       [-0.07553121,  0.03618858,  0.1623506 , -0.03801461, -0.07436919,\n",
      "         0.15189243,  0.15869854, -0.06025896,  0.14508632, -0.09760956],\n",
      "       [-0.06184142,  0.1497668 , -0.10899983, -0.09103472,  0.01831059,\n",
      "        -0.13646571,  0.02297461, -0.16254966, -0.12178269, -0.12627397],\n",
      "       [ 0.14148061, -0.16944771,  0.11633373,  0.12643948,  0.13137485,\n",
      "         0.01974148, -0.03525264, -0.04629847,  0.160047  ,  0.05358402]])]\n",
      "13\n"
     ]
    }
   ],
   "source": [
    "test = LSH(k=5, L=2, embedding_size=10)\n",
    "print(test.normalized_random_matrices)\n",
    "\n",
    "print(test.locality_sensitive_hash([1,2,3,4,5,6,7,8,9,10], 1))"
   ]
  },
  {
   "cell_type": "code",
   "execution_count": 5,
   "metadata": {
    "colab": {},
    "colab_type": "code",
    "id": "YYp-rvQFWE9n"
   },
   "outputs": [
    {
     "name": "stdout",
     "output_type": "stream",
     "text": [
      "2\n",
      "32\n"
     ]
    }
   ],
   "source": [
    "## almost equals\n",
    "embeddings = [[1.2345,2,3,4,5,6,10.4,8,9,10],[1,2,3,4,5,6,7,8,9,10],[1,2,3,5,5,6,7,8,9,10]]\n",
    "print(len(test.divide_in_buckets(embeddings, 1)))\n",
    "\n",
    "## not equals\n",
    "embeddings = np.random.randint(-10000, 10000,(10000, 10))\n",
    "print(len(test.divide_in_buckets(embeddings, 1)))\n"
   ]
  },
  {
   "cell_type": "code",
   "execution_count": 6,
   "metadata": {
    "colab": {},
    "colab_type": "code",
    "id": "hG5IMt9GbtC4"
   },
   "outputs": [],
   "source": [
    "## TEST BLOCKING PERFORMANCE\n",
    "#    Basta che per ogni tupla vado a prendere la sua corrispondente, ne calcolo\n",
    "#     i vari L hash e controllo che almeno uno sia uguale e incremento un\n",
    "#     contatore. La precisione è contatore/numero di tuple controllate, giusto?\n",
    "def performance_test(filtered_dataset, k, L, embedding_size):\n",
    "    \n",
    "    match_found = 0\n",
    "    \n",
    "    lsh = LSH(k, L, embedding_size)\n",
    "    \n",
    "    # for each elemt in dataset\n",
    "    for index, row in filtered_dataset.iterrows():\n",
    "        x_embedding = np.array(literal_eval(row['left_table']))\n",
    "        y_embedding = np.array(literal_eval(row['right_table']))\n",
    "          \n",
    "        x_hashs = set()\n",
    "        y_hashs = set()\n",
    "        for i in range(L):\n",
    "            x_hashs.add(lsh.locality_sensitive_hash(x_embedding, i))\n",
    "            y_hashs.add(lsh.locality_sensitive_hash(y_embedding, i))\n",
    "        \n",
    "        if (len(set.intersection(x_hashs, y_hashs)) > 0):\n",
    "            match_found += 1\n",
    "  \n",
    "    \n",
    "    return match_found / len(filtered_dataset.index)"
   ]
  },
  {
   "cell_type": "code",
   "execution_count": 7,
   "metadata": {
    "colab": {
     "base_uri": "https://localhost:8080/",
     "height": 1000
    },
    "colab_type": "code",
    "id": "ul6R9eM_Gr-v",
    "outputId": "eabac908-852d-49d0-b9ed-bf5b4770a684"
   },
   "outputs": [
    {
     "name": "stdout",
     "output_type": "stream",
     "text": [
      "K: 1, L: 1, Precision:0.9130434782608695\n",
      "K: 1, L: 2, Precision:1.0\n",
      "K: 1, L: 3, Precision:1.0\n",
      "K: 1, L: 4, Precision:1.0\n",
      "K: 1, L: 5, Precision:1.0\n",
      "K: 1, L: 6, Precision:1.0\n",
      "K: 1, L: 7, Precision:1.0\n",
      "K: 1, L: 8, Precision:1.0\n",
      "K: 1, L: 9, Precision:1.0\n",
      "K: 1, L: 10, Precision:1.0\n",
      "K: 2, L: 1, Precision:0.4782608695652174\n",
      "K: 2, L: 2, Precision:0.8260869565217391\n",
      "K: 2, L: 3, Precision:1.0\n",
      "K: 2, L: 4, Precision:1.0\n",
      "K: 2, L: 5, Precision:1.0\n",
      "K: 2, L: 6, Precision:1.0\n",
      "K: 2, L: 7, Precision:1.0\n",
      "K: 2, L: 8, Precision:1.0\n",
      "K: 2, L: 9, Precision:1.0\n",
      "K: 2, L: 10, Precision:1.0\n",
      "K: 3, L: 1, Precision:0.9130434782608695\n",
      "K: 3, L: 2, Precision:0.8260869565217391\n",
      "K: 3, L: 3, Precision:1.0\n",
      "K: 3, L: 4, Precision:0.9130434782608695\n",
      "K: 3, L: 5, Precision:1.0\n",
      "K: 3, L: 6, Precision:1.0\n",
      "K: 3, L: 7, Precision:1.0\n",
      "K: 3, L: 8, Precision:1.0\n",
      "K: 3, L: 9, Precision:1.0\n",
      "K: 3, L: 10, Precision:1.0\n",
      "K: 4, L: 1, Precision:0.4782608695652174\n",
      "K: 4, L: 2, Precision:0.8260869565217391\n",
      "K: 4, L: 3, Precision:0.782608695652174\n",
      "K: 4, L: 4, Precision:0.9565217391304348\n",
      "K: 4, L: 5, Precision:0.9565217391304348\n",
      "K: 4, L: 6, Precision:1.0\n",
      "K: 4, L: 7, Precision:1.0\n",
      "K: 4, L: 8, Precision:1.0\n",
      "K: 4, L: 9, Precision:1.0\n",
      "K: 4, L: 10, Precision:1.0\n",
      "K: 5, L: 1, Precision:0.2608695652173913\n",
      "K: 5, L: 2, Precision:0.5217391304347826\n",
      "K: 5, L: 3, Precision:0.8260869565217391\n",
      "K: 5, L: 4, Precision:0.8260869565217391\n",
      "K: 5, L: 5, Precision:0.8260869565217391\n",
      "K: 5, L: 6, Precision:0.8695652173913043\n",
      "K: 5, L: 7, Precision:0.9565217391304348\n",
      "K: 5, L: 8, Precision:1.0\n",
      "K: 5, L: 9, Precision:0.9565217391304348\n",
      "K: 5, L: 10, Precision:1.0\n",
      "K: 6, L: 1, Precision:0.21739130434782608\n",
      "K: 6, L: 2, Precision:0.30434782608695654\n",
      "K: 6, L: 3, Precision:0.5217391304347826\n",
      "K: 6, L: 4, Precision:0.5652173913043478\n",
      "K: 6, L: 5, Precision:0.9130434782608695\n",
      "K: 6, L: 6, Precision:1.0\n",
      "K: 6, L: 7, Precision:0.9130434782608695\n",
      "K: 6, L: 8, Precision:0.9130434782608695\n",
      "K: 6, L: 9, Precision:1.0\n",
      "K: 6, L: 10, Precision:0.8695652173913043\n",
      "K: 7, L: 1, Precision:0.30434782608695654\n",
      "K: 7, L: 2, Precision:0.30434782608695654\n",
      "K: 7, L: 3, Precision:0.4782608695652174\n",
      "K: 7, L: 4, Precision:0.782608695652174\n",
      "K: 7, L: 5, Precision:0.5652173913043478\n",
      "K: 7, L: 6, Precision:0.782608695652174\n",
      "K: 7, L: 7, Precision:0.9130434782608695\n",
      "K: 7, L: 8, Precision:0.5652173913043478\n",
      "K: 7, L: 9, Precision:0.8695652173913043\n",
      "K: 7, L: 10, Precision:1.0\n",
      "K: 8, L: 1, Precision:0.30434782608695654\n",
      "K: 8, L: 2, Precision:0.34782608695652173\n",
      "K: 8, L: 3, Precision:0.6521739130434783\n",
      "K: 8, L: 4, Precision:0.5652173913043478\n",
      "K: 8, L: 5, Precision:0.43478260869565216\n",
      "K: 8, L: 6, Precision:0.782608695652174\n",
      "K: 8, L: 7, Precision:0.6521739130434783\n",
      "K: 8, L: 8, Precision:0.6956521739130435\n",
      "K: 8, L: 9, Precision:0.6956521739130435\n",
      "K: 8, L: 10, Precision:0.6956521739130435\n",
      "K: 9, L: 1, Precision:0.21739130434782608\n",
      "K: 9, L: 2, Precision:0.30434782608695654\n",
      "K: 9, L: 3, Precision:0.30434782608695654\n",
      "K: 9, L: 4, Precision:0.391304347826087\n",
      "K: 9, L: 5, Precision:0.391304347826087\n",
      "K: 9, L: 6, Precision:0.5217391304347826\n",
      "K: 9, L: 7, Precision:0.6086956521739131\n",
      "K: 9, L: 8, Precision:0.8260869565217391\n",
      "K: 9, L: 9, Precision:0.5652173913043478\n",
      "K: 9, L: 10, Precision:0.7391304347826086\n",
      "K: 10, L: 1, Precision:0.0\n",
      "K: 10, L: 2, Precision:0.17391304347826086\n",
      "K: 10, L: 3, Precision:0.43478260869565216\n",
      "K: 10, L: 4, Precision:0.43478260869565216\n",
      "K: 10, L: 5, Precision:0.6086956521739131\n",
      "K: 10, L: 6, Precision:0.43478260869565216\n",
      "K: 10, L: 7, Precision:0.5652173913043478\n",
      "K: 10, L: 8, Precision:0.5217391304347826\n",
      "K: 10, L: 9, Precision:0.5652173913043478\n",
      "K: 10, L: 10, Precision:0.6956521739130435\n",
      "Max precision: 1.0, k: 7, L: 10\n"
     ]
    }
   ],
   "source": [
    "## Open dataset \n",
    "df = pd.read_csv('../../lsh-test-data/' + DATASET_NAME + '-embeddings.csv')\n",
    "\n",
    "## Remove 0 labled\n",
    "df = df[df.label == 1]\n",
    "\n",
    "precision_max = 0\n",
    "k_max = 0\n",
    "L_max = 0\n",
    "for k in range(10):\n",
    "    for L in range(10):\n",
    "        precision = performance_test(df, k + 1, L + 1, 150)\n",
    "        print(\"K: {0}, L: {1}, Precision:{2}\".format(k + 1, L + 1, precision))\n",
    "        if (precision >= precision_max):\n",
    "            precision_max = precision\n",
    "            k_max = k + 1\n",
    "            L_max = L + 1\n",
    "\n",
    "print(\"Max precision: {0}, k: {1}, L: {2}\".format(precision_max, k_max, L_max))"
   ]
  }
 ],
 "metadata": {
  "colab": {
   "collapsed_sections": [],
   "name": "LSH.ipynb",
   "provenance": [],
   "version": "0.3.2"
  },
  "kernelspec": {
   "display_name": "Python 3",
   "language": "python",
   "name": "python3"
  },
  "language_info": {
   "codemirror_mode": {
    "name": "ipython",
    "version": 3
   },
   "file_extension": ".py",
   "mimetype": "text/x-python",
   "name": "python",
   "nbconvert_exporter": "python",
   "pygments_lexer": "ipython3",
   "version": "3.7.3"
  }
 },
 "nbformat": 4,
 "nbformat_minor": 1
}
