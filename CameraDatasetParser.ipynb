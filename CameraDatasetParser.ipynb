{
 "cells": [
  {
   "cell_type": "code",
   "execution_count": 1,
   "metadata": {},
   "outputs": [],
   "source": [
    "import json"
   ]
  },
  {
   "cell_type": "code",
   "execution_count": 2,
   "metadata": {},
   "outputs": [],
   "source": [
    "import json\n",
    "ENTITIES_FILEPATH='camera_trainingset/camera-ENTITIES.json'\n",
    "JSON_FILES_FILEPATH = 'camera_trainingset/camera-JSON_FILES.json'\n",
    "with open(ENTITIES_FILEPATH) as json_file:\n",
    "    matching = json.load(json_file)\n",
    "with open(JSON_FILES_FILEPATH) as json_file:\n",
    "    json_filepaths = json.load(json_file)"
   ]
  },
  {
   "cell_type": "code",
   "execution_count": 3,
   "metadata": {},
   "outputs": [
    {
     "data": {
      "text/plain": [
       "29787"
      ]
     },
     "execution_count": 3,
     "metadata": {},
     "output_type": "execute_result"
    }
   ],
   "source": [
    "len(json_filepaths)"
   ]
  },
  {
   "cell_type": "code",
   "execution_count": 4,
   "metadata": {},
   "outputs": [],
   "source": [
    "import os\n",
    "\n",
    "filepaths = {}\n",
    "DATASET_FILEPATH = 'camera_dataset/2013_camera_dataset/'\n",
    "for filepath in json_filepaths:\n",
    "    json_id = filepath['resource_id']\n",
    "    domain = filepath['source_name']\n",
    "    filename = str(filepath['json_number'])+'.json'\n",
    "    filepaths[json_id]= os.path.join(DATASET_FILEPATH,domain,filename)"
   ]
  },
  {
   "cell_type": "code",
   "execution_count": 5,
   "metadata": {},
   "outputs": [],
   "source": [
    "# positives samples è una tupla record1,record2,matching/nomatching\n",
    "positives_samples = []\n",
    "for entity in matching:\n",
    "    instances = entity['instances']\n",
    "    i=0\n",
    "    for instance in instances:\n",
    "        filepath = filepaths[instance]\n",
    "        with open(filepath) as json_file:\n",
    "            record = json.load(json_file)\n",
    "            left_page_title = record['<page title>']\n",
    "        for j in range(i+1,len(instances)):\n",
    "            filepath = filepaths[instances[j]]\n",
    "            with open(filepath) as json_file:\n",
    "                record = json.load(json_file)\n",
    "                right_page_title = record['<page title>']\n",
    "                positives_samples.append((left_page_title,right_page_title,1))\n",
    "        i += 1"
   ]
  },
  {
   "cell_type": "code",
   "execution_count": 6,
   "metadata": {},
   "outputs": [
    {
     "data": {
      "text/plain": [
       "1"
      ]
     },
     "execution_count": 6,
     "metadata": {},
     "output_type": "execute_result"
    }
   ],
   "source": [
    "positives_samples[200][2]"
   ]
  },
  {
   "cell_type": "code",
   "execution_count": 25,
   "metadata": {},
   "outputs": [
    {
     "data": {
      "text/plain": [
       "244"
      ]
     },
     "execution_count": 25,
     "metadata": {},
     "output_type": "execute_result"
    }
   ],
   "source": [
    "len(positives_samples)"
   ]
  },
  {
   "cell_type": "code",
   "execution_count": 7,
   "metadata": {},
   "outputs": [],
   "source": [
    "all_sources = os.listdir('camera_dataset/2013_camera_dataset')"
   ]
  },
  {
   "cell_type": "code",
   "execution_count": 8,
   "metadata": {},
   "outputs": [
    {
     "data": {
      "text/plain": [
       "'cammarkt.com'"
      ]
     },
     "execution_count": 8,
     "metadata": {},
     "output_type": "execute_result"
    }
   ],
   "source": [
    "import random\n",
    "random.choice(all_sources)"
   ]
  },
  {
   "cell_type": "code",
   "execution_count": 9,
   "metadata": {},
   "outputs": [],
   "source": [
    "import numpy as np\n",
    "GLOVE_DIR='glove'\n",
    "GLOVE_FILENAME='glove.840B.300d.txt'\n",
    "wordToEmbeddingMap = {}\n",
    "with open(GLOVE_DIR+'/'+GLOVE_FILENAME) as f:\n",
    "    for line in f:\n",
    "        word, coefs = line.split(maxsplit=1)\n",
    "        coefs = np.fromstring(coefs, 'f', sep=' ')\n",
    "        if len(coefs) != 0:\n",
    "            wordToEmbeddingMap[word] = coefs"
   ]
  },
  {
   "cell_type": "code",
   "execution_count": 10,
   "metadata": {},
   "outputs": [
    {
     "name": "stderr",
     "output_type": "stream",
     "text": [
      "[nltk_data] Downloading package stopwords to\n",
      "[nltk_data]     /Users/jgmathew/nltk_data...\n",
      "[nltk_data]   Package stopwords is already up-to-date!\n"
     ]
    }
   ],
   "source": [
    "import nltk\n",
    "stopwords = nltk.download(\"stopwords\")\n",
    "\n",
    "from nltk.tokenize import RegexpTokenizer\n",
    "from nltk.corpus import stopwords\n",
    "tokenizer = RegexpTokenizer(r'\\w+')\n",
    "stop_words = set(stopwords.words('english'))\n",
    "stop_words.update(['.', ',', '\"', \"'\", ':', ';', '(', ')', '[', ']', '{', '}','|','-'])"
   ]
  },
  {
   "cell_type": "code",
   "execution_count": 80,
   "metadata": {},
   "outputs": [],
   "source": [
    "BASE_DIR ='camera_dataset/2013_camera_dataset/'\n",
    "source1 = 'buy.net'\n",
    "source2 = 'www.henrys.com'\n",
    "source3 = 'www.shopbot.com.au'\n",
    "source4 = 'www.canon-europe.com'\n",
    "\n",
    "'''\n",
    "while(source2==source1):\n",
    "    source2 = random.choice(all_sources)\n",
    "'''\n",
    "\n",
    "all_files_source1 = os.listdir(BASE_DIR+source1)\n",
    "all_files_source2 = os.listdir(BASE_DIR+source2)\n",
    "all_files_source3 = os.listdir(BASE_DIR+source3)\n",
    "all_files_source4 = os.listdir(BASE_DIR+source4)"
   ]
  },
  {
   "cell_type": "code",
   "execution_count": 81,
   "metadata": {},
   "outputs": [],
   "source": [
    "all_json_source1 = list(filter(lambda s: s.endswith('.json'), all_files_source1))\n",
    "all_json_source2 = list(filter(lambda s: s.endswith('.json'),all_files_source2))\n",
    "all_json_source3 = list(filter(lambda s: s.endswith('.json'),all_files_source3))\n",
    "all_json_source4 = list(filter(lambda s: s.endswith('.json'),all_files_source4))"
   ]
  },
  {
   "cell_type": "code",
   "execution_count": 82,
   "metadata": {},
   "outputs": [],
   "source": [
    "all_json_source1 = random.sample(all_json_source1, 50)\n",
    "all_json_source2 = random.sample(all_json_source2, 50)\n",
    "all_json_source3 = random.sample(all_json_source3, 50)\n",
    "all_json_source4 = random.sample(all_json_source4, 50)"
   ]
  },
  {
   "cell_type": "code",
   "execution_count": 83,
   "metadata": {},
   "outputs": [
    {
     "name": "stdout",
     "output_type": "stream",
     "text": [
      "buy.net\n",
      "716\n",
      "50\n"
     ]
    }
   ],
   "source": [
    "print(source1)\n",
    "print(len(all_files_source1))\n",
    "print(len(all_json_source1))"
   ]
  },
  {
   "cell_type": "code",
   "execution_count": 84,
   "metadata": {},
   "outputs": [
    {
     "name": "stdout",
     "output_type": "stream",
     "text": [
      "www.henrys.com\n",
      "362\n",
      "50\n"
     ]
    }
   ],
   "source": [
    "print(source2)\n",
    "print(len(all_files_source2))\n",
    "print(len(all_json_source2))"
   ]
  },
  {
   "cell_type": "code",
   "execution_count": 85,
   "metadata": {},
   "outputs": [
    {
     "name": "stdout",
     "output_type": "stream",
     "text": [
      "www.shopbot.com.au\n",
      "1032\n",
      "50\n"
     ]
    }
   ],
   "source": [
    "print(source3)\n",
    "print(len(all_files_source3))\n",
    "print(len(all_json_source3))"
   ]
  },
  {
   "cell_type": "code",
   "execution_count": 86,
   "metadata": {},
   "outputs": [
    {
     "name": "stdout",
     "output_type": "stream",
     "text": [
      "www.canon-europe.com\n",
      "328\n",
      "50\n"
     ]
    }
   ],
   "source": [
    "print(source4)\n",
    "print(len(all_files_source4))\n",
    "print(len(all_json_source4))"
   ]
  },
  {
   "cell_type": "code",
   "execution_count": 87,
   "metadata": {},
   "outputs": [],
   "source": [
    "def extract_titles(filenamelist,source,basedir=BASE_DIR):\n",
    "    page_titles = []\n",
    "    for filename in filenamelist:\n",
    "        filepath = os.path.join(BASE_DIR,source,filename)\n",
    "        with open(filepath) as json_file:\n",
    "            json_ob = json.load(json_file)\n",
    "            page_title = json_ob['<page title>']\n",
    "            page_titles.append(page_title)\n",
    "    return page_titles                "
   ]
  },
  {
   "cell_type": "code",
   "execution_count": 88,
   "metadata": {},
   "outputs": [],
   "source": [
    "def createDistributedRapresentation(recordTitleList):\n",
    "    embeddingMap = {}\n",
    "    for recordtitle in recordTitleList:\n",
    "        currentTitle = recordtitle\n",
    "        tokens_title = tokenizer.tokenize(currentTitle)\n",
    "        filtered_title = [word for word in tokens_title if word not in stop_words]\n",
    "        #processo di creazione del vettore di embedding\n",
    "        numeratoreVec = np.zeros(300)\n",
    "        ntokens = 0\n",
    "        for token in filtered_title:\n",
    "            ntokens += 1\n",
    "            embeddingVector = wordToEmbeddingMap.get(token)\n",
    "            if embeddingVector is not None:\n",
    "                numeratoreVec += embeddingVector\n",
    "        tupleEmbedding = numeratoreVec /ntokens\n",
    "        embeddingMap[currentTitle]= tupleEmbedding\n",
    "    return embeddingMap"
   ]
  },
  {
   "cell_type": "code",
   "execution_count": 89,
   "metadata": {},
   "outputs": [],
   "source": [
    "titlesList_source1 = extract_titles(all_json_source1,source1)\n",
    "titlesList_source2 = extract_titles(all_json_source2,source2)\n",
    "titlesList_source3 = extract_titles(all_json_source3,source3)\n",
    "titlesList_source4 = extract_titles(all_json_source4,source4)"
   ]
  },
  {
   "cell_type": "code",
   "execution_count": 90,
   "metadata": {},
   "outputs": [],
   "source": [
    "embedding_source1 = createDistributedRapresentation(titlesList_source1)\n",
    "embedding_source2 = createDistributedRapresentation(titlesList_source2)\n",
    "embedding_source3 = createDistributedRapresentation(titlesList_source3)\n",
    "embedding_source4 = createDistributedRapresentation(titlesList_source4)"
   ]
  },
  {
   "cell_type": "code",
   "execution_count": 91,
   "metadata": {},
   "outputs": [],
   "source": [
    "from sklearn.metrics.pairwise import cosine_similarity"
   ]
  },
  {
   "cell_type": "code",
   "execution_count": 92,
   "metadata": {},
   "outputs": [
    {
     "name": "stdout",
     "output_type": "stream",
     "text": [
      "50\n",
      "50\n"
     ]
    }
   ],
   "source": [
    "print(len(embedding_source1))\n",
    "print(len(titlesList_source1))"
   ]
  },
  {
   "cell_type": "code",
   "execution_count": 93,
   "metadata": {},
   "outputs": [
    {
     "name": "stdout",
     "output_type": "stream",
     "text": [
      "50\n",
      "50\n"
     ]
    }
   ],
   "source": [
    "print(len(embedding_source2))\n",
    "print(len(titlesList_source2))"
   ]
  },
  {
   "cell_type": "code",
   "execution_count": 94,
   "metadata": {},
   "outputs": [
    {
     "name": "stdout",
     "output_type": "stream",
     "text": [
      "50\n",
      "50\n"
     ]
    }
   ],
   "source": [
    "print(len(embedding_source3))\n",
    "print(len(titlesList_source3))"
   ]
  },
  {
   "cell_type": "code",
   "execution_count": 95,
   "metadata": {},
   "outputs": [
    {
     "name": "stdout",
     "output_type": "stream",
     "text": [
      "50\n",
      "50\n"
     ]
    }
   ],
   "source": [
    "print(len(embedding_source4))\n",
    "print(len(titlesList_source4))"
   ]
  },
  {
   "cell_type": "code",
   "execution_count": 96,
   "metadata": {},
   "outputs": [
    {
     "data": {
      "text/plain": [
       "\"\\nfor i in range(len(titlesList_source2)):\\n    for j in range(i+1, len(titlesList_source2)):\\n        if titlesList_source2[i] == titlesList_source2[j]:\\n            print('found duplicate records')\\n            print(i)\\n            print(j)\\n            print(titlesList_source2[i])\\n            print()\\n            print()\\n\""
      ]
     },
     "execution_count": 96,
     "metadata": {},
     "output_type": "execute_result"
    }
   ],
   "source": [
    "'''\n",
    "for i in range(len(titlesList_source2)):\n",
    "    for j in range(i+1, len(titlesList_source2)):\n",
    "        if titlesList_source2[i] == titlesList_source2[j]:\n",
    "            print('found duplicate records')\n",
    "            print(i)\n",
    "            print(j)\n",
    "            print(titlesList_source2[i])\n",
    "            print()\n",
    "            print()\n",
    "'''"
   ]
  },
  {
   "cell_type": "code",
   "execution_count": 99,
   "metadata": {},
   "outputs": [
    {
     "name": "stdout",
     "output_type": "stream",
     "text": [
      "2500\n",
      "2500\n"
     ]
    }
   ],
   "source": [
    "import itertools\n",
    "\n",
    "titlePairs1 = list(itertools.product(titlesList_source1, titlesList_source2))\n",
    "titlePairs2 = list(itertools.product(titlesList_source3, titlesList_source4))\n",
    "\n",
    "\n",
    "print(len(titlePairs1))\n",
    "print(len(titlePairs2))"
   ]
  },
  {
   "cell_type": "code",
   "execution_count": 107,
   "metadata": {},
   "outputs": [
    {
     "name": "stdout",
     "output_type": "stream",
     "text": [
      "<class 'str'>\n"
     ]
    }
   ],
   "source": [
    "print(type(titlePairs[0][1]))"
   ]
  },
  {
   "cell_type": "code",
   "execution_count": 109,
   "metadata": {},
   "outputs": [
    {
     "data": {
      "text/plain": [
       "('Canon EOS 70D Black SLR Digital Camera Body Only (20.2 MP, SD Card Slot) Price Comparison at Buy.net',\n",
       " 'SAMSUNG WB350F RED 16MP 21X 3\" SMART CAMERA EC-WB350FBPRCA')"
      ]
     },
     "execution_count": 109,
     "metadata": {},
     "output_type": "execute_result"
    }
   ],
   "source": [
    "titlePairs[45]"
   ]
  },
  {
   "cell_type": "code",
   "execution_count": 114,
   "metadata": {},
   "outputs": [],
   "source": [
    "THRESHOLD = 0.9\n",
    "\n",
    "def isMatching(firstTitle, secondTitle, threshold, firstDict, secondDict):\n",
    "    firstEmbedding = firstDict[firstTitle].reshape(1,-1)\n",
    "    secondEmbedding = secondDict[secondTitle].reshape(1,-1)\n",
    "    similarityScore = cosine_similarity(firstEmbedding,secondEmbedding)[0][0]\n",
    "    return similarityScore > threshold"
   ]
  },
  {
   "cell_type": "code",
   "execution_count": 115,
   "metadata": {},
   "outputs": [],
   "source": [
    "filteredTitlePairs1 = list(filter(lambda x: not isMatching(x[0],x[1],THRESHOLD, embedding_source1, embedding_source2), titlePairs1))\n",
    "filteredTitlePairs2 = list(filter(lambda x: not isMatching(x[0],x[1],THRESHOLD, embedding_source3, embedding_source4), titlePairs2))"
   ]
  },
  {
   "cell_type": "code",
   "execution_count": 116,
   "metadata": {},
   "outputs": [
    {
     "name": "stdout",
     "output_type": "stream",
     "text": [
      "2500\n",
      "2500\n"
     ]
    }
   ],
   "source": [
    "print(len(filteredTitlePairs1))\n",
    "print(len(filteredTitlePairs2))"
   ]
  },
  {
   "cell_type": "code",
   "execution_count": 118,
   "metadata": {},
   "outputs": [
    {
     "name": "stdout",
     "output_type": "stream",
     "text": [
      "5000\n",
      "<class 'tuple'>\n",
      "<class 'str'>\n"
     ]
    }
   ],
   "source": [
    "filteredTitlePairs = filteredTitlePairs1 + filteredTitlePairs2\n",
    "print(len(filteredTitlePairs))\n",
    "print(type(filteredTitlePairs[0]))\n",
    "print(type(filteredTitlePairs[0][1]))"
   ]
  },
  {
   "cell_type": "code",
   "execution_count": 121,
   "metadata": {},
   "outputs": [
    {
     "name": "stdout",
     "output_type": "stream",
     "text": [
      "Canon EOS 70D Black SLR Digital Camera Body Only (20.2 MP, SD Card Slot) Price Comparison at Buy.net\n",
      "\n",
      "CANON POWERSHOT D30 12.1MP 5X 3\" WATERPROOF 9337B001\n"
     ]
    }
   ],
   "source": [
    "firstTestTitle, secondTestTitle = filteredTitlePairs[0]\n",
    "print(firstTestTitle)\n",
    "print()\n",
    "print(secondTestTitle)"
   ]
  },
  {
   "cell_type": "code",
   "execution_count": 122,
   "metadata": {},
   "outputs": [
    {
     "name": "stdout",
     "output_type": "stream",
     "text": [
      "244\n",
      "\n",
      "['Nikon Coolpix S6800 Digital Camera (Black) | UK Digital Cameras', 'NIKON COOLPIX S6800 RED 16MP 12X 32182', 1]\n"
     ]
    }
   ],
   "source": [
    "csvData = []\n",
    "\n",
    "# append matching records\n",
    "for matchingRow in positives_samples:\n",
    "    row = [matchingRow[0], matchingRow[1], matchingRow[2]]\n",
    "    csvData.append(row)\n",
    "\n",
    "print(len(csvData))\n",
    "print()\n",
    "print(csvData[0])"
   ]
  },
  {
   "cell_type": "code",
   "execution_count": 123,
   "metadata": {},
   "outputs": [
    {
     "name": "stdout",
     "output_type": "stream",
     "text": [
      "5244\n",
      "\n",
      "['VTech Kidizoom 80-077341 2 Megapixel Compact Camera (1.8\" LCD - 1600 X 1200 Image - 320 X 240 Video) Price Comparison at Buy.net', 'SONY DSCH400 BLACK 20.1MP 63X 3\" DSCH400B', 0]\n"
     ]
    }
   ],
   "source": [
    "# append non-matching rows\n",
    "for nonMatchingRow in filteredTitlePairs:\n",
    "    row = [nonMatchingRow[0], nonMatchingRow[1], 0]\n",
    "    csvData.append(row)\n",
    "    \n",
    "print(len(csvData))\n",
    "print()\n",
    "print(csvData[2243])"
   ]
  },
  {
   "cell_type": "code",
   "execution_count": 124,
   "metadata": {},
   "outputs": [],
   "source": [
    "random.shuffle(csvData)"
   ]
  },
  {
   "cell_type": "code",
   "execution_count": 143,
   "metadata": {},
   "outputs": [],
   "source": [
    "from sklearn.model_selection import train_test_split\n",
    "\n",
    "trainCsvData, testCsvData = train_test_split(csvData, test_size=0.20, random_state=42)"
   ]
  },
  {
   "cell_type": "code",
   "execution_count": 144,
   "metadata": {},
   "outputs": [
    {
     "name": "stdout",
     "output_type": "stream",
     "text": [
      "4195\n",
      "1049\n"
     ]
    }
   ],
   "source": [
    "print(len(trainCsvData))\n",
    "print(len(testCsvData))"
   ]
  },
  {
   "cell_type": "code",
   "execution_count": 145,
   "metadata": {},
   "outputs": [],
   "source": [
    "testCsvData, valCsvData = train_test_split(testCsvData, test_size=0.50, random_state=42)"
   ]
  },
  {
   "cell_type": "code",
   "execution_count": 146,
   "metadata": {},
   "outputs": [
    {
     "name": "stdout",
     "output_type": "stream",
     "text": [
      "524\n",
      "525\n"
     ]
    }
   ],
   "source": [
    "print(len(testCsvData))\n",
    "print(len(valCsvData))"
   ]
  },
  {
   "cell_type": "code",
   "execution_count": 150,
   "metadata": {},
   "outputs": [],
   "source": [
    "def getNoOfMatchingRecords(data):\n",
    "    counter = 0\n",
    "    for row in data:\n",
    "        label = row[2]\n",
    "        if label == 1:\n",
    "            counter += 1\n",
    "    return counter"
   ]
  },
  {
   "cell_type": "code",
   "execution_count": 152,
   "metadata": {},
   "outputs": [
    {
     "name": "stdout",
     "output_type": "stream",
     "text": [
      "193\n",
      "23\n",
      "28\n"
     ]
    }
   ],
   "source": [
    "print(getNoOfMatchingRecords(trainCsvData))\n",
    "print(getNoOfMatchingRecords(testCsvData))\n",
    "print(getNoOfMatchingRecords(valCsvData))"
   ]
  },
  {
   "cell_type": "code",
   "execution_count": 153,
   "metadata": {},
   "outputs": [],
   "source": [
    "import csv \n",
    "\n",
    "csv.register_dialect('myDialect', quoting=csv.QUOTE_ALL, skipinitialspace=True)\n",
    "\n",
    "def writeDataset(data, filename):\n",
    "    with open(filename, 'w') as f:\n",
    "        writer = csv.writer(f, dialect='myDialect')\n",
    "        writer.writerow(['attributi_x', 'attributi_y', 'label'])\n",
    "        for row in data:\n",
    "            writer.writerow(row)"
   ]
  },
  {
   "cell_type": "code",
   "execution_count": 155,
   "metadata": {},
   "outputs": [],
   "source": [
    "writeDataset(trainCsvData, 'datasets/DI2KG/DI2KG_train.csv')\n",
    "writeDataset(testCsvData, 'datasets/DI2KG/DI2KG_test.csv')\n",
    "writeDataset(valCsvData, 'datasets/DI2KG/DI2KG_val.csv')"
   ]
  }
 ],
 "metadata": {
  "kernelspec": {
   "display_name": "Python 3",
   "language": "python",
   "name": "python3"
  },
  "language_info": {
   "codemirror_mode": {
    "name": "ipython",
    "version": 3
   },
   "file_extension": ".py",
   "mimetype": "text/x-python",
   "name": "python",
   "nbconvert_exporter": "python",
   "pygments_lexer": "ipython3",
   "version": "3.7.3"
  }
 },
 "nbformat": 4,
 "nbformat_minor": 2
}
