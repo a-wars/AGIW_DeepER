{
 "cells": [
  {
   "cell_type": "code",
   "execution_count": 1,
   "metadata": {},
   "outputs": [],
   "source": [
    "import json"
   ]
  },
  {
   "cell_type": "code",
   "execution_count": 10,
   "metadata": {},
   "outputs": [],
   "source": [
    "import json\n",
    "ENTITIES_FILEPATH='camera_trainingset/camera-ENTITIES.json'\n",
    "JSON_FILES_FILEPATH = 'camera_trainingset/camera-JSON_FILES.json'\n",
    "with open(ENTITIES_FILEPATH) as json_file:\n",
    "    matching = json.load(json_file)\n",
    "with open(JSON_FILES_FILEPATH) as json_file:\n",
    "    json_filepaths = json.load(json_file)"
   ]
  },
  {
   "cell_type": "code",
   "execution_count": 11,
   "metadata": {},
   "outputs": [
    {
     "data": {
      "text/plain": [
       "29787"
      ]
     },
     "execution_count": 11,
     "metadata": {},
     "output_type": "execute_result"
    }
   ],
   "source": [
    "len(json_filepaths)"
   ]
  },
  {
   "cell_type": "code",
   "execution_count": 28,
   "metadata": {},
   "outputs": [],
   "source": [
    "import os\n",
    "\n",
    "filepaths = {}\n",
    "DATASET_FILEPATH = 'camera_dataset/2013_camera_dataset/'\n",
    "for filepath in json_filepaths:\n",
    "    json_id = filepath['resource_id']\n",
    "    domain = filepath['source_name']\n",
    "    filename = str(filepath['json_number'])+'.json'\n",
    "    filepaths[json_id]= os.path.join(DATASET_FILEPATH,domain,filename)"
   ]
  },
  {
   "cell_type": "code",
   "execution_count": 37,
   "metadata": {},
   "outputs": [],
   "source": [
    "# positives samples è una tupla record1,record2,matching/nomatching\n",
    "positives_samples = []\n",
    "for entity in matching:\n",
    "    instances = entity['instances']\n",
    "    i=0\n",
    "    for instance in instances:\n",
    "        filepath = filepaths[instance]\n",
    "        with open(filepath) as json_file:\n",
    "            record = json.load(json_file)\n",
    "            left_page_title = record['<page title>']\n",
    "        for j in range(i+1,len(instances)):\n",
    "            filepath = filepaths[instances[j]]\n",
    "            with open(filepath) as json_file:\n",
    "                record = json.load(json_file)\n",
    "                right_page_title = record['<page title>']\n",
    "                positives_samples.append((left_page_title,right_page_title,1))"
   ]
  },
  {
   "cell_type": "code",
   "execution_count": 46,
   "metadata": {},
   "outputs": [
    {
     "data": {
      "text/plain": [
       "('Nikon D3200 DSLR Camera Import 18 55 VR w A and Tele 7 Lens 24GB Bundle | eBay',\n",
       " 'Nikon D3200 DSLR Camera Rs.24850 Price in India - Buy Nikon D3200 DSLR Camera Black Online - Nikon : Flipkart.com',\n",
       " 1)"
      ]
     },
     "execution_count": 46,
     "metadata": {},
     "output_type": "execute_result"
    }
   ],
   "source": [
    "positives_samples[200]"
   ]
  },
  {
   "cell_type": "code",
   "execution_count": 65,
   "metadata": {},
   "outputs": [],
   "source": [
    "all_sources = os.listdir('camera_dataset/2013_camera_dataset')"
   ]
  },
  {
   "cell_type": "code",
   "execution_count": 66,
   "metadata": {},
   "outputs": [
    {
     "data": {
      "text/plain": [
       "'www.garricks.com.au'"
      ]
     },
     "execution_count": 66,
     "metadata": {},
     "output_type": "execute_result"
    }
   ],
   "source": [
    "import random\n",
    "random.choice(all_sources)"
   ]
  },
  {
   "cell_type": "code",
   "execution_count": 57,
   "metadata": {},
   "outputs": [],
   "source": [
    "import numpy as np\n",
    "GLOVE_DIR='glove'\n",
    "GLOVE_FILENAME='glove.840B.300d.txt'\n",
    "wordToEmbeddingMap = {}\n",
    "with open(GLOVE_DIR+'/'+GLOVE_FILENAME) as f:\n",
    "  for line in f:\n",
    "    word, coefs = line.split(maxsplit=1)\n",
    "    coefs = np.fromstring(coefs, 'f', sep=' ')\n",
    "    # we found out that glove.840B.300d.txt is supposed to contain 301-item lines (the token and its 300 weights) but some lines do contain \n",
    "    # more than one str tokens, so we ignore those malformed lines (whose corresponding coefs variable is an empty array)\n",
    "    if len(coefs) != 0:\n",
    "        wordToEmbeddingMap[word] = coefs"
   ]
  },
  {
   "cell_type": "code",
   "execution_count": 119,
   "metadata": {},
   "outputs": [
    {
     "name": "stderr",
     "output_type": "stream",
     "text": [
      "[nltk_data] Downloading package stopwords to\n",
      "[nltk_data]     /home/vincenzo/nltk_data...\n",
      "[nltk_data]   Package stopwords is already up-to-date!\n"
     ]
    }
   ],
   "source": [
    "import nltk\n",
    "stopwords = nltk.download(\"stopwords\")\n",
    "\n",
    "from nltk.tokenize import RegexpTokenizer\n",
    "from nltk.corpus import stopwords\n",
    "tokenizer = RegexpTokenizer(r'\\w+')\n",
    "stop_words = set(stopwords.words('english'))\n",
    "stop_words.update(['.', ',', '\"', \"'\", ':', ';', '(', ')', '[', ']', '{', '}','|','-'])"
   ]
  },
  {
   "cell_type": "code",
   "execution_count": 90,
   "metadata": {},
   "outputs": [],
   "source": [
    "BASE_DIR ='camera_dataset/2013_camera_dataset/'\n",
    "source1 = random.choice(all_sources)\n",
    "source2 = random.choice(all_sources)\n",
    "while(source2==source1):\n",
    "    source2 = random.choice(all_sources)\n",
    "all_files_source1 = os.listdir(BASE_DIR+source1)\n",
    "all_files_source2 = os.listdir(BASE_DIR+source2)"
   ]
  },
  {
   "cell_type": "code",
   "execution_count": 91,
   "metadata": {},
   "outputs": [],
   "source": [
    "all_json_source1 = list(filter(lambda s: s.endswith('.json'), all_files_source1))\n",
    "all_json_source2 = list(filter(lambda s: s.endswith('.json'),all_files_source2))"
   ]
  },
  {
   "cell_type": "code",
   "execution_count": 92,
   "metadata": {},
   "outputs": [
    {
     "data": {
      "text/plain": [
       "1480"
      ]
     },
     "execution_count": 92,
     "metadata": {},
     "output_type": "execute_result"
    }
   ],
   "source": [
    "len(all_files_source1)"
   ]
  },
  {
   "cell_type": "code",
   "execution_count": 93,
   "metadata": {},
   "outputs": [
    {
     "data": {
      "text/plain": [
       "15944"
      ]
     },
     "execution_count": 93,
     "metadata": {},
     "output_type": "execute_result"
    }
   ],
   "source": [
    "len(all_files_source2)"
   ]
  },
  {
   "cell_type": "code",
   "execution_count": 94,
   "metadata": {},
   "outputs": [
    {
     "data": {
      "text/plain": [
       "740"
      ]
     },
     "execution_count": 94,
     "metadata": {},
     "output_type": "execute_result"
    }
   ],
   "source": [
    "len(all_json_source1)"
   ]
  },
  {
   "cell_type": "code",
   "execution_count": 95,
   "metadata": {},
   "outputs": [
    {
     "data": {
      "text/plain": [
       "7972"
      ]
     },
     "execution_count": 95,
     "metadata": {},
     "output_type": "execute_result"
    }
   ],
   "source": [
    "len(all_json_source2)"
   ]
  },
  {
   "cell_type": "code",
   "execution_count": 110,
   "metadata": {},
   "outputs": [],
   "source": [
    "def extract_titles(filenamelist,source,basedir=BASE_DIR):\n",
    "    page_titles = []\n",
    "    for filename in filenamelist:\n",
    "        filepath = os.path.join(BASE_DIR,source,filename)\n",
    "        with open(filepath) as json_file:\n",
    "            json_ob = json.load(json_file)\n",
    "            page_title = json_ob['<page title>']\n",
    "            page_titles.append(page_title)\n",
    "    return page_titles                "
   ]
  },
  {
   "cell_type": "code",
   "execution_count": 121,
   "metadata": {},
   "outputs": [],
   "source": [
    "def createDistributedRapresentation(recordTitleList):\n",
    "    embeddingMap = {}\n",
    "    for recordtitle in recordTitleList:\n",
    "        currentTitle = recordtitle\n",
    "        tokens_title = tokenizer.tokenize(currentTitle)\n",
    "        filtered_title = [word for word in tokens_title if word not in stop_words]\n",
    "        #processo di creazione del vettore di embedding\n",
    "        numeratoreVec = np.zeros(300)\n",
    "        ntokens = 0\n",
    "        for token in filtered_title:\n",
    "            ntokens += 1\n",
    "            embeddingVector = wordToEmbeddingMap.get(token)\n",
    "            if embeddingVector is not None:\n",
    "                numeratoreVec += embeddingVector\n",
    "        tupleEmbedding = numeratoreVec /ntokens\n",
    "        embeddingMap[currentTitle]= tupleEmbedding\n",
    "    return embeddingMap"
   ]
  },
  {
   "cell_type": "code",
   "execution_count": 111,
   "metadata": {},
   "outputs": [],
   "source": [
    "titlesList_source1 = extract_titles(all_json_source1,source1)"
   ]
  },
  {
   "cell_type": "code",
   "execution_count": 112,
   "metadata": {},
   "outputs": [],
   "source": [
    "titlesList_source2 = extract_titles(all_json_source2,source2)"
   ]
  },
  {
   "cell_type": "code",
   "execution_count": 122,
   "metadata": {},
   "outputs": [],
   "source": [
    "embedding_source1 = createDistributedRapresentation(titlesList_source1)\n",
    "embedding_source2 = createDistributedRapresentation(titlesList_source2)"
   ]
  },
  {
   "cell_type": "code",
   "execution_count": 129,
   "metadata": {},
   "outputs": [
    {
     "data": {
      "text/plain": [
       "array([[0.44022907]])"
      ]
     },
     "execution_count": 129,
     "metadata": {},
     "output_type": "execute_result"
    }
   ],
   "source": [
    "from sklearn.metrics.pairwise import cosine_similarity\n",
    "\n",
    "embedding55 = list(embedding_source1.values())[0].reshape(1,-1)\n",
    "embedding273 = list(embedding_source2.values())[100].reshape(1,-1)\n",
    "\n",
    "cosineSim = cosine_similarity(embedding55,embedding273)\n",
    "cosineSim"
   ]
  },
  {
   "cell_type": "code",
   "execution_count": null,
   "metadata": {},
   "outputs": [],
   "source": []
  }
 ],
 "metadata": {
  "kernelspec": {
   "display_name": "Python 3",
   "language": "python",
   "name": "python3"
  },
  "language_info": {
   "codemirror_mode": {
    "name": "ipython",
    "version": 3
   },
   "file_extension": ".py",
   "mimetype": "text/x-python",
   "name": "python",
   "nbconvert_exporter": "python",
   "pygments_lexer": "ipython3",
   "version": "3.7.3"
  }
 },
 "nbformat": 4,
 "nbformat_minor": 2
}
