{
 "cells": [
  {
   "cell_type": "code",
   "execution_count": 22,
   "metadata": {},
   "outputs": [],
   "source": [
    "import json"
   ]
  },
  {
   "cell_type": "code",
   "execution_count": 23,
   "metadata": {},
   "outputs": [],
   "source": [
    "import json\n",
    "ENTITIES_FILEPATH='camera_trainingset/camera-ENTITIES.json'\n",
    "JSON_FILES_FILEPATH = 'camera_trainingset/camera-JSON_FILES.json'\n",
    "with open(ENTITIES_FILEPATH) as json_file:\n",
    "    matching = json.load(json_file)\n",
    "with open(JSON_FILES_FILEPATH) as json_file:\n",
    "    json_filepaths = json.load(json_file)"
   ]
  },
  {
   "cell_type": "code",
   "execution_count": 24,
   "metadata": {},
   "outputs": [
    {
     "data": {
      "text/plain": [
       "29787"
      ]
     },
     "execution_count": 24,
     "metadata": {},
     "output_type": "execute_result"
    }
   ],
   "source": [
    "len(json_filepaths)"
   ]
  },
  {
   "cell_type": "code",
   "execution_count": 25,
   "metadata": {},
   "outputs": [],
   "source": [
    "import os\n",
    "\n",
    "filepaths = {}\n",
    "DATASET_FILEPATH = 'camera_dataset/2013_camera_dataset/'\n",
    "for filepath in json_filepaths:\n",
    "    json_id = filepath['resource_id']\n",
    "    domain = filepath['source_name']\n",
    "    filename = str(filepath['json_number'])+'.json'\n",
    "    filepaths[json_id]= os.path.join(DATASET_FILEPATH,domain,filename)"
   ]
  },
  {
   "cell_type": "code",
   "execution_count": 26,
   "metadata": {},
   "outputs": [],
   "source": [
    "# positives samples è una tupla record1,record2,matching/nomatching\n",
    "positives_samples = []\n",
    "for entity in matching:\n",
    "    instances = entity['instances']\n",
    "    i=0\n",
    "    for instance in instances:\n",
    "        filepath = filepaths[instance]\n",
    "        with open(filepath) as json_file:\n",
    "            record = json.load(json_file)\n",
    "            left_page_title = record['<page title>']\n",
    "        for j in range(i+1,len(instances)):\n",
    "            filepath = filepaths[instances[j]]\n",
    "            with open(filepath) as json_file:\n",
    "                record = json.load(json_file)\n",
    "                right_page_title = record['<page title>']\n",
    "                positives_samples.append((left_page_title,right_page_title,1))\n",
    "        i += 1"
   ]
  },
  {
   "cell_type": "code",
   "execution_count": 130,
   "metadata": {},
   "outputs": [
    {
     "data": {
      "text/plain": [
       "1"
      ]
     },
     "execution_count": 130,
     "metadata": {},
     "output_type": "execute_result"
    }
   ],
   "source": [
    "positives_samples[200][2]"
   ]
  },
  {
   "cell_type": "code",
   "execution_count": 28,
   "metadata": {},
   "outputs": [],
   "source": [
    "all_sources = os.listdir('camera_dataset/2013_camera_dataset')"
   ]
  },
  {
   "cell_type": "code",
   "execution_count": 29,
   "metadata": {},
   "outputs": [
    {
     "data": {
      "text/plain": [
       "'www.gosale.com'"
      ]
     },
     "execution_count": 29,
     "metadata": {},
     "output_type": "execute_result"
    }
   ],
   "source": [
    "import random\n",
    "random.choice(all_sources)"
   ]
  },
  {
   "cell_type": "code",
   "execution_count": 30,
   "metadata": {},
   "outputs": [],
   "source": [
    "import numpy as np\n",
    "GLOVE_DIR='glove'\n",
    "GLOVE_FILENAME='glove.840B.300d.txt'\n",
    "wordToEmbeddingMap = {}\n",
    "with open(GLOVE_DIR+'/'+GLOVE_FILENAME) as f:\n",
    "    for line in f:\n",
    "        word, coefs = line.split(maxsplit=1)\n",
    "        coefs = np.fromstring(coefs, 'f', sep=' ')\n",
    "        if len(coefs) != 0:\n",
    "            wordToEmbeddingMap[word] = coefs"
   ]
  },
  {
   "cell_type": "code",
   "execution_count": 31,
   "metadata": {},
   "outputs": [
    {
     "name": "stderr",
     "output_type": "stream",
     "text": [
      "[nltk_data] Downloading package stopwords to\n",
      "[nltk_data]     /Users/jgmathew/nltk_data...\n",
      "[nltk_data]   Unzipping corpora/stopwords.zip.\n"
     ]
    }
   ],
   "source": [
    "import nltk\n",
    "stopwords = nltk.download(\"stopwords\")\n",
    "\n",
    "from nltk.tokenize import RegexpTokenizer\n",
    "from nltk.corpus import stopwords\n",
    "tokenizer = RegexpTokenizer(r'\\w+')\n",
    "stop_words = set(stopwords.words('english'))\n",
    "stop_words.update(['.', ',', '\"', \"'\", ':', ';', '(', ')', '[', ']', '{', '}','|','-'])"
   ]
  },
  {
   "cell_type": "code",
   "execution_count": 32,
   "metadata": {},
   "outputs": [],
   "source": [
    "BASE_DIR ='camera_dataset/2013_camera_dataset/'\n",
    "source1 = random.choice(all_sources)\n",
    "source2 = random.choice(all_sources)\n",
    "while(source2==source1):\n",
    "    source2 = random.choice(all_sources)\n",
    "all_files_source1 = os.listdir(BASE_DIR+source1)\n",
    "all_files_source2 = os.listdir(BASE_DIR+source2)"
   ]
  },
  {
   "cell_type": "code",
   "execution_count": 33,
   "metadata": {},
   "outputs": [],
   "source": [
    "all_json_source1 = list(filter(lambda s: s.endswith('.json'), all_files_source1))\n",
    "all_json_source2 = list(filter(lambda s: s.endswith('.json'),all_files_source2))"
   ]
  },
  {
   "cell_type": "code",
   "execution_count": 34,
   "metadata": {},
   "outputs": [
    {
     "data": {
      "text/plain": [
       "1142"
      ]
     },
     "execution_count": 34,
     "metadata": {},
     "output_type": "execute_result"
    }
   ],
   "source": [
    "len(all_files_source1)"
   ]
  },
  {
   "cell_type": "code",
   "execution_count": 35,
   "metadata": {},
   "outputs": [
    {
     "data": {
      "text/plain": [
       "15944"
      ]
     },
     "execution_count": 35,
     "metadata": {},
     "output_type": "execute_result"
    }
   ],
   "source": [
    "len(all_files_source2)"
   ]
  },
  {
   "cell_type": "code",
   "execution_count": 36,
   "metadata": {},
   "outputs": [
    {
     "data": {
      "text/plain": [
       "571"
      ]
     },
     "execution_count": 36,
     "metadata": {},
     "output_type": "execute_result"
    }
   ],
   "source": [
    "len(all_json_source1)"
   ]
  },
  {
   "cell_type": "code",
   "execution_count": 37,
   "metadata": {},
   "outputs": [
    {
     "data": {
      "text/plain": [
       "7972"
      ]
     },
     "execution_count": 37,
     "metadata": {},
     "output_type": "execute_result"
    }
   ],
   "source": [
    "len(all_json_source2)"
   ]
  },
  {
   "cell_type": "code",
   "execution_count": 38,
   "metadata": {},
   "outputs": [],
   "source": [
    "def extract_titles(filenamelist,source,basedir=BASE_DIR):\n",
    "    page_titles = []\n",
    "    for filename in filenamelist:\n",
    "        filepath = os.path.join(BASE_DIR,source,filename)\n",
    "        with open(filepath) as json_file:\n",
    "            json_ob = json.load(json_file)\n",
    "            page_title = json_ob['<page title>']\n",
    "            page_titles.append(page_title)\n",
    "    return page_titles                "
   ]
  },
  {
   "cell_type": "code",
   "execution_count": 39,
   "metadata": {},
   "outputs": [],
   "source": [
    "def createDistributedRapresentation(recordTitleList):\n",
    "    embeddingMap = {}\n",
    "    for recordtitle in recordTitleList:\n",
    "        currentTitle = recordtitle\n",
    "        tokens_title = tokenizer.tokenize(currentTitle)\n",
    "        filtered_title = [word for word in tokens_title if word not in stop_words]\n",
    "        #processo di creazione del vettore di embedding\n",
    "        numeratoreVec = np.zeros(300)\n",
    "        ntokens = 0\n",
    "        for token in filtered_title:\n",
    "            ntokens += 1\n",
    "            embeddingVector = wordToEmbeddingMap.get(token)\n",
    "            if embeddingVector is not None:\n",
    "                numeratoreVec += embeddingVector\n",
    "        tupleEmbedding = numeratoreVec /ntokens\n",
    "        embeddingMap[currentTitle]= tupleEmbedding\n",
    "    return embeddingMap"
   ]
  },
  {
   "cell_type": "code",
   "execution_count": 40,
   "metadata": {},
   "outputs": [],
   "source": [
    "titlesList_source1 = extract_titles(all_json_source1,source1)"
   ]
  },
  {
   "cell_type": "code",
   "execution_count": 41,
   "metadata": {},
   "outputs": [],
   "source": [
    "titlesList_source2 = extract_titles(all_json_source2,source2)"
   ]
  },
  {
   "cell_type": "code",
   "execution_count": 42,
   "metadata": {},
   "outputs": [],
   "source": [
    "embedding_source1 = createDistributedRapresentation(titlesList_source1)\n",
    "embedding_source2 = createDistributedRapresentation(titlesList_source2)"
   ]
  },
  {
   "cell_type": "code",
   "execution_count": 57,
   "metadata": {},
   "outputs": [
    {
     "data": {
      "text/plain": [
       "0.49004589890647005"
      ]
     },
     "execution_count": 57,
     "metadata": {},
     "output_type": "execute_result"
    }
   ],
   "source": [
    "from sklearn.metrics.pairwise import cosine_similarity\n",
    "\n",
    "embedding55 = list(embedding_source1.values())[0].reshape(1,-1)\n",
    "embedding273 = list(embedding_source2.values())[100].reshape(1,-1)\n",
    "cosineSim = cosine_similarity(embedding55,embedding273)\n",
    "cosineSim[0][0]"
   ]
  },
  {
   "cell_type": "code",
   "execution_count": 58,
   "metadata": {},
   "outputs": [
    {
     "data": {
      "text/plain": [
       "571"
      ]
     },
     "execution_count": 58,
     "metadata": {},
     "output_type": "execute_result"
    }
   ],
   "source": [
    "len(embedding_source1)"
   ]
  },
  {
   "cell_type": "code",
   "execution_count": 73,
   "metadata": {},
   "outputs": [
    {
     "data": {
      "text/plain": [
       "571"
      ]
     },
     "execution_count": 73,
     "metadata": {},
     "output_type": "execute_result"
    }
   ],
   "source": [
    "len(titlesList_source1)"
   ]
  },
  {
   "cell_type": "code",
   "execution_count": 76,
   "metadata": {},
   "outputs": [
    {
     "name": "stdout",
     "output_type": "stream",
     "text": [
      "found duplicate records\n",
      "15\n",
      "3906\n",
      "2.0 Megapixel Wireless Wifi 1920 X 1080p Hd Network Ip Cctv Security Camera - Buy Hd Network Ip Cctv Security Camera,Outdoor Wireless Wifi Hd Ip Security Camera,Outdoor Hd Wifi Ip Camera Product on Alibaba.com\n",
      "\n",
      "\n",
      "found duplicate records\n",
      "33\n",
      "7203\n",
      "Wholesale 2013 hot selling waterproof eva digital camera bag/cases - Alibaba.com\n",
      "\n",
      "\n",
      "found duplicate records\n",
      "72\n",
      "4750\n",
      "Deluxe Soft Padded Medium Bag For Digital Slr Camera Lens & Video Accessories Case - Buy Video Accessories Case,Deluxe Soft Padded Medium Bag,Medium Bag For Digital Slr Camera Lens Product on Alibaba.com\n",
      "\n",
      "\n",
      "found duplicate records\n",
      "125\n",
      "1662\n",
      "Camera Pouch - Buy Camera Pouch,Digital Camera Case,Camera Cover Product on Alibaba.com\n",
      "\n",
      "\n",
      "found duplicate records\n",
      "125\n",
      "2836\n",
      "Camera Pouch - Buy Camera Pouch,Digital Camera Case,Camera Cover Product on Alibaba.com\n",
      "\n",
      "\n",
      "found duplicate records\n",
      "125\n",
      "3733\n",
      "Camera Pouch - Buy Camera Pouch,Digital Camera Case,Camera Cover Product on Alibaba.com\n",
      "\n",
      "\n",
      "found duplicate records\n",
      "125\n",
      "4661\n",
      "Camera Pouch - Buy Camera Pouch,Digital Camera Case,Camera Cover Product on Alibaba.com\n",
      "\n",
      "\n",
      "found duplicate records\n",
      "125\n",
      "4895\n",
      "Camera Pouch - Buy Camera Pouch,Digital Camera Case,Camera Cover Product on Alibaba.com\n",
      "\n",
      "\n",
      "found duplicate records\n",
      "125\n",
      "5889\n",
      "Camera Pouch - Buy Camera Pouch,Digital Camera Case,Camera Cover Product on Alibaba.com\n",
      "\n",
      "\n",
      "found duplicate records\n",
      "125\n",
      "7868\n",
      "Camera Pouch - Buy Camera Pouch,Digital Camera Case,Camera Cover Product on Alibaba.com\n",
      "\n",
      "\n",
      "found duplicate records\n",
      "129\n",
      "6252\n",
      "Stylish Camera Bag - Buy Stylish Camera Bag,Digital Camera Bag,Digital Camera Case Product on Alibaba.com\n",
      "\n",
      "\n",
      "found duplicate records\n",
      "153\n",
      "6084\n",
      "720p/960p/1080p High Definition Analog Cctv Camera,1.0 Megapixel And 1.3 Megapixel Ahd Camera,Better Than Sdi Camera And Cvi - Buy Ir-bullet Water-proof Ahd Camera,Cheap Cctv Camera,Ir-bullet Water-proof Ahd Camera Product on Alibaba.com\n",
      "\n",
      "\n",
      "found duplicate records\n",
      "153\n",
      "6587\n",
      "720p/960p/1080p High Definition Analog Cctv Camera,1.0 Megapixel And 1.3 Megapixel Ahd Camera,Better Than Sdi Camera And Cvi - Buy Ir-bullet Water-proof Ahd Camera,Cheap Cctv Camera,Ir-bullet Water-proof Ahd Camera Product on Alibaba.com\n",
      "\n",
      "\n",
      "found duplicate records\n",
      "153\n",
      "7526\n",
      "720p/960p/1080p High Definition Analog Cctv Camera,1.0 Megapixel And 1.3 Megapixel Ahd Camera,Better Than Sdi Camera And Cvi - Buy Ir-bullet Water-proof Ahd Camera,Cheap Cctv Camera,Ir-bullet Water-proof Ahd Camera Product on Alibaba.com\n",
      "\n",
      "\n",
      "found duplicate records\n",
      "174\n",
      "7160\n",
      "Camera Bag - Buy Camera Bag,Neoprene Camera Bag,Camera Case Product on Alibaba.com\n",
      "\n",
      "\n",
      "found duplicate records\n",
      "341\n",
      "1646\n",
      "Croco Fashion Camera Bag - Buy Camera Bag,Fashion Camera Bag,New Design Digital Camera Bag Product on Alibaba.com\n",
      "\n",
      "\n",
      "found duplicate records\n",
      "341\n",
      "3336\n",
      "Croco Fashion Camera Bag - Buy Camera Bag,Fashion Camera Bag,New Design Digital Camera Bag Product on Alibaba.com\n",
      "\n",
      "\n",
      "found duplicate records\n",
      "341\n",
      "7556\n",
      "Croco Fashion Camera Bag - Buy Camera Bag,Fashion Camera Bag,New Design Digital Camera Bag Product on Alibaba.com\n",
      "\n",
      "\n",
      "found duplicate records\n",
      "358\n",
      "5210\n",
      "Metal Case 2.8-12mm Varifocal Lens 1080p Hd Ip Cctv Security Camera - Buy 1080p Hd Ip Cctv Security Camera,2.8-12mm Varifocal Lens Cctv Security Camera,Metal Case Ip Cctv Security Camera Product on Alibaba.com\n",
      "\n",
      "\n",
      "found duplicate records\n",
      "472\n",
      "2050\n",
      "Neoprene Camera Bag,Mini Digital Camera Bag,Eva Camera Case,Digital Camera Bag,Mini Bag,Camera Pouch,Camera Case,Eva Gameboy Bag - Buy Camera Bag,Neoprene Camera Bag,Digital Camera Case Product on Alibaba.com\n",
      "\n",
      "\n",
      "found duplicate records\n",
      "472\n",
      "4807\n",
      "Neoprene Camera Bag,Mini Digital Camera Bag,Eva Camera Case,Digital Camera Bag,Mini Bag,Camera Pouch,Camera Case,Eva Gameboy Bag - Buy Camera Bag,Neoprene Camera Bag,Digital Camera Case Product on Alibaba.com\n",
      "\n",
      "\n",
      "found duplicate records\n",
      "520\n",
      "1720\n",
      "Croco Fashion Camera Case - Buy Digital Camera Case,Fashion Digital Camera Case,Camera Bag Product on Alibaba.com\n",
      "\n",
      "\n",
      "found duplicate records\n",
      "520\n",
      "5429\n",
      "Croco Fashion Camera Case - Buy Digital Camera Case,Fashion Digital Camera Case,Camera Bag Product on Alibaba.com\n",
      "\n",
      "\n",
      "found duplicate records\n",
      "520\n",
      "7941\n",
      "Croco Fashion Camera Case - Buy Digital Camera Case,Fashion Digital Camera Case,Camera Bag Product on Alibaba.com\n",
      "\n",
      "\n",
      "found duplicate records\n",
      "592\n",
      "875\n",
      "Camera Bag - Buy Camera Bag,Digital Camera Bag,Digital Camera Case Product on Alibaba.com\n",
      "\n",
      "\n",
      "found duplicate records\n",
      "592\n",
      "1436\n",
      "Camera Bag - Buy Camera Bag,Digital Camera Bag,Digital Camera Case Product on Alibaba.com\n",
      "\n",
      "\n",
      "found duplicate records\n",
      "592\n",
      "5363\n",
      "Camera Bag - Buy Camera Bag,Digital Camera Bag,Digital Camera Case Product on Alibaba.com\n",
      "\n",
      "\n",
      "found duplicate records\n",
      "592\n",
      "7213\n",
      "Camera Bag - Buy Camera Bag,Digital Camera Bag,Digital Camera Case Product on Alibaba.com\n",
      "\n",
      "\n",
      "found duplicate records\n",
      "615\n",
      "688\n",
      "Waterproof Camera Case - Buy Waterproof Camera Case,Waterproof Camera Case,Waterproof Camera Case Product on Alibaba.com\n",
      "\n",
      "\n",
      "found duplicate records\n",
      "729\n",
      "5580\n",
      "Dummy Ir Camera - Buy Dummy Ir Camera,Micro Ir Led Camera,Invisible Ir Camera Product on Alibaba.com\n",
      "\n",
      "\n",
      "found duplicate records\n",
      "729\n",
      "7862\n",
      "Dummy Ir Camera - Buy Dummy Ir Camera,Micro Ir Led Camera,Invisible Ir Camera Product on Alibaba.com\n",
      "\n",
      "\n",
      "found duplicate records\n",
      "853\n",
      "7567\n",
      "Neoprene Digital Camera Case - Buy Camera Case,Digital Camera Case,Neoprene Camera Case Product on Alibaba.com\n",
      "\n",
      "\n",
      "found duplicate records\n",
      "875\n",
      "1436\n",
      "Camera Bag - Buy Camera Bag,Digital Camera Bag,Digital Camera Case Product on Alibaba.com\n",
      "\n",
      "\n",
      "found duplicate records\n",
      "875\n",
      "5363\n",
      "Camera Bag - Buy Camera Bag,Digital Camera Bag,Digital Camera Case Product on Alibaba.com\n",
      "\n",
      "\n",
      "found duplicate records\n",
      "875\n",
      "7213\n",
      "Camera Bag - Buy Camera Bag,Digital Camera Bag,Digital Camera Case Product on Alibaba.com\n",
      "\n",
      "\n",
      "found duplicate records\n",
      "992\n",
      "7302\n",
      "New Camera Case Bag Waterproof Cotton Fabric - Buy Camera Case,Digital Camera Bag,Video Bag Product on Alibaba.com\n",
      "\n",
      "\n",
      "found duplicate records\n",
      "1036\n",
      "5200\n",
      "Wholesale ZT-R110-WF CCTV P2P camera - Alibaba.com\n",
      "\n",
      "\n",
      "found duplicate records\n",
      "1036\n",
      "6555\n",
      "Wholesale ZT-R110-WF CCTV P2P camera - Alibaba.com\n",
      "\n",
      "\n",
      "found duplicate records\n",
      "1078\n",
      "1484\n",
      "Croco Camera Case - Buy Camera Case,Digital Camera Case,Camera Bag Product on Alibaba.com\n",
      "\n",
      "\n",
      "found duplicate records\n",
      "1078\n",
      "1660\n",
      "Croco Camera Case - Buy Camera Case,Digital Camera Case,Camera Bag Product on Alibaba.com\n",
      "\n",
      "\n",
      "found duplicate records\n",
      "1078\n",
      "2266\n",
      "Croco Camera Case - Buy Camera Case,Digital Camera Case,Camera Bag Product on Alibaba.com\n",
      "\n",
      "\n",
      "found duplicate records\n",
      "1078\n",
      "2960\n",
      "Croco Camera Case - Buy Camera Case,Digital Camera Case,Camera Bag Product on Alibaba.com\n",
      "\n",
      "\n",
      "found duplicate records\n",
      "1078\n",
      "3933\n",
      "Croco Camera Case - Buy Camera Case,Digital Camera Case,Camera Bag Product on Alibaba.com\n",
      "\n",
      "\n",
      "found duplicate records\n",
      "1078\n",
      "5709\n",
      "Croco Camera Case - Buy Camera Case,Digital Camera Case,Camera Bag Product on Alibaba.com\n",
      "\n",
      "\n",
      "found duplicate records\n",
      "1078\n",
      "6346\n",
      "Croco Camera Case - Buy Camera Case,Digital Camera Case,Camera Bag Product on Alibaba.com\n",
      "\n",
      "\n",
      "found duplicate records\n",
      "1363\n",
      "2353\n",
      "2014 Hot Sale Fashionable Nylon Bag Case For Digital Camera - Buy Nylon,Digital Camera Nylon Case,Nylon Case For Samsung Digital Camera Product on Alibaba.com\n",
      "\n",
      "\n",
      "found duplicate records\n",
      "1363\n",
      "4161\n",
      "2014 Hot Sale Fashionable Nylon Bag Case For Digital Camera - Buy Nylon,Digital Camera Nylon Case,Nylon Case For Samsung Digital Camera Product on Alibaba.com\n",
      "\n",
      "\n",
      "found duplicate records\n",
      "1363\n",
      "5173\n",
      "2014 Hot Sale Fashionable Nylon Bag Case For Digital Camera - Buy Nylon,Digital Camera Nylon Case,Nylon Case For Samsung Digital Camera Product on Alibaba.com\n",
      "\n",
      "\n",
      "found duplicate records\n",
      "1363\n",
      "5390\n",
      "2014 Hot Sale Fashionable Nylon Bag Case For Digital Camera - Buy Nylon,Digital Camera Nylon Case,Nylon Case For Samsung Digital Camera Product on Alibaba.com\n",
      "\n",
      "\n",
      "found duplicate records\n",
      "1404\n",
      "7099\n",
      "Going Ip Camera,Cheapest Wifi Ip Camera,Case For Ip Camera - Buy Going Ip Camera,Cheapest Wifi Ip Camera,Case For Ip Camera Product on Alibaba.com\n",
      "\n",
      "\n",
      "found duplicate records\n",
      "1436\n",
      "5363\n",
      "Camera Bag - Buy Camera Bag,Digital Camera Bag,Digital Camera Case Product on Alibaba.com\n",
      "\n",
      "\n",
      "found duplicate records\n",
      "1436\n",
      "7213\n",
      "Camera Bag - Buy Camera Bag,Digital Camera Bag,Digital Camera Case Product on Alibaba.com\n",
      "\n",
      "\n",
      "found duplicate records\n",
      "1484\n",
      "1660\n",
      "Croco Camera Case - Buy Camera Case,Digital Camera Case,Camera Bag Product on Alibaba.com\n",
      "\n",
      "\n",
      "found duplicate records\n",
      "1484\n",
      "2266\n",
      "Croco Camera Case - Buy Camera Case,Digital Camera Case,Camera Bag Product on Alibaba.com\n",
      "\n",
      "\n",
      "found duplicate records\n",
      "1484\n",
      "2960\n",
      "Croco Camera Case - Buy Camera Case,Digital Camera Case,Camera Bag Product on Alibaba.com\n",
      "\n",
      "\n",
      "found duplicate records\n",
      "1484\n",
      "3933\n",
      "Croco Camera Case - Buy Camera Case,Digital Camera Case,Camera Bag Product on Alibaba.com\n",
      "\n",
      "\n",
      "found duplicate records\n",
      "1484\n",
      "5709\n",
      "Croco Camera Case - Buy Camera Case,Digital Camera Case,Camera Bag Product on Alibaba.com\n",
      "\n",
      "\n",
      "found duplicate records\n",
      "1484\n",
      "6346\n",
      "Croco Camera Case - Buy Camera Case,Digital Camera Case,Camera Bag Product on Alibaba.com\n",
      "\n",
      "\n"
     ]
    },
    {
     "name": "stdout",
     "output_type": "stream",
     "text": [
      "found duplicate records\n",
      "1646\n",
      "3336\n",
      "Croco Fashion Camera Bag - Buy Camera Bag,Fashion Camera Bag,New Design Digital Camera Bag Product on Alibaba.com\n",
      "\n",
      "\n",
      "found duplicate records\n",
      "1646\n",
      "7556\n",
      "Croco Fashion Camera Bag - Buy Camera Bag,Fashion Camera Bag,New Design Digital Camera Bag Product on Alibaba.com\n",
      "\n",
      "\n",
      "found duplicate records\n",
      "1660\n",
      "2266\n",
      "Croco Camera Case - Buy Camera Case,Digital Camera Case,Camera Bag Product on Alibaba.com\n",
      "\n",
      "\n",
      "found duplicate records\n",
      "1660\n",
      "2960\n",
      "Croco Camera Case - Buy Camera Case,Digital Camera Case,Camera Bag Product on Alibaba.com\n",
      "\n",
      "\n",
      "found duplicate records\n",
      "1660\n",
      "3933\n",
      "Croco Camera Case - Buy Camera Case,Digital Camera Case,Camera Bag Product on Alibaba.com\n",
      "\n",
      "\n",
      "found duplicate records\n",
      "1660\n",
      "5709\n",
      "Croco Camera Case - Buy Camera Case,Digital Camera Case,Camera Bag Product on Alibaba.com\n",
      "\n",
      "\n",
      "found duplicate records\n",
      "1660\n",
      "6346\n",
      "Croco Camera Case - Buy Camera Case,Digital Camera Case,Camera Bag Product on Alibaba.com\n",
      "\n",
      "\n",
      "found duplicate records\n",
      "1662\n",
      "2836\n",
      "Camera Pouch - Buy Camera Pouch,Digital Camera Case,Camera Cover Product on Alibaba.com\n",
      "\n",
      "\n",
      "found duplicate records\n",
      "1662\n",
      "3733\n",
      "Camera Pouch - Buy Camera Pouch,Digital Camera Case,Camera Cover Product on Alibaba.com\n",
      "\n",
      "\n",
      "found duplicate records\n",
      "1662\n",
      "4661\n",
      "Camera Pouch - Buy Camera Pouch,Digital Camera Case,Camera Cover Product on Alibaba.com\n",
      "\n",
      "\n",
      "found duplicate records\n",
      "1662\n",
      "4895\n",
      "Camera Pouch - Buy Camera Pouch,Digital Camera Case,Camera Cover Product on Alibaba.com\n",
      "\n",
      "\n",
      "found duplicate records\n",
      "1662\n",
      "5889\n",
      "Camera Pouch - Buy Camera Pouch,Digital Camera Case,Camera Cover Product on Alibaba.com\n",
      "\n",
      "\n",
      "found duplicate records\n",
      "1662\n",
      "7868\n",
      "Camera Pouch - Buy Camera Pouch,Digital Camera Case,Camera Cover Product on Alibaba.com\n",
      "\n",
      "\n",
      "found duplicate records\n",
      "1720\n",
      "5429\n",
      "Croco Fashion Camera Case - Buy Digital Camera Case,Fashion Digital Camera Case,Camera Bag Product on Alibaba.com\n",
      "\n",
      "\n",
      "found duplicate records\n",
      "1720\n",
      "7941\n",
      "Croco Fashion Camera Case - Buy Digital Camera Case,Fashion Digital Camera Case,Camera Bag Product on Alibaba.com\n",
      "\n",
      "\n",
      "found duplicate records\n",
      "1797\n",
      "4840\n",
      "Outdoor Weatherproof Bullet1/3\" Ccd 24 Led Ir 420 Tvl 30m Cctv Camera - Buy 1/3 Sony Ccd 420tvl Ir Cctv Camera,Cheap Cctv Camera,Cctv Ir Bullet Camera Product on Alibaba.com\n",
      "\n",
      "\n",
      "found duplicate records\n",
      "1857\n",
      "6384\n",
      "Neoprene Digital Camera Pouch - Buy Waterproof Camera Pouch,Digital Camera Case,Fashion Camera Pouch Product on Alibaba.com\n",
      "\n",
      "\n",
      "found duplicate records\n",
      "1977\n",
      "4671\n",
      "Waterproof Digital Camera Case For Nikon For Canon For Sony Underwater Dry Bag Pouch Outdoor Equipment - Buy Waterproof Case For Nikon,Waterproof Digital Camera Case,Underwater Dry Bag Product on Alibaba.com\n",
      "\n",
      "\n",
      "found duplicate records\n",
      "2046\n",
      "3565\n",
      "Fashion Camera Case - Buy Camera Case,Digital Camera Bag,Compact Camera Case Product on Alibaba.com\n",
      "\n",
      "\n",
      "found duplicate records\n",
      "2050\n",
      "4807\n",
      "Neoprene Camera Bag,Mini Digital Camera Bag,Eva Camera Case,Digital Camera Bag,Mini Bag,Camera Pouch,Camera Case,Eva Gameboy Bag - Buy Camera Bag,Neoprene Camera Bag,Digital Camera Case Product on Alibaba.com\n",
      "\n",
      "\n",
      "found duplicate records\n",
      "2059\n",
      "7168\n",
      "Auto Focus Cmos Camera Module/ Mobile Camera/ Sensor Module - Buy Camera,Video Camera,Cmos Camera Product on Alibaba.com\n",
      "\n",
      "\n",
      "found duplicate records\n",
      "2134\n",
      "7253\n",
      "2014 New Onvif 2 Megapixel 1080p Ip Camera Ip Security Camera - Buy Ip Camera,Onvif Ip Camera,Ip Camera Ip Security Camera Product on Alibaba.com\n",
      "\n",
      "\n",
      "found duplicate records\n",
      "2214\n",
      "6468\n",
      "Croco Fashion Neoprene Camera Bag - Buy Camera Bag,Fashion Camera Bag,New Design Digital Camera Bag Product on Alibaba.com\n",
      "\n",
      "\n",
      "found duplicate records\n",
      "2214\n",
      "6861\n",
      "Croco Fashion Neoprene Camera Bag - Buy Camera Bag,Fashion Camera Bag,New Design Digital Camera Bag Product on Alibaba.com\n",
      "\n",
      "\n",
      "found duplicate records\n",
      "2220\n",
      "7899\n",
      "Camera Bag - Buy Camera Bag,Digital Camera Case,Camera Sleve Product on Alibaba.com\n",
      "\n",
      "\n",
      "found duplicate records\n",
      "2266\n",
      "2960\n",
      "Croco Camera Case - Buy Camera Case,Digital Camera Case,Camera Bag Product on Alibaba.com\n",
      "\n",
      "\n",
      "found duplicate records\n",
      "2266\n",
      "3933\n",
      "Croco Camera Case - Buy Camera Case,Digital Camera Case,Camera Bag Product on Alibaba.com\n",
      "\n",
      "\n",
      "found duplicate records\n",
      "2266\n",
      "5709\n",
      "Croco Camera Case - Buy Camera Case,Digital Camera Case,Camera Bag Product on Alibaba.com\n",
      "\n",
      "\n",
      "found duplicate records\n",
      "2266\n",
      "6346\n",
      "Croco Camera Case - Buy Camera Case,Digital Camera Case,Camera Bag Product on Alibaba.com\n",
      "\n",
      "\n",
      "found duplicate records\n",
      "2310\n",
      "2658\n",
      "Neoprene Camera Case - Buy Camera Case,Digital Camera Case,Waterproof Camera Case Product on Alibaba.com\n",
      "\n",
      "\n",
      "found duplicate records\n",
      "2310\n",
      "6928\n",
      "Neoprene Camera Case - Buy Camera Case,Digital Camera Case,Waterproof Camera Case Product on Alibaba.com\n",
      "\n",
      "\n",
      "found duplicate records\n",
      "2353\n",
      "4161\n",
      "2014 Hot Sale Fashionable Nylon Bag Case For Digital Camera - Buy Nylon,Digital Camera Nylon Case,Nylon Case For Samsung Digital Camera Product on Alibaba.com\n",
      "\n",
      "\n",
      "found duplicate records\n",
      "2353\n",
      "5173\n",
      "2014 Hot Sale Fashionable Nylon Bag Case For Digital Camera - Buy Nylon,Digital Camera Nylon Case,Nylon Case For Samsung Digital Camera Product on Alibaba.com\n",
      "\n",
      "\n",
      "found duplicate records\n",
      "2353\n",
      "5390\n",
      "2014 Hot Sale Fashionable Nylon Bag Case For Digital Camera - Buy Nylon,Digital Camera Nylon Case,Nylon Case For Samsung Digital Camera Product on Alibaba.com\n",
      "\n",
      "\n",
      "found duplicate records\n",
      "2362\n",
      "5724\n",
      "Waterproof Dslr Slr Digital Camera Outdoor Underwater Housing Case Pouch Dry Bag For Canon For Nikon - Buy Waterproof Camera Pouch,Bag For Canon,Underwater Housing Case Product on Alibaba.com\n",
      "\n",
      "\n",
      "found duplicate records\n",
      "2412\n",
      "2934\n",
      "Wholesale Camera Bag/Camera Case/Digital Camera Case/SLR Camera Bag/Camcorder Case - Alibaba.com\n",
      "\n",
      "\n",
      "found duplicate records\n",
      "2440\n",
      "6571\n",
      "Digital Camera Bag - Buy Digital Camera Bag,Camera Case,Waterproof Camera Bag Product on Alibaba.com\n",
      "\n",
      "\n",
      "found duplicate records\n",
      "2594\n",
      "7752\n",
      "Onvif 960p 1.3mp P2p Cctv Security Wifi Wireless Ip Camera With 2.8-12mm Lens - Buy 1080p 2mp P2p Cctv Security Wifi Wireless Ip Camera,Mobile Camera Lens,Mini Camera Lens Product on Alibaba.com\n",
      "\n",
      "\n",
      "found duplicate records\n",
      "2658\n",
      "6928\n",
      "Neoprene Camera Case - Buy Camera Case,Digital Camera Case,Waterproof Camera Case Product on Alibaba.com\n",
      "\n",
      "\n",
      "found duplicate records\n",
      "2671\n",
      "4092\n",
      "Digital Camera Bag - Buy Digital Camera Bag,Digital Camera Case,Camera Pouch Product on Alibaba.com\n",
      "\n",
      "\n",
      "found duplicate records\n",
      "2836\n",
      "3733\n",
      "Camera Pouch - Buy Camera Pouch,Digital Camera Case,Camera Cover Product on Alibaba.com\n",
      "\n",
      "\n",
      "found duplicate records\n",
      "2836\n",
      "4661\n",
      "Camera Pouch - Buy Camera Pouch,Digital Camera Case,Camera Cover Product on Alibaba.com\n",
      "\n",
      "\n",
      "found duplicate records\n",
      "2836\n",
      "4895\n",
      "Camera Pouch - Buy Camera Pouch,Digital Camera Case,Camera Cover Product on Alibaba.com\n",
      "\n",
      "\n",
      "found duplicate records\n",
      "2836\n",
      "5889\n",
      "Camera Pouch - Buy Camera Pouch,Digital Camera Case,Camera Cover Product on Alibaba.com\n",
      "\n",
      "\n",
      "found duplicate records\n",
      "2836\n",
      "7868\n",
      "Camera Pouch - Buy Camera Pouch,Digital Camera Case,Camera Cover Product on Alibaba.com\n",
      "\n",
      "\n",
      "found duplicate records\n",
      "2908\n",
      "5231\n",
      "2014 Hot Sale Fashionable Eva Case For Digital Camera - Buy Eva Cases For Digital Camera,Digital Camera Eva Case,Nylon Case For Samsung Digital Camera Product on Alibaba.com\n",
      "\n",
      "\n",
      "found duplicate records\n",
      "2908\n",
      "5557\n",
      "2014 Hot Sale Fashionable Eva Case For Digital Camera - Buy Eva Cases For Digital Camera,Digital Camera Eva Case,Nylon Case For Samsung Digital Camera Product on Alibaba.com\n",
      "\n",
      "\n",
      "found duplicate records\n",
      "2908\n",
      "7114\n",
      "2014 Hot Sale Fashionable Eva Case For Digital Camera - Buy Eva Cases For Digital Camera,Digital Camera Eva Case,Nylon Case For Samsung Digital Camera Product on Alibaba.com\n",
      "\n",
      "\n",
      "found duplicate records\n",
      "2960\n",
      "3933\n",
      "Croco Camera Case - Buy Camera Case,Digital Camera Case,Camera Bag Product on Alibaba.com\n",
      "\n",
      "\n",
      "found duplicate records\n",
      "2960\n",
      "5709\n",
      "Croco Camera Case - Buy Camera Case,Digital Camera Case,Camera Bag Product on Alibaba.com\n",
      "\n",
      "\n",
      "found duplicate records\n",
      "2960\n",
      "6346\n",
      "Croco Camera Case - Buy Camera Case,Digital Camera Case,Camera Bag Product on Alibaba.com\n",
      "\n",
      "\n",
      "found duplicate records\n",
      "3112\n",
      "6043\n",
      "Contemporary Hot Selling Digital Camera Waterproof Case/bag - Buy Digital Camera Waterproof Case/bag,Hot Selling Digital Camera Waterproof Case/bag,Contemporary Digital Camera Waterproof Case/bag Product on Alibaba.com\n",
      "\n",
      "\n",
      "found duplicate records\n",
      "3336\n",
      "7556\n",
      "Croco Fashion Camera Bag - Buy Camera Bag,Fashion Camera Bag,New Design Digital Camera Bag Product on Alibaba.com\n",
      "\n",
      "\n",
      "found duplicate records\n",
      "3733\n",
      "4661\n",
      "Camera Pouch - Buy Camera Pouch,Digital Camera Case,Camera Cover Product on Alibaba.com\n",
      "\n",
      "\n",
      "found duplicate records\n",
      "3733\n",
      "4895\n",
      "Camera Pouch - Buy Camera Pouch,Digital Camera Case,Camera Cover Product on Alibaba.com\n",
      "\n",
      "\n",
      "found duplicate records\n",
      "3733\n",
      "5889\n",
      "Camera Pouch - Buy Camera Pouch,Digital Camera Case,Camera Cover Product on Alibaba.com\n",
      "\n",
      "\n",
      "found duplicate records\n",
      "3733\n",
      "7868\n",
      "Camera Pouch - Buy Camera Pouch,Digital Camera Case,Camera Cover Product on Alibaba.com\n",
      "\n",
      "\n",
      "found duplicate records\n",
      "3756\n",
      "4784\n",
      "Vandalproof Case Low Lux Ip Camera,High Definition 960p Ip Camera - Buy Ip Camera,Low Lux Ip Camera,960p Ip Camera Product on Alibaba.com\n",
      "\n",
      "\n",
      "found duplicate records\n",
      "3933\n",
      "5709\n",
      "Croco Camera Case - Buy Camera Case,Digital Camera Case,Camera Bag Product on Alibaba.com\n",
      "\n",
      "\n",
      "found duplicate records\n",
      "3933\n",
      "6346\n",
      "Croco Camera Case - Buy Camera Case,Digital Camera Case,Camera Bag Product on Alibaba.com\n",
      "\n",
      "\n"
     ]
    },
    {
     "name": "stdout",
     "output_type": "stream",
     "text": [
      "found duplicate records\n",
      "4047\n",
      "4757\n",
      "Camera Case,Bag - Buy Camera Case,Digital Camera Bag,Compact Camera Case Product on Alibaba.com\n",
      "\n",
      "\n",
      "found duplicate records\n",
      "4047\n",
      "7896\n",
      "Camera Case,Bag - Buy Camera Case,Digital Camera Bag,Compact Camera Case Product on Alibaba.com\n",
      "\n",
      "\n",
      "found duplicate records\n",
      "4161\n",
      "5173\n",
      "2014 Hot Sale Fashionable Nylon Bag Case For Digital Camera - Buy Nylon,Digital Camera Nylon Case,Nylon Case For Samsung Digital Camera Product on Alibaba.com\n",
      "\n",
      "\n",
      "found duplicate records\n",
      "4161\n",
      "5390\n",
      "2014 Hot Sale Fashionable Nylon Bag Case For Digital Camera - Buy Nylon,Digital Camera Nylon Case,Nylon Case For Samsung Digital Camera Product on Alibaba.com\n",
      "\n",
      "\n",
      "found duplicate records\n",
      "4230\n",
      "5371\n",
      "Fashion Camera Pouch - Buy Camera Pouch,Digital Camera Bag,Compact Camera Case Product on Alibaba.com\n",
      "\n",
      "\n",
      "found duplicate records\n",
      "4230\n",
      "6390\n",
      "Fashion Camera Pouch - Buy Camera Pouch,Digital Camera Bag,Compact Camera Case Product on Alibaba.com\n",
      "\n",
      "\n",
      "found duplicate records\n",
      "4404\n",
      "4508\n",
      "2014 Genuine Leather Bag Case For Digital Camera - Buy Nylon,Digital Camera Nylon Case,Nylon Case For Samsung Digital Camera Product on Alibaba.com\n",
      "\n",
      "\n",
      "found duplicate records\n",
      "4413\n",
      "7133\n",
      "Hot Sales Dh-sd6aw220-hn Dahua Cheap Outdoor Ptz Camera - Buy Cheap Outdoor Ptz Camera,Dome Ir Ptz Camera,Ptz Ir Ip Camera Product on Alibaba.com\n",
      "\n",
      "\n",
      "found duplicate records\n",
      "4453\n",
      "7193\n",
      "720p Hd Waterproof Mini Touch Screen Digital Camera - Buy Touch Screen Camera,Waterproof Camera,New Camera Product on Alibaba.com\n",
      "\n",
      "\n",
      "found duplicate records\n",
      "4661\n",
      "4895\n",
      "Camera Pouch - Buy Camera Pouch,Digital Camera Case,Camera Cover Product on Alibaba.com\n",
      "\n",
      "\n",
      "found duplicate records\n",
      "4661\n",
      "5889\n",
      "Camera Pouch - Buy Camera Pouch,Digital Camera Case,Camera Cover Product on Alibaba.com\n",
      "\n",
      "\n",
      "found duplicate records\n",
      "4661\n",
      "7868\n",
      "Camera Pouch - Buy Camera Pouch,Digital Camera Case,Camera Cover Product on Alibaba.com\n",
      "\n",
      "\n",
      "found duplicate records\n",
      "4757\n",
      "7896\n",
      "Camera Case,Bag - Buy Camera Case,Digital Camera Bag,Compact Camera Case Product on Alibaba.com\n",
      "\n",
      "\n",
      "found duplicate records\n",
      "4895\n",
      "5889\n",
      "Camera Pouch - Buy Camera Pouch,Digital Camera Case,Camera Cover Product on Alibaba.com\n",
      "\n",
      "\n",
      "found duplicate records\n",
      "4895\n",
      "7868\n",
      "Camera Pouch - Buy Camera Pouch,Digital Camera Case,Camera Cover Product on Alibaba.com\n",
      "\n",
      "\n",
      "found duplicate records\n",
      "5069\n",
      "5294\n",
      "New Arrival!!kingsons Brand Digital Camera Bag - Buy Camera Bag,Camera Case Bag,Shoulder Camera Bag Product on Alibaba.com\n",
      "\n",
      "\n",
      "found duplicate records\n",
      "5173\n",
      "5390\n",
      "2014 Hot Sale Fashionable Nylon Bag Case For Digital Camera - Buy Nylon,Digital Camera Nylon Case,Nylon Case For Samsung Digital Camera Product on Alibaba.com\n",
      "\n",
      "\n",
      "found duplicate records\n",
      "5200\n",
      "6555\n",
      "Wholesale ZT-R110-WF CCTV P2P camera - Alibaba.com\n",
      "\n",
      "\n",
      "found duplicate records\n",
      "5231\n",
      "5557\n",
      "2014 Hot Sale Fashionable Eva Case For Digital Camera - Buy Eva Cases For Digital Camera,Digital Camera Eva Case,Nylon Case For Samsung Digital Camera Product on Alibaba.com\n",
      "\n",
      "\n",
      "found duplicate records\n",
      "5231\n",
      "7114\n",
      "2014 Hot Sale Fashionable Eva Case For Digital Camera - Buy Eva Cases For Digital Camera,Digital Camera Eva Case,Nylon Case For Samsung Digital Camera Product on Alibaba.com\n",
      "\n",
      "\n",
      "found duplicate records\n",
      "5363\n",
      "7213\n",
      "Camera Bag - Buy Camera Bag,Digital Camera Bag,Digital Camera Case Product on Alibaba.com\n",
      "\n",
      "\n",
      "found duplicate records\n",
      "5371\n",
      "6390\n",
      "Fashion Camera Pouch - Buy Camera Pouch,Digital Camera Bag,Compact Camera Case Product on Alibaba.com\n",
      "\n",
      "\n",
      "found duplicate records\n",
      "5429\n",
      "7941\n",
      "Croco Fashion Camera Case - Buy Digital Camera Case,Fashion Digital Camera Case,Camera Bag Product on Alibaba.com\n",
      "\n",
      "\n",
      "found duplicate records\n",
      "5557\n",
      "7114\n",
      "2014 Hot Sale Fashionable Eva Case For Digital Camera - Buy Eva Cases For Digital Camera,Digital Camera Eva Case,Nylon Case For Samsung Digital Camera Product on Alibaba.com\n",
      "\n",
      "\n",
      "found duplicate records\n",
      "5580\n",
      "7862\n",
      "Dummy Ir Camera - Buy Dummy Ir Camera,Micro Ir Led Camera,Invisible Ir Camera Product on Alibaba.com\n",
      "\n",
      "\n",
      "found duplicate records\n",
      "5709\n",
      "6346\n",
      "Croco Camera Case - Buy Camera Case,Digital Camera Case,Camera Bag Product on Alibaba.com\n",
      "\n",
      "\n",
      "found duplicate records\n",
      "5758\n",
      "6975\n",
      "1.\tnew Camera Case Neoprene Velcro For Compact Camera - Buy Unique Neoprene Camera Bags,Fashion Camera Bags,Practical Camera Bags Product on Alibaba.com\n",
      "\n",
      "\n",
      "found duplicate records\n",
      "5889\n",
      "7868\n",
      "Camera Pouch - Buy Camera Pouch,Digital Camera Case,Camera Cover Product on Alibaba.com\n",
      "\n",
      "\n",
      "found duplicate records\n",
      "6084\n",
      "6587\n",
      "720p/960p/1080p High Definition Analog Cctv Camera,1.0 Megapixel And 1.3 Megapixel Ahd Camera,Better Than Sdi Camera And Cvi - Buy Ir-bullet Water-proof Ahd Camera,Cheap Cctv Camera,Ir-bullet Water-proof Ahd Camera Product on Alibaba.com\n",
      "\n",
      "\n",
      "found duplicate records\n",
      "6084\n",
      "7526\n",
      "720p/960p/1080p High Definition Analog Cctv Camera,1.0 Megapixel And 1.3 Megapixel Ahd Camera,Better Than Sdi Camera And Cvi - Buy Ir-bullet Water-proof Ahd Camera,Cheap Cctv Camera,Ir-bullet Water-proof Ahd Camera Product on Alibaba.com\n",
      "\n",
      "\n",
      "found duplicate records\n",
      "6468\n",
      "6861\n",
      "Croco Fashion Neoprene Camera Bag - Buy Camera Bag,Fashion Camera Bag,New Design Digital Camera Bag Product on Alibaba.com\n",
      "\n",
      "\n",
      "found duplicate records\n",
      "6587\n",
      "7526\n",
      "720p/960p/1080p High Definition Analog Cctv Camera,1.0 Megapixel And 1.3 Megapixel Ahd Camera,Better Than Sdi Camera And Cvi - Buy Ir-bullet Water-proof Ahd Camera,Cheap Cctv Camera,Ir-bullet Water-proof Ahd Camera Product on Alibaba.com\n",
      "\n",
      "\n",
      "found duplicate records\n",
      "6720\n",
      "7348\n",
      "Digital Digital Camera Gears Camera Slr Bag Case - Buy Digital Camera Slr Bag Case,Digital Camera Gears Bag,Digital Camera Gears Case Product on Alibaba.com\n",
      "\n",
      "\n",
      "found duplicate records\n",
      "6887\n",
      "7888\n",
      "Pc Case For Canon Digital Camera,Eco-friendly Rohs Standard - Buy Case For Canon Digital Camera,Pc Case For Canon Digital Camera,Case For Canon Digital Camera Product on Alibaba.com\n",
      "\n",
      "\n",
      "found duplicate records\n",
      "7365\n",
      "7414\n",
      "Ks Silkscreen Flower Pattern Neoprene Bag Case For Digital Camera - Buy Neoprene Camera Bag Case,Camera Bag Inner Case,Silkscreen Camera Bag Case Product on Alibaba.com\n",
      "\n",
      "\n"
     ]
    }
   ],
   "source": [
    "for i in range(len(titlesList_source2)):\n",
    "    for j in range(i+1, len(titlesList_source2)):\n",
    "        if titlesList_source2[i] == titlesList_source2[j]:\n",
    "            print('found duplicate records')\n",
    "            print(i)\n",
    "            print(j)\n",
    "            print(titlesList_source2[i])\n",
    "            print()\n",
    "            print()"
   ]
  },
  {
   "cell_type": "code",
   "execution_count": 59,
   "metadata": {},
   "outputs": [
    {
     "data": {
      "text/plain": [
       "7892"
      ]
     },
     "execution_count": 59,
     "metadata": {},
     "output_type": "execute_result"
    }
   ],
   "source": [
    "len(embedding_source2)"
   ]
  },
  {
   "cell_type": "code",
   "execution_count": 75,
   "metadata": {},
   "outputs": [
    {
     "data": {
      "text/plain": [
       "7892"
      ]
     },
     "execution_count": 75,
     "metadata": {},
     "output_type": "execute_result"
    }
   ],
   "source": [
    "len(set(titlesList_source2))"
   ]
  },
  {
   "cell_type": "code",
   "execution_count": 77,
   "metadata": {},
   "outputs": [
    {
     "data": {
      "text/plain": [
       "4552012"
      ]
     },
     "execution_count": 77,
     "metadata": {},
     "output_type": "execute_result"
    }
   ],
   "source": [
    "import itertools\n",
    "\n",
    "titlePairs = list(itertools.product(titlesList_source1, titlesList_source2))\n",
    "len(embeddingPairs)"
   ]
  },
  {
   "cell_type": "code",
   "execution_count": 79,
   "metadata": {},
   "outputs": [
    {
     "data": {
      "text/plain": [
       "tuple"
      ]
     },
     "execution_count": 79,
     "metadata": {},
     "output_type": "execute_result"
    }
   ],
   "source": [
    "type(titlePairs[0])"
   ]
  },
  {
   "cell_type": "code",
   "execution_count": 80,
   "metadata": {},
   "outputs": [
    {
     "data": {
      "text/plain": [
       "str"
      ]
     },
     "execution_count": 80,
     "metadata": {},
     "output_type": "execute_result"
    }
   ],
   "source": [
    "type(titlePairs[0][1])"
   ]
  },
  {
   "cell_type": "code",
   "execution_count": 100,
   "metadata": {},
   "outputs": [],
   "source": [
    "THRESHOLD = 0.9\n",
    "\n",
    "def isMatching(firstTitle, secondTitle, threshold):\n",
    "    firstEmbedding = embedding_source1[firstTitle].reshape(1,-1)\n",
    "    secondEmbedding = embedding_source2[secondTitle].reshape(1,-1)\n",
    "    similarityScore = cosine_similarity(firstEmbedding,secondEmbedding)[0][0]\n",
    "    return similarityScore > threshold"
   ]
  },
  {
   "cell_type": "code",
   "execution_count": 122,
   "metadata": {},
   "outputs": [
    {
     "data": {
      "text/plain": [
       "2000"
      ]
     },
     "execution_count": 122,
     "metadata": {},
     "output_type": "execute_result"
    }
   ],
   "source": [
    "# for testing purpose\n",
    "sampledTitlePairs = random.sample(titlePairs, 2000)\n",
    "len(sampledTitlePairs)"
   ]
  },
  {
   "cell_type": "code",
   "execution_count": 123,
   "metadata": {},
   "outputs": [],
   "source": [
    "# edit this line (replace sampleTitlePairs with titlePairs)\n",
    "filteredTitlePairs = list(filter(lambda x: not isMatching(x[0],x[1],THRESHOLD), sampledTitlePairs))"
   ]
  },
  {
   "cell_type": "code",
   "execution_count": 124,
   "metadata": {},
   "outputs": [
    {
     "data": {
      "text/plain": [
       "2000"
      ]
     },
     "execution_count": 124,
     "metadata": {},
     "output_type": "execute_result"
    }
   ],
   "source": [
    "len(filteredTitlePairs)"
   ]
  },
  {
   "cell_type": "code",
   "execution_count": 115,
   "metadata": {},
   "outputs": [
    {
     "name": "stdout",
     "output_type": "stream",
     "text": [
      "B+W 52mm F-PRO UV MRC (010M) Brass Filters\n",
      "\n",
      "Hikvision Security Camera Mini Dome Network Camera Ds-2cd2132-i - Buy Hikvision Security Camera,Hikvision Ip Network Camera,Hikvision Network Camera Product on Alibaba.com\n"
     ]
    }
   ],
   "source": [
    "firstTestTitle, secondTestTitle = filteredTitlePairs[0]\n",
    "print(firstTestTitle)\n",
    "print()\n",
    "print(secondTestTitle)"
   ]
  },
  {
   "cell_type": "code",
   "execution_count": 125,
   "metadata": {},
   "outputs": [
    {
     "data": {
      "text/plain": [
       "False"
      ]
     },
     "execution_count": 125,
     "metadata": {},
     "output_type": "execute_result"
    }
   ],
   "source": [
    "isMatching(firstTestTitle, secondTestTitle, THRESHOLD)"
   ]
  },
  {
   "cell_type": "code",
   "execution_count": 135,
   "metadata": {},
   "outputs": [
    {
     "name": "stdout",
     "output_type": "stream",
     "text": [
      "244\n",
      "\n",
      "['Nikon Coolpix S6800 Digital Camera (Black) | UK Digital Cameras', 'NIKON COOLPIX S6800 RED 16MP 12X 32182', 1]\n"
     ]
    }
   ],
   "source": [
    "csvData = []\n",
    "\n",
    "# append matching records\n",
    "for matchingRow in positives_samples:\n",
    "    row = [matchingRow[0], matchingRow[1], matchingRow[2]]\n",
    "    csvData.append(row)\n",
    "\n",
    "print(len(csvData))\n",
    "print()\n",
    "print(csvData[0])"
   ]
  },
  {
   "cell_type": "code",
   "execution_count": 137,
   "metadata": {},
   "outputs": [
    {
     "name": "stdout",
     "output_type": "stream",
     "text": [
      "4244\n",
      "\n",
      "['Nikon DF Kit with 50mm f/1.8G Lens Digital SLR Camera - Black', 'Korea Made Action Picture Video Camera Hd Quality - Buy Action Camera Hd 1080,Action Camera,Sport Camera Product on Alibaba.com', 0]\n"
     ]
    }
   ],
   "source": [
    "# append non-matching rows\n",
    "for nonMatchingRow in filteredTitlePairs:\n",
    "    row = [nonMatchingRow[0], nonMatchingRow[1], 0]\n",
    "    csvData.append(row)\n",
    "    \n",
    "print(len(csvData))\n",
    "print()\n",
    "print(csvData[2243])"
   ]
  },
  {
   "cell_type": "code",
   "execution_count": 138,
   "metadata": {},
   "outputs": [],
   "source": [
    "random.shuffle(csvData)"
   ]
  },
  {
   "cell_type": "code",
   "execution_count": 144,
   "metadata": {},
   "outputs": [],
   "source": [
    "import csv \n",
    "\n",
    "csv.register_dialect('myDialect', quoting=csv.QUOTE_ALL, skipinitialspace=True)\n",
    "\n",
    "with open('dataset.csv', 'w') as f:\n",
    "    writer = csv.writer(f, dialect='myDialect')\n",
    "    writer.writerow(['attributi_x', 'attributi_y', 'label'])\n",
    "    for row in csvData:\n",
    "        writer.writerow(row)"
   ]
  }
 ],
 "metadata": {
  "kernelspec": {
   "display_name": "Python 3",
   "language": "python",
   "name": "python3"
  },
  "language_info": {
   "codemirror_mode": {
    "name": "ipython",
    "version": 3
   },
   "file_extension": ".py",
   "mimetype": "text/x-python",
   "name": "python",
   "nbconvert_exporter": "python",
   "pygments_lexer": "ipython3",
   "version": "3.7.3"
  }
 },
 "nbformat": 4,
 "nbformat_minor": 2
}
